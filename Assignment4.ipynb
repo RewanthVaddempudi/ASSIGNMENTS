{
 "cells": [
  {
   "cell_type": "code",
   "execution_count": null,
   "metadata": {
    "id": "7iW1xJuqczoN"
   },
   "outputs": [],
   "source": []
  },
  {
   "cell_type": "markdown",
   "metadata": {
    "id": "_h-3hCWfc4aA"
   },
   "source": [
    "1. Write a Python program to check if a given number is positive or negative."
   ]
  },
  {
   "cell_type": "code",
   "execution_count": null,
   "metadata": {
    "id": "Ko77tFvIc8U9"
   },
   "outputs": [],
   "source": [
    "number = float(input(\"Enter a number: \"))\n",
    "if number > 0:\n",
    "    print(\"The number is positive.\")\n",
    "elif number < 0:\n",
    "    print(\"The number is negative.\")\n",
    "else:\n",
    "    print(\"The number is zero.\")\n"
   ]
  },
  {
   "cell_type": "markdown",
   "metadata": {
    "id": "p_A4QS38dW-8"
   },
   "source": [
    "2. Create a program that determines if a person is eligible to vote based on their age."
   ]
  },
  {
   "cell_type": "code",
   "execution_count": null,
   "metadata": {
    "id": "kzVam8ExdZ4S"
   },
   "outputs": [],
   "source": [
    "age = int(input(\"Enter your age: \"))\n",
    "if age >= 18:\n",
    "    print(\"You are eligible to vote.\")\n",
    "else:\n",
    "    print(\"You are not eligible to vote.\")\n"
   ]
  },
  {
   "cell_type": "markdown",
   "metadata": {
    "id": "UvkMqlSUdhmI"
   },
   "source": [
    "3. Develop a program to find the maximum of two numbers using if-else statements."
   ]
  },
  {
   "cell_type": "code",
   "execution_count": null,
   "metadata": {
    "id": "OLgkymuCdrh8"
   },
   "outputs": [],
   "source": [
    "num1 = float(input(\"Enter the first number: \"))\n",
    "num2 = float(input(\"Enter the second number: \"))\n",
    "if num1 > num2:\n",
    "    print(f\"The maximum number is {num1}.\")\n",
    "elif num2 > num1:\n",
    "    print(f\"The maximum number is {num2}.\")\n",
    "else:\n",
    "    print(\"Both numbers are equal.\")\n"
   ]
  },
  {
   "cell_type": "markdown",
   "metadata": {
    "id": "7ucukB1Jd6_X"
   },
   "source": [
    "4. Write a Python script to classify a given year as a leap year or not."
   ]
  },
  {
   "cell_type": "code",
   "execution_count": null,
   "metadata": {
    "id": "dbioJm9Wd-8J"
   },
   "outputs": [],
   "source": [
    "year = int(input(\"Enter a year: \"))\n",
    "if (year % 4 == 0 and year % 100 != 0) or (year % 400 == 0):\n",
    "    print(f\"{year} is a leap year.\")\n",
    "else:\n",
    "    print(f\"{year} is not a leap year.\")\n"
   ]
  },
  {
   "cell_type": "markdown",
   "metadata": {
    "id": "fZM1CJ2zeGu_"
   },
   "source": [
    "5. Create a program that checks whether a character is a vowel or a consonant."
   ]
  },
  {
   "cell_type": "code",
   "execution_count": null,
   "metadata": {
    "id": "HxW0jivseJTC"
   },
   "outputs": [],
   "source": [
    "char = input(\"Enter a character: \").lower()\n",
    "if char in 'aeiou':\n",
    "    print(f\"{char} is a vowel.\")\n",
    "elif char.isalpha():\n",
    "    print(f\"{char} is a consonant.\")\n",
    "else:\n",
    "    print(\"Invalid input! Please enter an alphabetic character.\")\n"
   ]
  },
  {
   "cell_type": "markdown",
   "metadata": {
    "id": "9ixq_LUBeRoN"
   },
   "source": [
    "6. Implement a program to determine whether a given number is even or odd."
   ]
  },
  {
   "cell_type": "code",
   "execution_count": null,
   "metadata": {
    "id": "tnVMY9jueVtI"
   },
   "outputs": [],
   "source": [
    "number = int(input(\"Enter a number: \"))\n",
    "if number % 2 == 0:\n",
    "    print(f\"{number} is an even number.\")\n",
    "else:\n",
    "    print(f\"{number} is an odd number.\")\n"
   ]
  },
  {
   "cell_type": "markdown",
   "metadata": {
    "id": "LLKWEC0KecpS"
   },
   "source": [
    "7. Write a Python function to calculate the absolute value of a number without using the `abs()` function."
   ]
  },
  {
   "cell_type": "code",
   "execution_count": null,
   "metadata": {
    "id": "-JXfDE1Oeft1"
   },
   "outputs": [],
   "source": [
    "def absolute_value(num):\n",
    "    if num < 0:\n",
    "        return -num\n",
    "    else:\n",
    "        return num\n",
    "number = float(input(\"Enter a number: \"))\n",
    "print(f\"The absolute value of {number} is {absolute_value(number)}.\")\n"
   ]
  },
  {
   "cell_type": "markdown",
   "metadata": {
    "id": "L_JqZLYbepBk"
   },
   "source": [
    "8. Develop a program that determines the largest of three given numbers using if-else statements."
   ]
  },
  {
   "cell_type": "code",
   "execution_count": null,
   "metadata": {
    "id": "bmBBzM3Iers4"
   },
   "outputs": [],
   "source": [
    "num1 = float(input(\"Enter the first number: \"))\n",
    "num2 = float(input(\"Enter the second number: \"))\n",
    "num3 = float(input(\"Enter the third number: \"))\n",
    "if num1 >= num2 and num1 >= num3:\n",
    "    largest = num1\n",
    "elif num2 >= num1 and num2 >= num3:\n",
    "    largest = num2\n",
    "else:\n",
    "    largest = num3\n",
    "print(f\"The largest number is: {largest}\")\n"
   ]
  },
  {
   "cell_type": "markdown",
   "metadata": {
    "id": "7DQ4gfqNfBYW"
   },
   "source": [
    "9. Create a program that checks if a given string is a palindrome."
   ]
  },
  {
   "cell_type": "code",
   "execution_count": null,
   "metadata": {
    "id": "IuEO9qpzfGlY"
   },
   "outputs": [],
   "source": [
    "input_string = input(\"Enter a string: \")\n",
    "cleaned_string = input_string.replace(\" \", \"\").lower()\n",
    "if cleaned_string == cleaned_string[::-1]:\n",
    "    print(\"The string is a palindrome.\")\n",
    "else:\n",
    "    print(\"The string is not a palindrome.\")\n"
   ]
  },
  {
   "cell_type": "markdown",
   "metadata": {
    "id": "m9tuFsrbfglk"
   },
   "source": [
    "10. Write a Python program to calculate the grade based on a student's score."
   ]
  },
  {
   "cell_type": "code",
   "execution_count": null,
   "metadata": {
    "id": "Uch5U-DefhZX"
   },
   "outputs": [],
   "source": [
    "score = float(input(\"Enter the student's score: \"))\n",
    "if score >= 90:\n",
    "    grade = 'A'\n",
    "elif score >= 80:\n",
    "    grade = 'B'\n",
    "elif score >= 70:\n",
    "    grade = 'C'\n",
    "elif score >= 60:\n",
    "    grade = 'D'\n",
    "else:\n",
    "    grade = 'F'\n",
    "print(f\"The student's grade is: {grade}\")\n"
   ]
  },
  {
   "cell_type": "markdown",
   "metadata": {
    "id": "13Kf_OrHfrIe"
   },
   "source": [
    "Nested If-Else Statements:"
   ]
  },
  {
   "cell_type": "markdown",
   "metadata": {
    "id": "MLfEBfSPfzRb"
   },
   "source": [
    "11. Write a program to find the largest among three numbers using nested if-else statements."
   ]
  },
  {
   "cell_type": "code",
   "execution_count": null,
   "metadata": {
    "id": "q6hlUlmuf4Q6"
   },
   "outputs": [],
   "source": [
    "num1 = float(input(\"Enter the first number: \"))\n",
    "num2 = float(input(\"Enter the second number: \"))\n",
    "num3 = float(input(\"Enter the third number: \"))\n",
    "if num1 >= num2:\n",
    "    if num1 >= num3:\n",
    "        largest = num1\n",
    "    else:\n",
    "        largest = num3\n",
    "else:\n",
    "    if num2 >= num3:\n",
    "        largest = num2\n",
    "    else:\n",
    "        largest = num3\n",
    "print(f\"The largest number is: {largest}\")\n"
   ]
  },
  {
   "cell_type": "markdown",
   "metadata": {
    "id": "vY6zHz0UgHhN"
   },
   "source": [
    "12. Implement a program to determine if a triangle is equilateral, isosceles, or scalene."
   ]
  },
  {
   "cell_type": "code",
   "execution_count": null,
   "metadata": {
    "id": "SJChvZ6WgKv-"
   },
   "outputs": [],
   "source": [
    "side1 = float(input(\"Enter the length of the first side: \"))\n",
    "side2 = float(input(\"Enter the length of the second side: \"))\n",
    "side3 = float(input(\"Enter the length of the third side: \"))\n",
    "if side1 == side2 == side3:\n",
    "    triangle_type = \"Equilateral\"\n",
    "elif side1 == side2 or side2 == side3 or side1 == side3:\n",
    "    triangle_type = \"Isosceles\"\n",
    "else:\n",
    "    triangle_type = \"Scalene\"\n",
    "print(f\"The triangle is {triangle_type}.\")\n"
   ]
  },
  {
   "cell_type": "markdown",
   "metadata": {
    "id": "5HWgeDXxgTcn"
   },
   "source": [
    "13. Develop a program that checks if a year is a leap year and also if it is a century year."
   ]
  },
  {
   "cell_type": "code",
   "execution_count": null,
   "metadata": {
    "id": "YOf5qPBXgWIt"
   },
   "outputs": [],
   "source": [
    "year = int(input(\"Enter a year: \"))\n",
    "if year % 100 == 0:\n",
    "    century_year = True\n",
    "else:\n",
    "    century_year = False\n",
    "if (year % 4 == 0 and year % 100 != 0) or (year % 400 == 0):\n",
    "    leap_year = True\n",
    "else:\n",
    "    leap_year = False\n",
    "if leap_year:\n",
    "    print(f\"{year} is a leap year.\")\n",
    "else:\n",
    "    print(f\"{year} is not a leap year.\")\n",
    "\n",
    "if century_year:\n",
    "    print(f\"{year} is a century year.\")\n",
    "else:\n",
    "    print(f\"{year} is not a century year.\")\n"
   ]
  },
  {
   "cell_type": "markdown",
   "metadata": {
    "id": "8_uXw0yfghGZ"
   },
   "source": [
    "14. Write a Python script to determine if a number is positive, negative, or zero."
   ]
  },
  {
   "cell_type": "code",
   "execution_count": null,
   "metadata": {
    "id": "MTsDjorBglQ7"
   },
   "outputs": [],
   "source": [
    "num = float(input(\"Enter a number: \"))\n",
    "if num > 0:\n",
    "    print(\"The number is positive.\")\n",
    "elif num < 0:\n",
    "    print(\"The number is negative.\")\n",
    "else:\n",
    "    print(\"The number is zero.\")\n"
   ]
  },
  {
   "cell_type": "markdown",
   "metadata": {
    "id": "FdD88HWBgwXh"
   },
   "source": [
    "15. Create a program to check if a person is a teenager (between 13 and 19 years old)."
   ]
  },
  {
   "cell_type": "code",
   "execution_count": null,
   "metadata": {
    "id": "do0vCA0fgzGP"
   },
   "outputs": [],
   "source": [
    "def check_teenager(age):\n",
    "    if 13 <= age <= 19:\n",
    "        return \"The person is a teenager.\"\n",
    "    else:\n",
    "        return \"The person is not a teenager.\"\n",
    "age = int(input(\"Enter the person's age: \"))\n",
    "print(check_teenager(age))\n"
   ]
  },
  {
   "cell_type": "markdown",
   "metadata": {
    "id": "KFGHuCavhGf5"
   },
   "source": [
    "16. Develop a program that determines the type of angle based on its measure (acute, obtuse, or right)."
   ]
  },
  {
   "cell_type": "code",
   "execution_count": null,
   "metadata": {
    "id": "LyNJq5chhKYv"
   },
   "outputs": [],
   "source": [
    "def determine_angle_type(angle):\n",
    "    if angle < 90:\n",
    "        return \"The angle is acute.\"\n",
    "    elif angle == 90:\n",
    "        return \"The angle is right.\"\n",
    "    elif angle > 90 and angle < 180:\n",
    "        return \"The angle is obtuse.\"\n",
    "    else:\n",
    "        return \"Invalid angle. Angles must be between 0 and 180 degrees.\"\n",
    "angle = float(input(\"Enter the angle in degrees: \"))\n",
    "print(determine_angle_type(angle))\n"
   ]
  },
  {
   "cell_type": "markdown",
   "metadata": {
    "id": "9uiLJZ9ohR92"
   },
   "source": [
    "17. Write a Python program to calculate the roots of a quadratic equation."
   ]
  },
  {
   "cell_type": "code",
   "execution_count": null,
   "metadata": {
    "id": "swfNkPR8hWHI"
   },
   "outputs": [],
   "source": [
    "import cmath\n",
    "\n",
    "def calculate_roots(a, b, c):\n",
    "    discriminant = b**2 - 4*a*c\n",
    "    root1 = (-b + cmath.sqrt(discriminant)) / (2 * a)\n",
    "    root2 = (-b - cmath.sqrt(discriminant)) / (2 * a)\n",
    "\n",
    "    return root1, root2\n",
    "a = float(input(\"Enter coefficient a: \"))\n",
    "b = float(input(\"Enter coefficient b: \"))\n",
    "c = float(input(\"Enter coefficient c: \"))\n",
    "\n",
    "root1, root2 = calculate_roots(a, b, c)\n",
    "\n",
    "print(f\"The roots of the quadratic equation are {root1} and {root2}\")\n"
   ]
  },
  {
   "cell_type": "markdown",
   "metadata": {
    "id": "RP-pgjethhCR"
   },
   "source": [
    "18. Implement a program to determine the day of the week based on a user-provided number (1 for Monday, 2\n",
    "for Tuesday, etc.)."
   ]
  },
  {
   "cell_type": "code",
   "execution_count": null,
   "metadata": {
    "id": "qvs1SWQVhkbF"
   },
   "outputs": [],
   "source": [
    "def get_day_of_week(day_number):\n",
    "    days = [\"Monday\", \"Tuesday\", \"Wednesday\", \"Thursday\", \"Friday\", \"Saturday\", \"Sunday\"]\n",
    "\n",
    "    if 1 <= day_number <= 7:\n",
    "        return days[day_number - 1]\n",
    "    else:\n",
    "        return \"Invalid input. Please enter a number between 1 and 7.\"\n",
    "day_number = int(input(\"Enter a number between 1 and 7 to find the day of the week: \"))\n",
    "print(get_day_of_week(day_number))\n"
   ]
  },
  {
   "cell_type": "markdown",
   "metadata": {
    "id": "lza9qllThsEA"
   },
   "source": [
    "19. Create a program that determines if a year is a leap year and also if it is evenly divisible by 400."
   ]
  },
  {
   "cell_type": "code",
   "execution_count": null,
   "metadata": {
    "id": "CG-5trz2hv8q"
   },
   "outputs": [],
   "source": [
    "def is_leap_year(year):\n",
    "    if year % 400 == 0:\n",
    "        return True\n",
    "    elif year % 100 == 0:\n",
    "        return False\n",
    "    elif year % 4 == 0:\n",
    "        return True\n",
    "    else:\n",
    "        return False\n",
    "year = int(input(\"Enter a year: \"))\n",
    "if is_leap_year(year):\n",
    "    print(f\"{year} is a leap year.\")\n",
    "else:\n",
    "    print(f\"{year} is not a leap year.\")\n"
   ]
  },
  {
   "cell_type": "markdown",
   "metadata": {
    "id": "qp04NCWGh9-K"
   },
   "source": [
    "20. Develop a program that checks if a given number is prime or not using nested if-else statements."
   ]
  },
  {
   "cell_type": "code",
   "execution_count": null,
   "metadata": {
    "id": "E3ZICu-HiBug"
   },
   "outputs": [],
   "source": [
    "def is_prime(number):\n",
    "    if number <= 1:\n",
    "        return \"The number is not prime.\"\n",
    "    else:\n",
    "        if number == 2:\n",
    "            return \"The number is prime.\"\n",
    "        else:\n",
    "            if number % 2 == 0:\n",
    "                return \"The number is not prime.\"\n",
    "            else:\n",
    "                for i in range(3, int(number**0.5) + 1, 2):\n",
    "                    if number % i == 0:\n",
    "                        return \"The number is not prime.\"\n",
    "                return \"The number is prime.\"\n",
    "number = int(input(\"Enter a number: \"))\n",
    "print(is_prime(number))\n"
   ]
  },
  {
   "cell_type": "markdown",
   "metadata": {
    "id": "RZC2gtpzPqVX"
   },
   "source": [
    "Elif Statements:"
   ]
  },
  {
   "cell_type": "markdown",
   "metadata": {
    "id": "l-mxOg8SPrIj"
   },
   "source": [
    "21. Write a Python program to assign grades based on different ranges of scores using elif statements."
   ]
  },
  {
   "cell_type": "code",
   "execution_count": null,
   "metadata": {
    "id": "AZS9NAKyPvkJ"
   },
   "outputs": [],
   "source": [
    "def assign_grade(score):\n",
    "    if score >= 90:\n",
    "        grade = \"A\"\n",
    "    elif score >= 80:\n",
    "        grade = \"B\"\n",
    "    elif score >= 70:\n",
    "        grade = \"C\"\n",
    "    elif score >= 60:\n",
    "        grade = \"D\"\n",
    "    else:\n",
    "        grade = \"F\"\n",
    "    return grade\n",
    "scores = [95, 82, 67, 58, 74, 89]\n",
    "grades = [assign_grade(score) for score in scores]\n",
    "for score, grade in zip(scores, grades):\n",
    "    print(f\"Score: {score}, Grade: {grade}\")\n"
   ]
  },
  {
   "cell_type": "markdown",
   "metadata": {
    "id": "D4GrT7h4P7Z3"
   },
   "source": [
    "22. Implement a program to determine the type of a triangle based on its angles."
   ]
  },
  {
   "cell_type": "code",
   "execution_count": null,
   "metadata": {
    "id": "jhsUhNDJQsEd"
   },
   "outputs": [],
   "source": [
    "def triangle_type(angle1, angle2, angle3):\n",
    "    if angle1 + angle2 + angle3 != 180:\n",
    "        return \"Not a valid triangle\"\n",
    "    elif angle1 == 90 or angle2 == 90 or angle3 == 90:\n",
    "        return \"Right Triangle\"\n",
    "    elif angle1 > 90 or angle2 > 90 or angle3 > 90:\n",
    "        return \"Obtuse Triangle\"\n",
    "    else:\n",
    "        return \"Acute Triangle\"\n",
    "angles = [\n",
    "    (60, 60, 60),\n",
    "    (90, 45, 45),\n",
    "    (120, 30, 30),\n",
    "    (80, 60, 50),\n",
    "]\n",
    "for angle_set in angles:\n",
    "    result = triangle_type(*angle_set)\n",
    "    print(f\"Angles: {angle_set}, Type: {result}\")\n"
   ]
  },
  {
   "cell_type": "markdown",
   "metadata": {
    "id": "Mu3aQ7VKQVDo"
   },
   "source": [
    "23. Develop a program to categorize a given person's BMI into underweight, normal, overweight, or obese using\n",
    "elif statements."
   ]
  },
  {
   "cell_type": "code",
   "execution_count": null,
   "metadata": {
    "id": "adgwogAAQY0W"
   },
   "outputs": [],
   "source": [
    "def categorize_bmi(weight, height):\n",
    "    bmi = weight / (height ** 2)\n",
    "    if bmi < 18.5:\n",
    "        category = \"Underweight\"\n",
    "    elif 18.5 <= bmi < 24.9:\n",
    "        category = \"Normal weight\"\n",
    "    elif 25 <= bmi < 29.9:\n",
    "        category = \"Overweight\"\n",
    "    else:\n",
    "        category = \"Obese\"\n",
    "\n",
    "    return bmi, category\n",
    "person_data = [\n",
    "    {\"weight\": 50, \"height\": 1.6},\n",
    "    {\"weight\": 65, \"height\": 1.7},\n",
    "    {\"weight\": 80, \"height\": 1.7},\n",
    "    {\"weight\": 95, \"height\": 1.6},\n",
    "]\n",
    "for person in person_data:\n",
    "    weight = person[\"weight\"]\n",
    "    height = person[\"height\"]\n",
    "    bmi, category = categorize_bmi(weight, height)\n",
    "    print(f\"Weight: {weight} kg, Height: {height} m -> BMI: {bmi:.2f}, Category: {category}\")\n"
   ]
  },
  {
   "cell_type": "markdown",
   "metadata": {
    "id": "dZJe9WxxRFWW"
   },
   "source": [
    "24. Create a program that determines whether a given number is positive, negative, or zero using elif\n",
    "statements."
   ]
  },
  {
   "cell_type": "code",
   "execution_count": null,
   "metadata": {
    "id": "SNYEWv1xRNsh"
   },
   "outputs": [],
   "source": [
    "def check_number_type(num):\n",
    "    if num > 0:\n",
    "        return \"Positive\"\n",
    "    elif num < 0:\n",
    "        return \"Negative\"\n",
    "    else:\n",
    "        return \"Zero\"\n",
    "numbers = [10, -5, 0, 23, -42]\n",
    "for num in numbers:\n",
    "    result = check_number_type(num)\n",
    "    print(f\"Number: {num}, Type: {result}\")\n"
   ]
  },
  {
   "cell_type": "markdown",
   "metadata": {
    "id": "KgJqR_qaRZnT"
   },
   "source": [
    "25. Write a Python script to determine the type of a character (uppercase, lowercase, or special) using elif\n",
    "statements."
   ]
  },
  {
   "cell_type": "code",
   "execution_count": null,
   "metadata": {
    "id": "g0eiH9JHRc3a"
   },
   "outputs": [],
   "source": [
    "def character_type(char):\n",
    "    if char.isupper():\n",
    "        return \"Uppercase letter\"\n",
    "    elif char.islower():\n",
    "        return \"Lowercase letter\"\n",
    "    elif char.isdigit():\n",
    "        return \"Digit\"\n",
    "    else:\n",
    "        return \"Special character\"\n",
    "characters = ['A', 'z', '5', '#', 'b', 'M', '!']\n",
    "for char in characters:\n",
    "    result = character_type(char)\n",
    "    print(f\"Character: '{char}', Type: {result}\")\n"
   ]
  },
  {
   "cell_type": "markdown",
   "metadata": {
    "id": "idbWym0QRoxa"
   },
   "source": [
    "26. Implement a program to calculate the discounted price based on different purchase amounts using elif\n",
    "statements."
   ]
  },
  {
   "cell_type": "code",
   "execution_count": null,
   "metadata": {
    "id": "hUFachYnRrXP"
   },
   "outputs": [],
   "source": [
    "purchase_amount = float(input(\"Enter the purchase amount: \"))\n",
    "if purchase_amount >= 500:\n",
    "    discount = 0.2\n",
    "elif purchase_amount >= 200:\n",
    "    discount = 0.15\n",
    "elif purchase_amount >= 100:\n",
    "    discount = 0.1\n",
    "else:\n",
    "    discount = 0.05\n",
    "discount_amount = purchase_amount * discount\n",
    "final_price = purchase_amount - discount_amount\n",
    "print(f\"Original Price: ${purchase_amount:.2f}\")\n",
    "print(f\"Discount Applied: {discount * 100}%\")\n",
    "print(f\"Discount Amount: ${discount_amount:.2f}\")\n",
    "print(f\"Final Price: ${final_price:.2f}\")\n"
   ]
  },
  {
   "cell_type": "markdown",
   "metadata": {
    "id": "MTnrXYrTSNpk"
   },
   "source": [
    "27. Develop a program to calculate the electricity bill based on different consumption slabs using elif\n",
    "statements."
   ]
  },
  {
   "cell_type": "code",
   "execution_count": null,
   "metadata": {
    "id": "SvuBrlMSSRCM"
   },
   "outputs": [],
   "source": [
    "consumption = float(input(\"Enter the electricity consumption in kWh: \"))\n",
    "if consumption <= 100:\n",
    "    rate = 1.5\n",
    "elif consumption <= 300:\n",
    "    rate = 2.0\n",
    "elif consumption <= 500:\n",
    "    rate = 3.0\n",
    "else:\n",
    "    rate = 5.0\n",
    "total_bill = consumption * rate\n",
    "print(f\"Electricity Consumption: {consumption:.2f} kWh\")\n",
    "print(f\"Rate Applied: ${rate:.2f} per kWh\")\n",
    "print(f\"Total Electricity Bill: ${total_bill:.2f}\")\n"
   ]
  },
  {
   "cell_type": "markdown",
   "metadata": {
    "id": "zspRRNcbSimw"
   },
   "source": [
    "28. Create a program to determine the type of quadrilateral based on its angles and sides using elif\n",
    "statements."
   ]
  },
  {
   "cell_type": "code",
   "execution_count": null,
   "metadata": {
    "id": "ecuipIdgSlnL"
   },
   "outputs": [],
   "source": [
    "side1 = float(input(\"Enter the length of side 1: \"))\n",
    "side2 = float(input(\"Enter the length of side 2: \"))\n",
    "side3 = float(input(\"Enter the length of side 3: \"))\n",
    "side4 = float(input(\"Enter the length of side 4: \"))\n",
    "\n",
    "angle1 = float(input(\"Enter angle 1 (in degrees): \"))\n",
    "angle2 = float(input(\"Enter angle 2 (in degrees): \"))\n",
    "angle3 = float(input(\"Enter angle 3 (in degrees): \"))\n",
    "angle4 = float(input(\"Enter angle 4 (in degrees): \"))\n",
    "\n",
    "if angle1 + angle2 + angle3 + angle4 != 360:\n",
    "    print(\"The angles do not add up to 360°. This is not a valid quadrilateral.\")\n",
    "else:\n",
    "    if side1 == side2 == side3 == side4 and angle1 == angle2 == angle3 == angle4 == 90:\n",
    "        print(\"This is a Square.\")\n",
    "    elif side1 == side3 and side2 == side4 and angle1 == angle2 == angle3 == angle4 == 90:\n",
    "        print(\"This is a Rectangle.\")\n",
    "    elif side1 == side2 == side3 == side4:\n",
    "        print(\"This is a Rhombus.\")\n",
    "    elif side1 == side3 and side2 == side4:\n",
    "        print(\"This is a Parallelogram.\")\n",
    "    elif angle1 == angle3 and angle2 == angle4:\n",
    "        print(\"This is a Kite.\")\n",
    "    else:\n",
    "        print(\"This is an Irregular Quadrilateral.\")\n"
   ]
  },
  {
   "cell_type": "markdown",
   "metadata": {
    "id": "-HzuR4G-S3CE"
   },
   "source": [
    "29. Write a Python script to determine the season based on a user-provided month using elif statements."
   ]
  },
  {
   "cell_type": "code",
   "execution_count": null,
   "metadata": {
    "id": "ZYpe4UAuS6rI"
   },
   "outputs": [],
   "source": [
    "month = input(\"Enter the month (e.g., January, February, etc.): \").strip().lower()\n",
    "if month in ['december', 'january', 'february']:\n",
    "    season = \"Winter\"\n",
    "elif month in ['march', 'april', 'may']:\n",
    "    season = \"Spring\"\n",
    "elif month in ['june', 'july', 'august']:\n",
    "    season = \"Summer\"\n",
    "elif month in ['september', 'october', 'november']:\n",
    "    season = \"Fall\"\n",
    "else:\n",
    "    season = \"Invalid month entered. Please enter a valid month.\"\n",
    "print(f\"The season for {month.capitalize()} is: {season}\")\n"
   ]
  },
  {
   "cell_type": "markdown",
   "metadata": {
    "id": "nX-AVmAfTLA8"
   },
   "source": [
    "30. Implement a program to determine the type of a year (leap or common) and month (30 or 31 days) using\n",
    "elif statements."
   ]
  },
  {
   "cell_type": "code",
   "execution_count": null,
   "metadata": {
    "id": "RwHo1nmuTOk-"
   },
   "outputs": [],
   "source": [
    "year = int(input(\"Enter the year: \"))\n",
    "month = input(\"Enter the month (e.g., January, February, etc.): \").strip().lower()\n",
    "if (year % 4 == 0 and year % 100 != 0) or (year % 400 == 0):\n",
    "    year_type = \"Leap Year\"\n",
    "else:\n",
    "    year_type = \"Common Year\"\n",
    "if month in ['january', 'march', 'may', 'july', 'august', 'october', 'december']:\n",
    "    days_in_month = 31\n",
    "elif month in ['april', 'june', 'september', 'november']:\n",
    "    days_in_month = 30\n",
    "elif month == 'february':\n",
    "    if year_type == \"Leap Year\":\n",
    "        days_in_month = 29\n",
    "    else:\n",
    "        days_in_month = 28\n",
    "else:\n",
    "    days_in_month = \"Invalid month entered. Please enter a valid month.\"\n",
    "print(f\"The year {year} is a {year_type}.\")\n",
    "print(f\"The month of {month.capitalize()} has {days_in_month} days.\")\n"
   ]
  },
  {
   "cell_type": "markdown",
   "metadata": {
    "id": "unfEKtF2TcNB"
   },
   "source": [
    "Basic Level:\n"
   ]
  },
  {
   "cell_type": "markdown",
   "metadata": {
    "id": "RzCUUTsKTqBd"
   },
   "source": [
    "1. Write a Python program that checks if a given number is positive, negative, or zero."
   ]
  },
  {
   "cell_type": "code",
   "execution_count": null,
   "metadata": {
    "id": "KJ_8MGA2T0Jv"
   },
   "outputs": [],
   "source": [
    "number = float(input(\"Enter a number: \"))\n",
    "if number > 0:\n",
    "    print(\"The number is positive.\")\n",
    "elif number < 0:\n",
    "    print(\"The number is negative.\")\n",
    "else:\n",
    "    print(\"The number is zero.\")\n"
   ]
  },
  {
   "cell_type": "markdown",
   "metadata": {
    "id": "Hc65CH43T9vr"
   },
   "source": [
    "2. Create a program to determine if a person is eligible to vote based on their age."
   ]
  },
  {
   "cell_type": "code",
   "execution_count": null,
   "metadata": {
    "id": "fDBJr3VMUDaW"
   },
   "outputs": [],
   "source": [
    "age = int(input(\"Enter your age: \"))\n",
    "if age >= 18:\n",
    "    print(\"You are eligible to vote.\")\n",
    "else:\n",
    "    print(\"You are not eligible to vote.\")\n"
   ]
  },
  {
   "cell_type": "markdown",
   "metadata": {
    "id": "l9tblNPNUN4M"
   },
   "source": [
    "3. Write a program to find the maximum of two given numbers using conditional statements."
   ]
  },
  {
   "cell_type": "code",
   "execution_count": null,
   "metadata": {
    "id": "3yWCfvtbUR3G"
   },
   "outputs": [],
   "source": [
    "num1 = float(input(\"Enter the first number: \"))\n",
    "num2 = float(input(\"Enter the second number: \"))\n",
    "if num1 > num2:\n",
    "    print(f\"The maximum number is {num1}.\")\n",
    "elif num2 > num1:\n",
    "    print(f\"The maximum number is {num2}.\")\n",
    "else:\n",
    "    print(\"Both numbers are equal.\")\n"
   ]
  },
  {
   "cell_type": "markdown",
   "metadata": {
    "id": "yAGxHZMAUbA5"
   },
   "source": [
    "4. Develop a program that calculates the grade of a student based on their exam score."
   ]
  },
  {
   "cell_type": "code",
   "execution_count": null,
   "metadata": {
    "id": "8VE1BUznUfNj"
   },
   "outputs": [],
   "source": [
    "score = float(input(\"Enter the exam score (0-100): \"))\n",
    "if score >= 90:\n",
    "    grade = \"A\"\n",
    "elif score >= 80:\n",
    "    grade = \"B\"\n",
    "elif score >= 70:\n",
    "    grade = \"C\"\n",
    "elif score >= 60:\n",
    "    grade = \"D\"\n",
    "else:\n",
    "    grade = \"F\"\n",
    "print(f\"The grade for a score of {score} is: {grade}\")\n"
   ]
  },
  {
   "cell_type": "markdown",
   "metadata": {
    "id": "d7Iz2sy8Uour"
   },
   "source": [
    "5. Create a program that checks if a year is a leap year or not."
   ]
  },
  {
   "cell_type": "code",
   "execution_count": null,
   "metadata": {
    "id": "pR_MxeOyUscU"
   },
   "outputs": [],
   "source": [
    "year = int(input(\"Enter a year: \"))\n",
    "if (year % 4 == 0 and year % 100 != 0) or (year % 400 == 0):\n",
    "    print(f\"{year} is a leap year.\")\n",
    "else:\n",
    "    print(f\"{year} is not a leap year.\")\n"
   ]
  },
  {
   "cell_type": "markdown",
   "metadata": {
    "id": "q2lRypfFU1bB"
   },
   "source": [
    "6. Write a program to classify a triangle based on its sides' lengths."
   ]
  },
  {
   "cell_type": "code",
   "execution_count": null,
   "metadata": {
    "id": "pKewVfCdU5Ie"
   },
   "outputs": [],
   "source": [
    "side1 = float(input(\"Enter the length of side 1: \"))\n",
    "side2 = float(input(\"Enter the length of side 2: \"))\n",
    "side3 = float(input(\"Enter the length of side 3: \"))\n",
    "if side1 + side2 > side3 and side1 + side3 > side2 and side2 + side3 > side1:\n",
    "    if side1 == side2 == side3:\n",
    "        print(\"The triangle is an Equilateral triangle.\")\n",
    "    elif side1 == side2 or side1 == side3 or side2 == side3:\n",
    "        print(\"The triangle is an Isosceles triangle.\")\n",
    "    else:\n",
    "        print(\"The triangle is a Scalene triangle.\")\n",
    "else:\n",
    "    print(\"The given sides do not form a valid triangle.\")\n"
   ]
  },
  {
   "cell_type": "markdown",
   "metadata": {
    "id": "WbNfSJ60VENH"
   },
   "source": [
    "7. Build a program that determines the largest of three given numbers."
   ]
  },
  {
   "cell_type": "code",
   "execution_count": null,
   "metadata": {
    "id": "KLGo2fOaVHQb"
   },
   "outputs": [],
   "source": [
    "num1 = float(input(\"Enter the first number: \"))\n",
    "num2 = float(input(\"Enter the second number: \"))\n",
    "num3 = float(input(\"Enter the third number: \"))\n",
    "if num1 >= num2 and num1 >= num3:\n",
    "    largest = num1\n",
    "elif num2 >= num1 and num2 >= num3:\n",
    "    largest = num2\n",
    "else:\n",
    "    largest = num3\n",
    "print(f\"The largest number is {largest}.\")\n"
   ]
  },
  {
   "cell_type": "markdown",
   "metadata": {
    "id": "T0Y0DfwqVQmr"
   },
   "source": [
    "8. Develop a program that checks whether a character is a vowel or a consonant."
   ]
  },
  {
   "cell_type": "code",
   "execution_count": null,
   "metadata": {
    "id": "Za06UNZCVT4c"
   },
   "outputs": [],
   "source": [
    "char = input(\"Enter a character: \").lower()\n",
    "if char in 'aeiou':\n",
    "    print(f\"{char} is a vowel.\")\n",
    "elif char.isalpha():\n",
    "    print(f\"{char} is a consonant.\")\n",
    "else:\n",
    "    print(\"Please enter a valid alphabetic character.\")\n"
   ]
  },
  {
   "cell_type": "markdown",
   "metadata": {
    "id": "2i0tTIbDVddJ"
   },
   "source": [
    "9. Create a program to calculate the total cost of a shopping cart based on discounts."
   ]
  },
  {
   "cell_type": "code",
   "execution_count": null,
   "metadata": {
    "id": "Nsa4J4jvVhRY"
   },
   "outputs": [],
   "source": [
    "total_cost = float(input(\"Enter the total cost of the shopping cart: \"))\n",
    "if total_cost >= 500:\n",
    "    discount = 0.20\n",
    "elif total_cost >= 200:\n",
    "    discount = 0.15\n",
    "elif total_cost >= 100:\n",
    "    discount = 0.10\n",
    "else:\n",
    "    discount = 0.05\n",
    "discount_amount = total_cost * discount\n",
    "final_price = total_cost - discount_amount\n",
    "print(f\"Original Price: ${total_cost:.2f}\")\n",
    "print(f\"Discount Applied: {discount * 100}%\")\n",
    "print(f\"Discount Amount: ${discount_amount:.2f}\")\n",
    "print(f\"Total Price after Discount: ${final_price:.2f}\")\n"
   ]
  },
  {
   "cell_type": "markdown",
   "metadata": {
    "id": "080yZ8KsVwhD"
   },
   "source": [
    "10. Write a program that checks if a given number is even or odd."
   ]
  },
  {
   "cell_type": "code",
   "execution_count": null,
   "metadata": {
    "id": "FeTr_s-_VzKz"
   },
   "outputs": [],
   "source": [
    "number = int(input(\"Enter a number: \"))\n",
    "if number % 2 == 0:\n",
    "    print(f\"{number} is an even number.\")\n",
    "else:\n",
    "    print(f\"{number} is an odd number.\")\n"
   ]
  },
  {
   "cell_type": "markdown",
   "metadata": {
    "id": "NVZw35_UV-Ts"
   },
   "source": [
    "Intermediate Level:"
   ]
  },
  {
   "cell_type": "markdown",
   "metadata": {
    "id": "z3sWgBs4WC_E"
   },
   "source": [
    "11. Write a program that calculates the roots of a quadratic equation"
   ]
  },
  {
   "cell_type": "code",
   "execution_count": null,
   "metadata": {
    "id": "0Eg7KoKEWGYC"
   },
   "outputs": [],
   "source": [
    "import math\n",
    "a = float(input(\"Enter the coefficient a: \"))\n",
    "b = float(input(\"Enter the coefficient b: \"))\n",
    "c = float(input(\"Enter the coefficient c: \"))\n",
    "discriminant = b**2 - 4*a*c\n",
    "if discriminant > 0:\n",
    "    root1 = (-b + math.sqrt(discriminant)) / (2 * a)\n",
    "    root2 = (-b - math.sqrt(discriminant)) / (2 * a)\n",
    "    print(f\"The roots are real and distinct: {root1} and {root2}\")\n",
    "elif discriminant == 0:\n",
    "    root = -b / (2 * a)\n",
    "    print(f\"The root is real and repeated: {root}\")\n",
    "else:\n",
    "    real_part = -b / (2 * a)\n",
    "    imaginary_part = math.sqrt(-discriminant) / (2 * a)\n",
    "    print(f\"The roots are complex: {real_part} + {imaginary_part}i and {real_part} - {imaginary_part}i\")\n"
   ]
  },
  {
   "cell_type": "markdown",
   "metadata": {
    "id": "0uRvtbSeWWMW"
   },
   "source": [
    "12. Create a program that determines the day of the week based on the day number (1-7)."
   ]
  },
  {
   "cell_type": "code",
   "execution_count": null,
   "metadata": {
    "id": "0KbLfPgTWZPj"
   },
   "outputs": [],
   "source": [
    "day_number = int(input(\"Enter a day number (1-7): \"))\n",
    "if day_number == 1:\n",
    "    day_name = \"Monday\"\n",
    "elif day_number == 2:\n",
    "    day_name = \"Tuesday\"\n",
    "elif day_number == 3:\n",
    "    day_name = \"Wednesday\"\n",
    "elif day_number == 4:\n",
    "    day_name = \"Thursday\"\n",
    "elif day_number == 5:\n",
    "    day_name = \"Friday\"\n",
    "elif day_number == 6:\n",
    "    day_name = \"Saturday\"\n",
    "elif day_number == 7:\n",
    "    day_name = \"Sunday\"\n",
    "else:\n",
    "    day_name = \"Invalid input! Please enter a number between 1 and 7.\"\n",
    "print(f\"The day corresponding to day number {day_number} is {day_name}.\")\n"
   ]
  },
  {
   "cell_type": "markdown",
   "metadata": {
    "id": "sYb9B-sbWsQA"
   },
   "source": [
    "13. Develop a program that calculates the factorial of a given number using recursion."
   ]
  },
  {
   "cell_type": "code",
   "execution_count": null,
   "metadata": {
    "id": "UEkuwHYBWwXq"
   },
   "outputs": [],
   "source": [
    "def factorial(n):\n",
    "    if n == 0 or n == 1:\n",
    "        return 1\n",
    "    else:\n",
    "        return n * factorial(n - 1)\n",
    "number = int(input(\"Enter a number: \"))\n",
    "if number < 0:\n",
    "    print(\"Factorial is not defined for negative numbers.\")\n",
    "else:\n",
    "    result = factorial(number)\n",
    "    print(f\"The factorial of {number} is {result}.\")\n"
   ]
  },
  {
   "cell_type": "markdown",
   "metadata": {
    "id": "KBbpHZc4W-ic"
   },
   "source": [
    "14. Write a program to find the largest among three numbers without using the `max()` function."
   ]
  },
  {
   "cell_type": "code",
   "execution_count": null,
   "metadata": {
    "id": "keR6udaSXBgA"
   },
   "outputs": [],
   "source": [
    "num1 = float(input(\"Enter the first number: \"))\n",
    "num2 = float(input(\"Enter the second number: \"))\n",
    "num3 = float(input(\"Enter the third number: \"))\n",
    "if num1 >= num2 and num1 >= num3:\n",
    "    largest = num1\n",
    "elif num2 >= num1 and num2 >= num3:\n",
    "    largest = num2\n",
    "else:\n",
    "    largest = num3\n",
    "print(f\"The largest number is {largest}.\")\n"
   ]
  },
  {
   "cell_type": "markdown",
   "metadata": {
    "id": "esTDdDDPXMv1"
   },
   "source": [
    "15. Create a program that simulates a basic ATM transaction menu."
   ]
  },
  {
   "cell_type": "code",
   "execution_count": null,
   "metadata": {
    "id": "p4fAU4jSXP6d"
   },
   "outputs": [],
   "source": [
    "# Program to simulate a basic ATM transaction menu\n",
    "\n",
    "# Initialize balance\n",
    "balance = 1000  # Example initial balance\n",
    "\n",
    "# ATM menu\n",
    "def atm_menu():\n",
    "    print(\"\\nWelcome to the ATM!\")\n",
    "    print(\"1. Check Balance\")\n",
    "    print(\"2. Deposit Money\")\n",
    "    print(\"3. Withdraw Money\")\n",
    "    print(\"4. Exit\")\n",
    "\n",
    "def deposit():\n",
    "    amount = float(input(\"Enter amount to deposit: \"))\n",
    "    global balance\n",
    "    balance += amount\n",
    "    print(f\"You have successfully deposited ${amount}. New balance: ${balance}.\")\n",
    "def withdraw():\n",
    "    amount = float(input(\"Enter amount to withdraw: \"))\n",
    "    global balance\n",
    "    if amount > balance:\n",
    "        print(\"Insufficient funds. Try again.\")\n",
    "    else:\n",
    "        balance -= amount\n",
    "        print(f\"You have successfully withdrawn ${amount}. New balance: ${balance}.\")\n",
    "def atm_transaction():\n",
    "    while True:\n",
    "        atm_menu()\n",
    "        choice = input(\"Please select an option (1-4): \")\n",
    "\n",
    "        if choice == '1':\n",
    "            print(f\"Your current balance is: ${balance}\")\n",
    "        elif choice == '2':\n",
    "            deposit()\n",
    "        elif choice == '3':\n",
    "            withdraw()\n",
    "        elif choice == '4':\n",
    "            print(\"Thank you for using the ATM. Goodbye!\")\n",
    "            break\n",
    "        else:\n",
    "            print(\"Invalid option. Please try again.\")\n",
    "atm_transaction()\n"
   ]
  },
  {
   "cell_type": "markdown",
   "metadata": {
    "id": "VdXfotL_XeES"
   },
   "source": [
    "16. Build a program that checks if a given string is a palindrome or not."
   ]
  },
  {
   "cell_type": "code",
   "execution_count": null,
   "metadata": {
    "id": "AdlTUtjUXhvQ"
   },
   "outputs": [],
   "source": [
    "string = input(\"Enter a string: \")\n",
    "cleaned_string = string.replace(\" \", \"\").lower()\n",
    "if cleaned_string == cleaned_string[::-1]:\n",
    "    print(f\"'{string}' is a palindrome.\")\n",
    "else:\n",
    "    print(f\"'{string}' is not a palindrome.\")\n"
   ]
  },
  {
   "cell_type": "markdown",
   "metadata": {
    "id": "yjobMjioXrRN"
   },
   "source": [
    "17. Write a program that calculates the average of a list of numbers, excluding the smallest and largest values."
   ]
  },
  {
   "cell_type": "code",
   "execution_count": null,
   "metadata": {
    "id": "ylxXy2UNXxI0"
   },
   "outputs": [],
   "source": [
    "numbers = list(map(float, input(\"Enter a list of numbers separated by spaces: \").split()))\n",
    "if len(numbers) < 3:\n",
    "    print(\"At least 3 numbers are required to exclude the smallest and largest values.\")\n",
    "else:\n",
    "    numbers.sort()\n",
    "    numbers_to_average = numbers[1:-1]\n",
    "    average = sum(numbers_to_average) / len(numbers_to_average)\n",
    "    print(f\"The average of the list excluding the smallest and largest values is: {average}\")\n"
   ]
  },
  {
   "cell_type": "markdown",
   "metadata": {
    "id": "QVPU0vEQX_Ra"
   },
   "source": [
    "18. Develop a program that converts a given temperature from Celsius to Fahrenheit."
   ]
  },
  {
   "cell_type": "code",
   "execution_count": null,
   "metadata": {
    "id": "NxaWhz3YYDU-"
   },
   "outputs": [],
   "source": [
    "celsius = float(input(\"Enter temperature in Celsius: \"))\n",
    "fahrenheit = (celsius * 9/5) + 32\n",
    "print(f\"{celsius}°C is equal to {fahrenheit}°F.\")\n"
   ]
  },
  {
   "cell_type": "markdown",
   "metadata": {
    "id": "n2lyWXZXYRM6"
   },
   "source": [
    "19. Create a program that simulates a basic calculator for addition, subtraction, multiplication, and division."
   ]
  },
  {
   "cell_type": "code",
   "execution_count": null,
   "metadata": {
    "colab": {
     "base_uri": "https://localhost:8080/"
    },
    "id": "NP4zG4ANYVOj",
    "outputId": "0bc678f2-e65d-424b-c30d-7d2eaa529eda"
   },
   "outputs": [
    {
     "name": "stdout",
     "output_type": "stream",
     "text": [
      "\n",
      "Basic Calculator\n",
      "1. Add\n",
      "2. Subtract\n",
      "3. Multiply\n",
      "4. Divide\n",
      "5. Exit\n"
     ]
    }
   ],
   "source": [
    "def add(x, y):\n",
    "    return x + y\n",
    "def subtract(x, y):\n",
    "    return x - y\n",
    "def multiply(x, y):\n",
    "    return x * y\n",
    "def divide(x, y):\n",
    "    if y == 0:\n",
    "        return \"Error! Division by zero.\"\n",
    "    else:\n",
    "        return x / y\n",
    "def calculator_menu():\n",
    "    print(\"\\nBasic Calculator\")\n",
    "    print(\"1. Add\")\n",
    "    print(\"2. Subtract\")\n",
    "    print(\"3. Multiply\")\n",
    "    print(\"4. Divide\")\n",
    "    print(\"5. Exit\")\n",
    "def calculator():\n",
    "    while True:\n",
    "        calculator_menu()\n",
    "        choice = input(\"Select an operation (1-5): \")\n",
    "        if choice == '5':\n",
    "            print(\"Exiting the calculator. Goodbye!\")\n",
    "            break\n",
    "        try:\n",
    "            num1 = float(input(\"Enter the first number: \"))\n",
    "            num2 = float(input(\"Enter the second number: \"))\n",
    "        except ValueError:\n",
    "            print(\"Invalid input! Please enter numerical values.\")\n",
    "            continue\n",
    "        if choice == '1':\n",
    "            print(f\"{num1} + {num2} = {add(num1, num2)}\")\n",
    "        elif choice == '2':\n",
    "            print(f\"{num1} - {num2} = {subtract(num1, num2)}\")\n",
    "        elif choice == '3':\n",
    "            print(f\"{num1} * {num2} = {multiply(num1, num2)}\")\n",
    "        elif choice == '4':\n",
    "            print(f\"{num1} / {num2} = {divide(num1, num2)}\")\n",
    "        else:\n",
    "            print(\"Invalid choice! Please select a valid operation.\")\n",
    "calculator()\n"
   ]
  },
  {
   "cell_type": "markdown",
   "metadata": {
    "id": "pts3DWraY7Rj"
   },
   "source": [
    "20. Write a program that determines the roots of a cubic equation using the Cardano formula."
   ]
  },
  {
   "cell_type": "code",
   "execution_count": null,
   "metadata": {
    "id": "1A1ZGL6rZARm"
   },
   "outputs": [],
   "source": [
    "import cmath\n",
    "def cardano_roots(a, b, c, d):\n",
    "    delta0 = b**2 - 3*a*c\n",
    "    delta1 = 2*b**3 - 9*a*b*c + 27*a**2*d\n",
    "    discriminant = (delta1**2 - 4*delta0**3) / -27\n",
    "    C = cmath.exp(cmath.log((delta1 + cmath.sqrt(discriminant)) / 2) / 3)\n",
    "    omega = cmath.exp(2 * cmath.pi * 1j / 3)\n",
    "    roots = []\n",
    "    for k in range(3):\n",
    "        root = -1 / (3*a) * (b + omega**k * C + delta0 / (omega**k * C))\n",
    "        roots.append(root)\n",
    "\n",
    "    return roots\n",
    "a = float(input(\"Enter coefficient a: \"))\n",
    "b = float(input(\"Enter coefficient b: \"))\n",
    "c = float(input(\"Enter coefficient c: \"))\n",
    "d = float(input(\"Enter coefficient d: \"))\n",
    "if a == 0:\n",
    "    print(\"Coefficient 'a' cannot be zero for a cubic equation.\")\n",
    "else:\n",
    "    roots = cardano_roots(a, b, c, d)\n",
    "    print(f\"The roots of the cubic equation {a}x^3 + {b}x^2 + {c}x + {d} = 0 are:\")\n",
    "    for i, root in enumerate(roots, 1):\n",
    "        print(f\"Root {i}: {root}\")\n"
   ]
  },
  {
   "cell_type": "markdown",
   "metadata": {
    "id": "ORyqG0IpZZ1q"
   },
   "source": [
    "Advanced Level:"
   ]
  },
  {
   "cell_type": "markdown",
   "metadata": {
    "id": "6ziGx0ioZbCN"
   },
   "source": [
    "21. Create a program that calculates the income tax based on the user's income and tax brackets."
   ]
  },
  {
   "cell_type": "code",
   "execution_count": null,
   "metadata": {
    "id": "BzzqlKpXZeyl"
   },
   "outputs": [],
   "source": [
    "tax_brackets = [\n",
    "    (0, 10000, 0.1),\n",
    "    (10001, 30000, 0.15),\n",
    "    (30001, 70000, 0.2),\n",
    "    (70001, 150000, 0.25),\n",
    "    (150001, float('inf'), 0.3)\n",
    "]\n",
    "def calculate_tax(income):\n",
    "    tax = 0\n",
    "    remaining_income = income\n",
    "\n",
    "    for lower, upper, rate in tax_brackets:\n",
    "        if income > lower:\n",
    "            taxable_income = min(remaining_income, upper - lower + 1)\n",
    "            tax += taxable_income * rate\n",
    "            remaining_income -= taxable_income\n",
    "        if remaining_income <= 0:\n",
    "            break\n",
    "\n",
    "    return tax\n",
    "income = float(input(\"Enter your income: \"))\n",
    "if income < 0:\n",
    "    print(\"Income cannot be negative.\")\n",
    "else:\n",
    "    tax = calculate_tax(income)\n",
    "    print(f\"Your income tax is: ${tax:.2f}\")\n"
   ]
  },
  {
   "cell_type": "markdown",
   "metadata": {
    "id": "PKOX9r2vZycG"
   },
   "source": [
    "22. Write a program that simulates a rock-paper-scissors game against the computer."
   ]
  },
  {
   "cell_type": "code",
   "execution_count": null,
   "metadata": {
    "id": "IgTLhmbOZ2C5"
   },
   "outputs": [],
   "source": [
    "import random\n",
    "def get_computer_choice():\n",
    "    choices = ['rock', 'paper', 'scissors']\n",
    "    return random.choice(choices)\n",
    "def determine_winner(user_choice, computer_choice):\n",
    "    if user_choice == computer_choice:\n",
    "        return \"It's a tie!\"\n",
    "    elif (user_choice == 'rock' and computer_choice == 'scissors') or \\\n",
    "         (user_choice == 'scissors' and computer_choice == 'paper') or \\\n",
    "         (user_choice == 'paper' and computer_choice == 'rock'):\n",
    "        return \"You win!\"\n",
    "    else:\n",
    "        return \"Computer wins!\"\n",
    "def play_game():\n",
    "    print(\"Welcome to Rock-Paper-Scissors!\")\n",
    "    while True:\n",
    "        user_choice = input(\"Enter 'rock', 'paper', or 'scissors' (or 'exit' to quit): \").lower()\n",
    "        if user_choice == 'exit':\n",
    "            print(\"Thanks for playing! Goodbye!\")\n",
    "            break\n",
    "        if user_choice not in ['rock', 'paper', 'scissors']:\n",
    "            print(\"Invalid choice! Please choose 'rock', 'paper', or 'scissors'.\")\n",
    "            continue\n",
    "        computer_choice = get_computer_choice()\n",
    "        print(f\"You chose {user_choice}, and the computer chose {computer_choice}.\")\n",
    "        result = determine_winner(user_choice, computer_choice)\n",
    "        print(result)\n",
    "play_game()\n"
   ]
  },
  {
   "cell_type": "markdown",
   "metadata": {
    "id": "YqqDAxuUaLah"
   },
   "source": [
    "23. Develop a program that generates a random password based on user preferences (length, complexity)."
   ]
  },
  {
   "cell_type": "code",
   "execution_count": null,
   "metadata": {
    "id": "s8oFdSxPaO1h"
   },
   "outputs": [],
   "source": [
    "import random\n",
    "import string\n",
    "def generate_password(length, use_uppercase, use_digits, use_special_chars):\n",
    "    lowercase = string.ascii_lowercase\n",
    "    uppercase = string.ascii_uppercase\n",
    "    digits = string.digits\n",
    "    special_chars = string.punctuation\n",
    "    char_pool = lowercase\n",
    "    if use_uppercase:\n",
    "        char_pool += uppercase\n",
    "    if use_digits:\n",
    "        char_pool += digits\n",
    "    if use_special_chars:\n",
    "        char_pool += special_chars\n",
    "    password = []\n",
    "    if use_uppercase:\n",
    "        password.append(random.choice(uppercase))\n",
    "    if use_digits:\n",
    "        password.append(random.choice(digits))\n",
    "    if use_special_chars:\n",
    "        password.append(random.choice(special_chars))\n",
    "    remaining_length = length - len(password)\n",
    "    if remaining_length > 0:\n",
    "        password += random.choices(char_pool, k=remaining_length)\n",
    "    random.shuffle(password)\n",
    "\n",
    "    return ''.join(password)\n",
    "def main():\n",
    "    length = int(input(\"Enter desired password length: \"))\n",
    "    use_uppercase = input(\"Include uppercase letters? (yes/no): \").lower() == 'yes'\n",
    "    use_digits = input(\"Include digits? (yes/no): \").lower() == 'yes'\n",
    "    use_special_chars = input(\"Include special characters? (yes/no): \").lower() == 'yes'\n",
    "    password = generate_password(length, use_uppercase, use_digits, use_special_chars)\n",
    "    print(f\"Generated password: {password}\")\n",
    "main()\n"
   ]
  },
  {
   "cell_type": "markdown",
   "metadata": {
    "id": "Bn8mMPhVa-ab"
   },
   "source": [
    "24. Create a program that implements a simple text-based adventure game with branching scenarios."
   ]
  },
  {
   "cell_type": "code",
   "execution_count": null,
   "metadata": {
    "id": "toJTrsCUbDeF"
   },
   "outputs": [],
   "source": [
    "def intro():\n",
    "    print(\"Welcome to the Adventure Game!\")\n",
    "    print(\"You find yourself standing in front of a mysterious forest.\")\n",
    "    print(\"You can either enter the forest or walk down a path leading to a village.\")\n",
    "\n",
    "def forest():\n",
    "    print(\"\\nYou step into the forest, the trees tower above you.\")\n",
    "    print(\"You can either explore deeper into the forest or turn back.\")\n",
    "    choice = input(\"Do you go deeper or turn back? (deeper/turn back) \").lower()\n",
    "\n",
    "    if choice == \"deeper\":\n",
    "        print(\"\\nYou venture deeper into the forest and encounter a wild animal!\")\n",
    "        fight_or_flee = input(\"Do you fight or flee? (fight/flee) \").lower()\n",
    "        if fight_or_flee == \"fight\":\n",
    "            print(\"\\nYou bravely fight the animal and win! You find a hidden treasure chest!\")\n",
    "            treasure()\n",
    "        else:\n",
    "            print(\"\\nYou run away safely but end up lost in the forest, wandering forever.\")\n",
    "            game_over()\n",
    "    elif choice == \"turn back\":\n",
    "        print(\"\\nYou turn back and head toward the village.\")\n",
    "        village()\n",
    "    else:\n",
    "        print(\"\\nInvalid choice, try again.\")\n",
    "        forest()\n",
    "\n",
    "def village():\n",
    "    print(\"\\nYou arrive at a small village. The villagers greet you.\")\n",
    "    print(\"You can either visit the local tavern or explore the market.\")\n",
    "    choice = input(\"Do you go to the tavern or market? (tavern/market) \").lower()\n",
    "\n",
    "    if choice == \"tavern\":\n",
    "        print(\"\\nAt the tavern, you meet a wise old man who offers you a mysterious map.\")\n",
    "        map_choice = input(\"Do you accept the map? (yes/no) \").lower()\n",
    "        if map_choice == \"yes\":\n",
    "            print(\"\\nThe map leads you to a hidden cave filled with treasure!\")\n",
    "            treasure()\n",
    "        else:\n",
    "            print(\"\\nYou refuse the map and leave the tavern. You live a quiet life in the village.\")\n",
    "            game_over()\n",
    "    elif choice == \"market\":\n",
    "        print(\"\\nAt the market, you buy some supplies and learn about a dangerous dragon nearby.\")\n",
    "        dragon_choice = input(\"Do you want to hunt the dragon or ignore it? (hunt/ignore) \").lower()\n",
    "        if dragon_choice == \"hunt\":\n",
    "            print(\"\\nYou hunt the dragon and slay it, becoming a hero!\")\n",
    "            treasure()\n",
    "        else:\n",
    "            print(\"\\nYou ignore the dragon and live a peaceful life.\")\n",
    "            game_over()\n",
    "    else:\n",
    "        print(\"\\nInvalid choice, try again.\")\n",
    "        village()\n",
    "\n",
    "def treasure():\n",
    "    print(\"\\nCongratulations! You have found treasure and are now rich beyond your wildest dreams!\")\n",
    "    play_again = input(\"\\nDo you want to play again? (yes/no) \").lower()\n",
    "    if play_again == \"yes\":\n",
    "        start_game()\n",
    "    else:\n",
    "        print(\"Thanks for playing! Goodbye.\")\n",
    "\n",
    "def game_over():\n",
    "    print(\"\\nGame over! You can try again.\")\n",
    "    play_again = input(\"\\nDo you want to play again? (yes/no) \").lower()\n",
    "    if play_again == \"yes\":\n",
    "        start_game()\n",
    "    else:\n",
    "        print(\"Thanks for playing! Goodbye.\")\n",
    "\n",
    "def start_game():\n",
    "    intro()\n",
    "    choice = input(\"\\nDo you enter the forest or head to the village? (forest/village) \").lower()\n",
    "\n",
    "    if choice == \"forest\":\n",
    "        forest()\n",
    "    elif choice == \"village\":\n",
    "        village()\n",
    "    else:\n",
    "        print(\"\\nInvalid choice, try again.\")\n",
    "        start_game()\n",
    "start_game()\n"
   ]
  },
  {
   "cell_type": "markdown",
   "metadata": {
    "id": "n8lHZLsrbXR4"
   },
   "source": [
    "25. Build a program that solves a linear equation for x, considering different cases."
   ]
  },
  {
   "cell_type": "code",
   "execution_count": null,
   "metadata": {
    "id": "5bF0ZAeSbanN"
   },
   "outputs": [],
   "source": [
    "def solve_linear_equation():\n",
    "    print(\"Solve the linear equation ax + b = 0\")\n",
    "    try:\n",
    "        a = float(input(\"Enter the coefficient a: \"))\n",
    "        b = float(input(\"Enter the coefficient b: \"))\n",
    "        if a == 0:\n",
    "            if b == 0:\n",
    "                print(\"The equation has infinite solutions (0x = 0).\")\n",
    "            else:\n",
    "                print(\"The equation has no solution (b != 0).\")\n",
    "        else:\n",
    "            x = -b / a\n",
    "            print(f\"The solution is x = {x}\")\n",
    "    except ValueError:\n",
    "        print(\"Invalid input! Please enter numeric values for a and b.\")\n",
    "solve_linear_equation()\n"
   ]
  },
  {
   "cell_type": "markdown",
   "metadata": {
    "id": "VbUnedM0brQW"
   },
   "source": [
    "26. Write a program that simulates a basic quiz game with multiple-choice questions and scoring."
   ]
  },
  {
   "cell_type": "code",
   "execution_count": null,
   "metadata": {
    "id": "3uAF7T8PbssF"
   },
   "outputs": [],
   "source": [
    "def run_quiz():\n",
    "    print(\"Welcome to the Quiz Game!\")\n",
    "\n",
    "    questions = [\n",
    "        {\n",
    "            \"question\": \"What is the capital of France?\",\n",
    "            \"choices\": [\"A. Berlin\", \"B. Madrid\", \"C. Paris\", \"D. Rome\"],\n",
    "            \"correct_answer\": \"C\"\n",
    "        },\n",
    "        {\n",
    "            \"question\": \"Which planet is known as the Red Planet?\",\n",
    "            \"choices\": [\"A. Earth\", \"B. Mars\", \"C. Jupiter\", \"D. Venus\"],\n",
    "            \"correct_answer\": \"B\"\n",
    "        },\n",
    "        {\n",
    "            \"question\": \"What is the largest ocean on Earth?\",\n",
    "            \"choices\": [\"A. Atlantic\", \"B. Indian\", \"C. Arctic\", \"D. Pacific\"],\n",
    "            \"correct_answer\": \"D\"\n",
    "        },\n",
    "        {\n",
    "            \"question\": \"Who wrote 'Hamlet'?\",\n",
    "            \"choices\": [\"A. Shakespeare\", \"B. Dickens\", \"C. Austen\", \"D. Hemingway\"],\n",
    "            \"correct_answer\": \"A\"\n",
    "        },\n",
    "        {\n",
    "            \"question\": \"What is the boiling point of water?\",\n",
    "            \"choices\": [\"A. 100°C\", \"B. 90°C\", \"C. 80°C\", \"D. 110°C\"],\n",
    "            \"correct_answer\": \"A\"\n",
    "        }\n",
    "    ]\n",
    "\n",
    "    score = 0\n",
    "\n",
    "    for index, question in enumerate(questions):\n",
    "        print(f\"\\nQuestion {index + 1}: {question['question']}\")\n",
    "        for choice in question['choices']:\n",
    "            print(choice)\n",
    "\n",
    "        answer = input(\"Enter your answer (A, B, C, or D): \").upper()\n",
    "\n",
    "        if answer == question[\"correct_answer\"]:\n",
    "            print(\"Correct!\")\n",
    "            score += 1\n",
    "        else:\n",
    "            print(f\"Wrong! The correct answer was {question['correct_answer']}.\")\n",
    "\n",
    "    print(f\"\\nYour final score is {score}/{len(questions)}.\")\n",
    "    if score == len(questions):\n",
    "        print(\"Perfect score! Well done!\")\n",
    "    elif score >= len(questions) / 2:\n",
    "        print(\"Good job! You did well.\")\n",
    "    else:\n",
    "        print(\"Better luck next time!\")\n",
    "\n",
    "    play_again = input(\"\\nDo you want to play again? (yes/no): \").lower()\n",
    "    if play_again == \"yes\":\n",
    "        run_quiz()\n",
    "    else:\n",
    "        print(\"Thanks for playing! Goodbye.\")\n",
    "\n",
    "run_quiz()\n"
   ]
  },
  {
   "cell_type": "markdown",
   "metadata": {
    "id": "ocssAZdocBYc"
   },
   "source": [
    "27. Develop a program that determines whether a given year is a prime number or not."
   ]
  },
  {
   "cell_type": "code",
   "execution_count": null,
   "metadata": {
    "id": "UpnZgkVTcEQx"
   },
   "outputs": [],
   "source": [
    "def is_prime_year(year):\n",
    "    if year < 2:\n",
    "        return False\n",
    "    for i in range(2, int(year ** 0.5) + 1):\n",
    "        if year % i == 0:\n",
    "            return False\n",
    "    return True\n",
    "\n",
    "def check_year():\n",
    "    year = int(input(\"Enter a year: \"))\n",
    "    if is_prime_year(year):\n",
    "        print(f\"The year {year} is a prime number.\")\n",
    "    else:\n",
    "        print(f\"The year {year} is not a prime number.\")\n",
    "\n",
    "check_year()\n"
   ]
  },
  {
   "cell_type": "markdown",
   "metadata": {
    "id": "_6gUZofCcKL6"
   },
   "source": [
    "28. Create a program that sorts three numbers in ascending order using conditional statements."
   ]
  },
  {
   "cell_type": "code",
   "execution_count": null,
   "metadata": {
    "id": "qiiMap24cQ3u"
   },
   "outputs": [],
   "source": [
    "def sort_numbers():\n",
    "    a = float(input(\"Enter the first number: \"))\n",
    "    b = float(input(\"Enter the second number: \"))\n",
    "    c = float(input(\"Enter the third number: \"))\n",
    "\n",
    "    if a > b:\n",
    "        a, b = b, a\n",
    "    if a > c:\n",
    "        a, c = c, a\n",
    "    if b > c:\n",
    "        b, c = c, b\n",
    "\n",
    "    print(f\"The numbers in ascending order are: {a}, {b}, {c}\")\n",
    "\n",
    "sort_numbers()\n"
   ]
  },
  {
   "cell_type": "markdown",
   "metadata": {
    "id": "8lVxYVuFcY0c"
   },
   "source": [
    "29. Build a program that determines the roots of a quartic equation using numerical methods."
   ]
  },
  {
   "cell_type": "code",
   "execution_count": null,
   "metadata": {
    "id": "1ND91pHyclU4"
   },
   "outputs": [],
   "source": [
    "import numpy as np\n",
    "\n",
    "def solve_quartic():\n",
    "    print(\"Solve the quartic equation ax^4 + bx^3 + cx^2 + dx + e = 0\")\n",
    "    a = float(input(\"Enter the coefficient a: \"))\n",
    "    b = float(input(\"Enter the coefficient b: \"))\n",
    "    c = float(input(\"Enter the coefficient c: \"))\n",
    "    d = float(input(\"Enter the coefficient d: \"))\n",
    "    e = float(input(\"Enter the coefficient e: \"))\n",
    "    coefficients = [a, b, c, d, e]\n",
    "    roots = np.roots(coefficients)\n",
    "\n",
    "    print(\"\\nThe roots of the equation are:\")\n",
    "    for root in roots:\n",
    "        print(root)\n",
    "\n",
    "solve_quartic()\n"
   ]
  },
  {
   "cell_type": "markdown",
   "metadata": {
    "id": "gPVtvPTpcunb"
   },
   "source": [
    "30. Write a program that calculates the BMI (Body Mass Index) and provides health recommendations based\n",
    "on the user's input."
   ]
  },
  {
   "cell_type": "code",
   "execution_count": null,
   "metadata": {
    "id": "5e9u9VoDcxml"
   },
   "outputs": [],
   "source": [
    "def calculate_bmi():\n",
    "    weight = float(input(\"Enter your weight in kilograms: \"))\n",
    "    height = float(input(\"Enter your height in meters: \"))\n",
    "\n",
    "    bmi = weight / (height ** 2)\n",
    "\n",
    "    print(f\"Your BMI is: {bmi:.2f}\")\n",
    "\n",
    "    if bmi < 18.5:\n",
    "        print(\"You are underweight. It's recommended to eat a balanced diet and consult a healthcare provider.\")\n",
    "    elif 18.5 <= bmi < 24.9:\n",
    "        print(\"You have a normal weight. Keep up the good work!\")\n",
    "    elif 25 <= bmi < 29.9:\n",
    "        print(\"You are overweight. It's advisable to follow a healthy diet and increase physical activity.\")\n",
    "    else:\n",
    "        print(\"You are obese. It's important to consult a healthcare provider for personalized advice.\")\n",
    "\n",
    "calculate_bmi()\n"
   ]
  },
  {
   "cell_type": "markdown",
   "metadata": {
    "id": "1qNc1Q1fc8ev"
   },
   "source": [
    "Challenge Level:"
   ]
  },
  {
   "cell_type": "markdown",
   "metadata": {
    "id": "kKfq9c3Xc9m4"
   },
   "source": [
    "31. Create a program that validates a password based on complexity rules (length, characters, etc.)."
   ]
  },
  {
   "cell_type": "code",
   "execution_count": null,
   "metadata": {
    "id": "5k__9A63dBIY"
   },
   "outputs": [],
   "source": [
    "import re\n",
    "\n",
    "def validate_password():\n",
    "    password = input(\"Enter a password: \")\n",
    "\n",
    "    if len(password) < 8:\n",
    "        print(\"Password must be at least 8 characters long.\")\n",
    "        return\n",
    "\n",
    "    if not re.search(r\"[A-Za-z]\", password):\n",
    "        print(\"Password must contain at least one letter.\")\n",
    "        return\n",
    "\n",
    "    if not re.search(r\"\\d\", password):\n",
    "        print(\"Password must contain at least one number.\")\n",
    "        return\n",
    "\n",
    "    if not re.search(r\"[!@#$%^&*(),.?\\\":{}|<>]\", password):\n",
    "        print(\"Password must contain at least one special character.\")\n",
    "        return\n",
    "\n",
    "    print(\"Password is valid.\")\n",
    "\n",
    "validate_password()\n"
   ]
  },
  {
   "cell_type": "markdown",
   "metadata": {
    "id": "6p0y5MfJdHSR"
   },
   "source": [
    "32. Develop a program that performs matrix addition and subtraction based on user input."
   ]
  },
  {
   "cell_type": "code",
   "execution_count": null,
   "metadata": {
    "id": "KPWd6oB3dKE6"
   },
   "outputs": [],
   "source": [
    "import numpy as np\n",
    "def get_matrix_input(rows, cols):\n",
    "    matrix = []\n",
    "    print(f\"Enter the elements for a {rows}x{cols} matrix:\")\n",
    "    for i in range(rows):\n",
    "        row = list(map(int, input(f\"Enter row {i+1}: \").split()))\n",
    "        matrix.append(row)\n",
    "    return np.array(matrix)\n",
    "\n",
    "def matrix_operations():\n",
    "    rows = int(input(\"Enter the number of rows for the matrices: \"))\n",
    "    cols = int(input(\"Enter the number of columns for the matrices: \"))\n",
    "\n",
    "    print(\"\\nMatrix 1:\")\n",
    "    matrix1 = get_matrix_input(rows, cols)\n",
    "\n",
    "    print(\"\\nMatrix 2:\")\n",
    "    matrix2 = get_matrix_input(rows, cols)\n",
    "\n",
    "    operation = input(\"\\nChoose operation (add/subtract): \").lower()\n",
    "\n",
    "    if operation == \"add\":\n",
    "        result = matrix1 + matrix2\n",
    "        print(\"\\nMatrix Addition Result:\")\n",
    "        print(result)\n",
    "    elif operation == \"subtract\":\n",
    "        result = matrix1 - matrix2\n",
    "        print(\"\\nMatrix Subtraction Result:\")\n",
    "        print(result)\n",
    "    else:\n",
    "        print(\"Invalid operation. Please choose either 'add' or 'subtract'.\")\n",
    "\n",
    "matrix_operations()\n"
   ]
  },
  {
   "cell_type": "markdown",
   "metadata": {
    "id": "vO8hzRBudR0s"
   },
   "source": [
    "33. Write a program that calculates the greatest common divisor (GCD) of two numbers using the Euclidean\n",
    "algorithm."
   ]
  },
  {
   "cell_type": "code",
   "execution_count": null,
   "metadata": {
    "id": "P2a9cbAPdVue"
   },
   "outputs": [],
   "source": [
    "def gcd(a, b):\n",
    "    while b:\n",
    "        a, b = b, a % b\n",
    "    return a\n",
    "\n",
    "def main():\n",
    "    num1 = int(input(\"Enter the first number: \"))\n",
    "    num2 = int(input(\"Enter the second number: \"))\n",
    "\n",
    "    result = gcd(num1, num2)\n",
    "    print(f\"The greatest common divisor (GCD) of {num1} and {num2} is {result}.\")\n",
    "\n",
    "main()\n"
   ]
  },
  {
   "cell_type": "markdown",
   "metadata": {
    "id": "U1lTvXK_drmi"
   },
   "source": [
    "34. Build a program that performs matrix multiplication using nested loops and conditional statements."
   ]
  },
  {
   "cell_type": "code",
   "execution_count": null,
   "metadata": {
    "id": "Y07J3aQYdvrK"
   },
   "outputs": [],
   "source": [
    "def get_matrix_input(rows, cols):\n",
    "    matrix = []\n",
    "    print(f\"Enter the elements for a {rows}x{cols} matrix:\")\n",
    "    for i in range(rows):\n",
    "        row = list(map(int, input(f\"Enter row {i+1}: \").split()))\n",
    "        matrix.append(row)\n",
    "    return matrix\n",
    "\n",
    "def matrix_multiplication():\n",
    "    rows1 = int(input(\"Enter the number of rows for Matrix 1: \"))\n",
    "    cols1 = int(input(\"Enter the number of columns for Matrix 1: \"))\n",
    "\n",
    "    rows2 = int(input(\"Enter the number of rows for Matrix 2: \"))\n",
    "    cols2 = int(input(\"Enter the number of columns for Matrix 2: \"))\n",
    "\n",
    "    if cols1 != rows2:\n",
    "        print(\"Matrix multiplication is not possible. Number of columns in Matrix 1 must be equal to the number of rows in Matrix 2.\")\n",
    "        return\n",
    "\n",
    "    print(\"\\nMatrix 1:\")\n",
    "    matrix1 = get_matrix_input(rows1, cols1)\n",
    "\n",
    "    print(\"\\nMatrix 2:\")\n",
    "    matrix2 = get_matrix_input(rows2, cols2)\n",
    "\n",
    "    result = [[0 for _ in range(cols2)] for _ in range(rows1)]\n",
    "\n",
    "    for i in range(rows1):\n",
    "        for j in range(cols2):\n",
    "            for k in range(cols1):\n",
    "                result[i][j] += matrix1[i][k] * matrix2[k][j]\n",
    "\n",
    "    print(\"\\nMatrix Multiplication Result:\")\n",
    "    for row in result:\n",
    "        print(row)\n",
    "\n",
    "matrix_multiplication()\n"
   ]
  },
  {
   "cell_type": "markdown",
   "metadata": {
    "id": "QqhR0W67d2TA"
   },
   "source": [
    "35. Create a program that simulates a basic text-based tic-tac-toe game against the computer."
   ]
  },
  {
   "cell_type": "code",
   "execution_count": null,
   "metadata": {
    "id": "NzCcdnVyd55C"
   },
   "outputs": [],
   "source": [
    "import random\n",
    "def print_board(board):\n",
    "    for row in board:\n",
    "        print(\" | \".join(row))\n",
    "        print(\"-\" * 5)\n",
    "def check_winner(board, player):\n",
    "    for row in board:\n",
    "        if all([spot == player for spot in row]):\n",
    "            return True\n",
    "    for col in range(3):\n",
    "        if all([board[row][col] == player for row in range(3)]):\n",
    "            return True\n",
    "    if all([board[i][i] == player for i in range(3)]) or all([board[i][2 - i] == player for i in range(3)]):\n",
    "        return True\n",
    "    return False\n",
    "def get_empty_positions(board):\n",
    "    return [(i, j) for i in range(3) for j in range(3) if board[i][j] == \" \"]\n",
    "def player_move(board):\n",
    "    while True:\n",
    "        try:\n",
    "            move = int(input(\"Enter your move (1-9): \")) - 1\n",
    "            row, col = divmod(move, 3)\n",
    "            if board[row][col] == \" \":\n",
    "                board[row][col] = \"X\"\n",
    "                break\n",
    "            else:\n",
    "                print(\"That spot is already taken. Try again.\")\n",
    "        except (ValueError, IndexError):\n",
    "            print(\"Invalid input. Please enter a number between 1 and 9.\")\n",
    "\n",
    "def computer_move(board):\n",
    "    empty_positions = get_empty_positions(board)\n",
    "    row, col = random.choice(empty_positions)\n",
    "    board[row][col] = \"O\"\n",
    "    print(f\"Computer chose {row * 3 + col + 1}\")\n",
    "def play_game():\n",
    "    board = [[\" \"] * 3 for _ in range(3)]\n",
    "    print(\"Welcome to Tic-Tac-Toe! You're playing as 'X' and the computer is 'O'.\")\n",
    "\n",
    "    for turn in range(9):\n",
    "        print_board(board)\n",
    "\n",
    "        if turn % 2 == 0:\n",
    "            player_move(board)\n",
    "        else:\n",
    "            computer_move(board)\n",
    "\n",
    "        if turn % 2 == 1 and check_winner(board, \"X\"):\n",
    "            print_board(board)\n",
    "            print(\"You win!\")\n",
    "            break\n",
    "        elif turn % 2 == 1 and check_winner(board, \"O\"):\n",
    "            print_board(board)\n",
    "            print(\"Computer wins!\")\n",
    "            break\n",
    "    else:\n",
    "        print_board(board)\n",
    "        print(\"It's a tie!\")\n",
    "\n",
    "play_game()\n"
   ]
  },
  {
   "cell_type": "markdown",
   "metadata": {
    "id": "3bQc3Dr1eJci"
   },
   "source": [
    "36. Write a program that generates Fibonacci numbers up to a specified term using iterative methods."
   ]
  },
  {
   "cell_type": "code",
   "execution_count": null,
   "metadata": {
    "id": "1pBQwjjTeVQT"
   },
   "outputs": [],
   "source": [
    "def generate_fibonacci(n):\n",
    "    fibonacci_sequence = []\n",
    "    a, b = 0, 1\n",
    "    for _ in range(n):\n",
    "        fibonacci_sequence.append(a)\n",
    "        a, b = b, a + b\n",
    "    return fibonacci_sequence\n",
    "\n",
    "def main():\n",
    "    n = int(input(\"Enter the number of terms in the Fibonacci sequence: \"))\n",
    "    fibonacci_sequence = generate_fibonacci(n)\n",
    "    print(f\"The first {n} Fibonacci numbers are: {fibonacci_sequence}\")\n",
    "\n",
    "main()\n"
   ]
  },
  {
   "cell_type": "markdown",
   "metadata": {
    "id": "G_PY4Ja9eYmm"
   },
   "source": [
    "37. Develop a program that calculates the nth term of the Fibonacci sequence using memoization."
   ]
  },
  {
   "cell_type": "code",
   "execution_count": null,
   "metadata": {
    "id": "B1z2dRfNecb7"
   },
   "outputs": [],
   "source": [
    "def fibonacci(n, memo={}):\n",
    "    if n in memo:\n",
    "        return memo[n]\n",
    "    if n <= 1:\n",
    "        return n\n",
    "    memo[n] = fibonacci(n-1, memo) + fibonacci(n-2, memo)\n",
    "    return memo[n]\n",
    "\n",
    "def main():\n",
    "    n = int(input(\"Enter the term number to calculate in the Fibonacci sequence: \"))\n",
    "    result = fibonacci(n)\n",
    "    print(f\"The {n}th term of the Fibonacci sequence is: {result}\")\n",
    "\n",
    "main()\n"
   ]
  },
  {
   "cell_type": "markdown",
   "metadata": {
    "id": "IdAJclMgeho8"
   },
   "source": [
    "38. Create a program that generates a calendar for a given month and year using conditional statements."
   ]
  },
  {
   "cell_type": "code",
   "execution_count": null,
   "metadata": {
    "id": "RT_KvtnOenUb"
   },
   "outputs": [],
   "source": [
    "import calendar\n",
    "def generate_calendar():\n",
    "    year = int(input(\"Enter the year: \"))\n",
    "    month = int(input(\"Enter the month (1-12): \"))\n",
    "\n",
    "    if month < 1 or month > 12:\n",
    "        print(\"Invalid month. Please enter a number between 1 and 12.\")\n",
    "        return\n",
    "\n",
    "    month_name = calendar.month_name[month]\n",
    "    month_calendar = calendar.month(year, month)\n",
    "\n",
    "    print(f\"\\n{month_name} {year}\")\n",
    "    print(month_calendar)\n",
    "\n",
    "generate_calendar()\n"
   ]
  },
  {
   "cell_type": "markdown",
   "metadata": {
    "id": "ergxuO9beul5"
   },
   "source": [
    "39. Build a program that simulates a basic text-based blackjack game against the computer."
   ]
  },
  {
   "cell_type": "code",
   "execution_count": null,
   "metadata": {
    "id": "JxIQi-Z1eygi"
   },
   "outputs": [],
   "source": [
    "import random\n",
    "def deal_card():\n",
    "    cards = [2, 3, 4, 5, 6, 7, 8, 9, 10, 10, 10, 10, 11]\n",
    "    return random.choice(cards)\n",
    "def calculate_score(hand):\n",
    "    if sum(hand) == 21 and len(hand) == 2:\n",
    "        return 0\n",
    "    if 11 in hand and sum(hand) > 21:\n",
    "        hand.remove(11)\n",
    "        hand.append(1)\n",
    "    return sum(hand)\n",
    "def print_hand(player, hand):\n",
    "    print(f\"{player}'s hand: {hand}, score: {calculate_score(hand)}\")\n",
    "def play_blackjack():\n",
    "    player_hand = [deal_card(), deal_card()]\n",
    "    computer_hand = [deal_card(), deal_card()]\n",
    "    game_over = False\n",
    "    while not game_over:\n",
    "        print_hand(\"Player\", player_hand)\n",
    "        print(f\"Computer's hand: {computer_hand[0]} and X\")\n",
    "        if calculate_score(player_hand) == 21:\n",
    "            print(\"Blackjack! You win!\")\n",
    "            return\n",
    "        if calculate_score(player_hand) > 21:\n",
    "            print(\"You went over 21! You lose!\")\n",
    "\n"
   ]
  },
  {
   "cell_type": "markdown",
   "metadata": {
    "id": "kECypdy2fR4n"
   },
   "source": [
    "40. Write a program that generates the prime factors of a given number using trial division."
   ]
  },
  {
   "cell_type": "code",
   "execution_count": null,
   "metadata": {
    "id": "TCLGNtaBfWnv"
   },
   "outputs": [],
   "source": [
    "def prime_factors(n):\n",
    "    factors = []\n",
    "    divisor = 2\n",
    "    while divisor * divisor <= n:\n",
    "        while n % divisor == 0:\n",
    "            factors.append(divisor)\n",
    "            n //= divisor\n",
    "        divisor += 1\n",
    "    if n > 1:\n",
    "        factors.append(n)\n",
    "    return factors\n",
    "def main():\n",
    "    num = int(input(\"Enter a number to find its prime factors: \"))\n",
    "    factors = prime_factors(num)\n",
    "    print(f\"The prime factors of {num} are: {factors}\")\n",
    "main()\n"
   ]
  },
  {
   "cell_type": "markdown",
   "metadata": {
    "id": "w3OlOQsyY5vz"
   },
   "source": []
  }
 ],
 "metadata": {
  "colab": {
   "authorship_tag": "ABX9TyO5B3CPrusPCj7TplxoeUSr",
   "provenance": []
  },
  "kernelspec": {
   "display_name": "Python 3",
   "name": "python3"
  },
  "language_info": {
   "codemirror_mode": {
    "name": "ipython",
    "version": 3
   },
   "file_extension": ".py",
   "mimetype": "text/x-python",
   "name": "python",
   "nbconvert_exporter": "python",
   "pygments_lexer": "ipython3",
   "version": "3.13.1"
  }
 },
 "nbformat": 4,
 "nbformat_minor": 0
}
