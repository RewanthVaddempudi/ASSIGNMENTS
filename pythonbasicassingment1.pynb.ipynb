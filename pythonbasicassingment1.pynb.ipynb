{
 "cells": [
  {
   "cell_type": "markdown",
   "id": "8f6a73fe-b558-4201-b71c-9e66c73091d8",
   "metadata": {},
   "source": [
    "1)Declare two variables, `x` and `y`, and assign them integer values. Swap the\n",
    "values of these variables without using any temporary variable."
   ]
  },
  {
   "cell_type": "code",
   "execution_count": 2,
   "id": "5cb26285-e9b3-48a4-a12e-437e64e45796",
   "metadata": {},
   "outputs": [
    {
     "name": "stdout",
     "output_type": "stream",
     "text": [
      "enter a number 4\n",
      "enter another number 8\n"
     ]
    },
    {
     "name": "stdout",
     "output_type": "stream",
     "text": [
      "before swaping: 4 8\n",
      "After swaping: 8 4\n"
     ]
    }
   ],
   "source": [
    "x=int(input('enter a number'))\n",
    "y=int(input('enter another number'))\n",
    "print('before swaping:',x,y)\n",
    "x,y=y,x\n",
    "print('After swaping:',x,y)"
   ]
  },
  {
   "cell_type": "markdown",
   "id": "46607e43-4ddb-4a0c-ad44-b81803baaf76",
   "metadata": {},
   "source": [
    "2)Create a program that calculates the area of a rectangle. Take the length and\n",
    "width as inputs from the user and store them in variables. Calculate and\n",
    "display the area."
   ]
  },
  {
   "cell_type": "code",
   "execution_count": 4,
   "id": "52d88d3d-7d6d-41f6-9cb9-7ad24dea4965",
   "metadata": {},
   "outputs": [
    {
     "name": "stdout",
     "output_type": "stream",
     "text": [
      "enter the length 12\n",
      "enter the width 21\n"
     ]
    },
    {
     "name": "stdout",
     "output_type": "stream",
     "text": [
      "252.00 is area of rectangle\n"
     ]
    }
   ],
   "source": [
    "a=float(input('enter the length'))\n",
    "b=float(input('enter the width'))\n",
    "area = a*b\n",
    "print(f'{area:.2f} is area of rectangle') "
   ]
  },
  {
   "cell_type": "markdown",
   "id": "e930014e-c1fa-4d92-8aff-0a03a0035edc",
   "metadata": {},
   "source": [
    "3)Write a Python program that converts temperatures from Celsius to\n",
    "Fahrenheit. Take the temperature in Celsius as input, store it in a variable,\n",
    "convert it to Fahrenheit, and display the result."
   ]
  },
  {
   "cell_type": "code",
   "execution_count": 7,
   "id": "e2e8038e-7549-4892-80df-dc34647c7343",
   "metadata": {},
   "outputs": [
    {
     "name": "stdout",
     "output_type": "stream",
     "text": [
      "enter the temprature in celsius 32\n"
     ]
    },
    {
     "name": "stdout",
     "output_type": "stream",
     "text": [
      "32.0 celsius is equal to 49.77777777777778 fahrenheit\n"
     ]
    }
   ],
   "source": [
    "celsius = float(input('enter the temprature in celsius'))\n",
    "fahrenheit = (celsius*5/9)+32\n",
    "print(f'{celsius} celsius is equal to {fahrenheit} fahrenheit')\n",
    "                "
   ]
  },
  {
   "cell_type": "markdown",
   "id": "4c1da086-2c82-4134-9612-8a827f0d6d2f",
   "metadata": {},
   "source": [
    "THANK YOU"
   ]
  },
  {
   "cell_type": "code",
   "execution_count": null,
   "id": "33cec929-36eb-4371-9676-6c81df507a75",
   "metadata": {},
   "outputs": [],
   "source": []
  }
 ],
 "metadata": {
  "kernelspec": {
   "display_name": "Python 3 (ipykernel)",
   "language": "python",
   "name": "python3"
  },
  "language_info": {
   "codemirror_mode": {
    "name": "ipython",
    "version": 3
   },
   "file_extension": ".py",
   "mimetype": "text/x-python",
   "name": "python",
   "nbconvert_exporter": "python",
   "pygments_lexer": "ipython3",
   "version": "3.10.8"
  }
 },
 "nbformat": 4,
 "nbformat_minor": 5
}
