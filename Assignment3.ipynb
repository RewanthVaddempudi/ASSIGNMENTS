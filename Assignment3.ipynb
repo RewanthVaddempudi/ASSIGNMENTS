{
 "cells": [
  {
   "cell_type": "code",
   "execution_count": null,
   "metadata": {
    "id": "TEkwzhig_ALs"
   },
   "outputs": [],
   "source": []
  },
  {
   "cell_type": "markdown",
   "metadata": {
    "id": "-njd9J1s_BN6"
   },
   "source": [
    "1. Write a Python program to print the numbers from 1 to 10 using a `for` loop.\n"
   ]
  },
  {
   "cell_type": "code",
   "execution_count": null,
   "metadata": {
    "id": "pjnyMFAZ_C83"
   },
   "outputs": [],
   "source": [
    "\n",
    "for number in range(1, 11):\n",
    "    print(number)\n",
    "\n"
   ]
  },
  {
   "cell_type": "markdown",
   "metadata": {
    "id": "0vP7aI5t_OmD"
   },
   "source": [
    "2. Create a program that calculates the sum of all numbers in a list using a `for` loop."
   ]
  },
  {
   "cell_type": "code",
   "execution_count": null,
   "metadata": {
    "id": "wAewPiXb_V9A"
   },
   "outputs": [],
   "source": [
    "def calculate_sum(numbers):\n",
    "    total = 0\n",
    "    for number in numbers:\n",
    "        total += number\n",
    "    return total\n",
    "numbers_list = [1, 2, 3, 4, 5]\n",
    "result = calculate_sum(numbers_list)\n",
    "print(f\"The sum of the numbers in the list is: {result}\")\n"
   ]
  },
  {
   "cell_type": "markdown",
   "metadata": {
    "id": "mGaK0LbH_pGi"
   },
   "source": [
    "3. Write a program to print the characters of a string in reverse order using a `for` loop.\n"
   ]
  },
  {
   "cell_type": "code",
   "execution_count": null,
   "metadata": {
    "id": "G5yxtgYa_ufK"
   },
   "outputs": [],
   "source": [
    "input_string = \"Hello, World!\"\n",
    "print(\"Reversed String:\")\n",
    "for i in range(len(input_string) - 1, -1, -1):\n",
    "    print(input_string[i], end=\"\")\n"
   ]
  },
  {
   "cell_type": "markdown",
   "metadata": {
    "id": "R8j_oX57_5VW"
   },
   "source": [
    "4. Develop a program that finds the factorial of a given number using a `for` loop."
   ]
  },
  {
   "cell_type": "code",
   "execution_count": null,
   "metadata": {
    "id": "HXOz2zCj_9Lj"
   },
   "outputs": [],
   "source": [
    "number = int(input(\"Enter a number to find its factorial: \"))\n",
    "factorial = 1\n",
    "if number < 0:\n",
    "    print(\"Factorial does not exist for negative numbers.\")\n",
    "elif number == 0:\n",
    "    print(\"The factorial of 0 is 1.\")\n",
    "else:\n",
    "    for i in range(1, number + 1):\n",
    "        factorial *= i\n",
    "    print(f\"The factorial of {number} is {factorial}.\")\n"
   ]
  },
  {
   "cell_type": "markdown",
   "metadata": {
    "id": "pWtehyTDARig"
   },
   "source": [
    "5. Create a program to print the multiplication table of a given number using a `for` loop."
   ]
  },
  {
   "cell_type": "code",
   "execution_count": null,
   "metadata": {
    "id": "fPA8i34CAbkN"
   },
   "outputs": [],
   "source": [
    "def print_multiplication_table(number, up_to=10):\n",
    "    print(f\"Multiplication table for {number}:\")\n",
    "    for i in range(1, up_to + 1):\n",
    "        print(f\"{number} x {i} = {number * i}\")\n",
    "num = int(input(\"Enter a number to print its multiplication table: \"))\n",
    "print_multiplication_table(num)\n"
   ]
  },
  {
   "cell_type": "markdown",
   "metadata": {
    "id": "EmB7dji_AzU6"
   },
   "source": [
    "6. Write a program that counts the number of even and odd numbers in a list using a `for` loop."
   ]
  },
  {
   "cell_type": "code",
   "execution_count": null,
   "metadata": {
    "id": "FMGx5knUA4pO"
   },
   "outputs": [],
   "source": [
    "numbers = [10, 21, 4, 45, 66, 93, 1, 34]\n",
    "even_count = 0\n",
    "odd_count = 0\n",
    "for num in numbers:\n",
    "    if num % 2 == 0:\n",
    "        even_count += 1\n",
    "    else:\n",
    "        odd_count += 1\n",
    "print(f\"Even numbers count: {even_count}\")\n",
    "print(f\"Odd numbers count: {odd_count}\")\n"
   ]
  },
  {
   "cell_type": "markdown",
   "metadata": {
    "id": "-0SA57CIBNbm"
   },
   "source": [
    "7. Develop a program that prints the squares of numbers from 1 to 5 using a `for` loop."
   ]
  },
  {
   "cell_type": "code",
   "execution_count": null,
   "metadata": {
    "id": "Qihnd_ozBYVb"
   },
   "outputs": [],
   "source": [
    "def print_squares():\n",
    "    print(\"Squares of numbers from 1 to 5:\")\n",
    "    for number in range(1, 6):\n",
    "        print(f\"{number}^2 = {number ** 2}\")\n",
    "print_squares()\n"
   ]
  },
  {
   "cell_type": "markdown",
   "metadata": {
    "id": "43-ikYwdBsLb"
   },
   "source": [
    "8. Create a program to find the length of a string without using the `len()` function."
   ]
  },
  {
   "cell_type": "code",
   "execution_count": null,
   "metadata": {
    "id": "Lh2_x1VJB0kb"
   },
   "outputs": [],
   "source": [
    "input_string = input(\"Enter a string: \")\n",
    "length = 0\n",
    "for char in input_string:\n",
    "    length += 1\n",
    "print(f\"The length of the string is: {length}\")\n"
   ]
  },
  {
   "cell_type": "markdown",
   "metadata": {
    "id": "o0hrcsJkCGlR"
   },
   "source": [
    "9. Write a program that calculates the average of a list of numbers using a `for` loop."
   ]
  },
  {
   "cell_type": "code",
   "execution_count": null,
   "metadata": {
    "id": "jMqn6rhTCNgD"
   },
   "outputs": [],
   "source": [
    "def calculate_average(numbers):\n",
    "    total = 0\n",
    "    count = 0\n",
    "    for number in numbers:\n",
    "        total += number\n",
    "        count += 1\n",
    "    if count == 0:\n",
    "        return 0\n",
    "    return total / count\n",
    "numbers_list = [10, 20, 30, 40, 50]\n",
    "average = calculate_average(numbers_list)\n",
    "print(f\"The average of the numbers in the list is: {average}\")\n"
   ]
  },
  {
   "cell_type": "markdown",
   "metadata": {
    "id": "zOBPiqihCVsh"
   },
   "source": [
    "10. Develop a program that prints the first `n` Fibonacci numbers using a `for` loop."
   ]
  },
  {
   "cell_type": "code",
   "execution_count": null,
   "metadata": {
    "id": "kSfdd0EOCXJ4"
   },
   "outputs": [],
   "source": [
    "n = int(input(\"Enter the number of Fibonacci terms to display: \"))\n",
    "if n <= 0:\n",
    "    print(\"Please enter a positive integer.\")\n",
    "else:\n",
    "    a, b = 0, 1\n",
    "    print(\"Fibonacci sequence:\")\n",
    "    for i in range(n):\n",
    "        print(a, end=\" \")\n",
    "        a, b = b, a + b"
   ]
  },
  {
   "cell_type": "markdown",
   "metadata": {
    "id": "l4RCdEEgCtyV"
   },
   "source": [
    "11. Write a program to check if a given list contains any duplicates using a `for` loop."
   ]
  },
  {
   "cell_type": "code",
   "execution_count": null,
   "metadata": {
    "id": "df_AkVkaCu_m"
   },
   "outputs": [],
   "source": [
    "input_list = [1, 2, 3, 4, 5, 6, 2]\n",
    "seen = []\n",
    "for item in input_list:\n",
    "    if item in seen:\n",
    "        print(\"The list contains duplicates.\")\n",
    "        break\n",
    "    seen.append(item)\n",
    "else:\n",
    "    print(\"The list does not contain any duplicates.\")\n"
   ]
  },
  {
   "cell_type": "markdown",
   "metadata": {
    "id": "u2EFsD6pDGaN"
   },
   "source": [
    "12. Create a program that prints the prime numbers in a given range using a `for` loop."
   ]
  },
  {
   "cell_type": "code",
   "execution_count": null,
   "metadata": {
    "id": "kFJGBZb6DIAj"
   },
   "outputs": [],
   "source": [
    "start = int(input(\"Enter the starting number of the range: \"))\n",
    "end = int(input(\"Enter the ending number of the range: \"))\n",
    "def is_prime(num):\n",
    "    if num <= 1:\n",
    "        return False\n",
    "    for i in range(2, int(num ** 0.5) + 1):\n",
    "        if num % i == 0:\n",
    "            return False\n",
    "    return True\n",
    "print(f\"Prime numbers between {start} and {end}:\")\n",
    "for number in range(start, end + 1):\n",
    "    if is_prime(number):\n",
    "        print(number, end=\" \")\n"
   ]
  },
  {
   "cell_type": "markdown",
   "metadata": {
    "id": "QqX9XZ-1Ddsn"
   },
   "source": []
  },
  {
   "cell_type": "markdown",
   "metadata": {
    "id": "0tadKdHNDeiK"
   },
   "source": [
    "13. Develop a program that counts the number of vowels in a string using a `for` loop."
   ]
  },
  {
   "cell_type": "code",
   "execution_count": null,
   "metadata": {
    "id": "N_H5twQvDhVm"
   },
   "outputs": [],
   "source": [
    "input_string = input(\"Enter a string: \")\n",
    "vowel_count = 0\n",
    "vowels = \"aeiouAEIOU\"\n",
    "for char in input_string:\n",
    "    if char in vowels:\n",
    "        vowel_count += 1\n",
    "print(f\"The number of vowels in the string is: {vowel_count}\")\n"
   ]
  },
  {
   "cell_type": "markdown",
   "metadata": {
    "id": "123hS6cKFB45"
   },
   "source": [
    "14. Write a program to find the maximum element in a 2D list using a nested `for` loop."
   ]
  },
  {
   "cell_type": "code",
   "execution_count": null,
   "metadata": {
    "id": "bdwCAnnOFCqg"
   },
   "outputs": [],
   "source": [
    "matrix = [\n",
    "    [1, 5, 9],\n",
    "    [3, 7, 4],\n",
    "    [6, 2, 8]\n",
    "]\n",
    "max_element = float('-inf')\n",
    "for row in matrix:\n",
    "    for element in row:\n",
    "        if element > max_element:\n",
    "            max_element = element\n",
    "print(f\"The maximum element in the 2D list is: {max_element}\")\n"
   ]
  },
  {
   "cell_type": "code",
   "execution_count": null,
   "metadata": {
    "id": "9FHITQkJE2sB"
   },
   "outputs": [],
   "source": []
  },
  {
   "cell_type": "markdown",
   "metadata": {
    "id": "I5d-ckMZFTbN"
   },
   "source": [
    "15. Create a program that removes all occurrences of a specific element from a list using a `for` loop."
   ]
  },
  {
   "cell_type": "code",
   "execution_count": null,
   "metadata": {
    "id": "rjq1y6L3FaGN"
   },
   "outputs": [],
   "source": [
    "input_list = [1, 2, 3, 4, 2, 5, 2, 6]\n",
    "element_to_remove = int(input(\"Enter the element to remove: \"))\n",
    "new_list = []\n",
    "for item in input_list:\n",
    "    if item != element_to_remove:\n",
    "        new_list.append(item)\n",
    "print(f\"List after removing all occurrences of {element_to_remove}: {new_list}\")\n"
   ]
  },
  {
   "cell_type": "markdown",
   "metadata": {
    "id": "90Qgr8-2Fz3L"
   },
   "source": [
    "16. Develop a program that generates a multiplication table for numbers from 1 to 5 using a nested `for` loop."
   ]
  },
  {
   "cell_type": "markdown",
   "metadata": {
    "id": "Z9QASPe9_f3f"
   },
   "source": []
  },
  {
   "cell_type": "code",
   "execution_count": null,
   "metadata": {
    "id": "czuNN61tF9yp"
   },
   "outputs": [],
   "source": [
    "for i in range(1, 6):\n",
    "    for j in range(1, 6):\n",
    "        print(f\"{i * j:2}\", end=\" \")\n",
    "    print()\n"
   ]
  },
  {
   "cell_type": "markdown",
   "metadata": {
    "id": "p51QQ82lGIaN"
   },
   "source": [
    "17. Write a program that converts a list of Fahrenheit temperatures to Celsius using a `for` loop."
   ]
  },
  {
   "cell_type": "code",
   "execution_count": null,
   "metadata": {
    "id": "W9AmFEMAGLyy"
   },
   "outputs": [],
   "source": [
    "fahrenheit_temps = [32, 50, 77, 100, 212]\n",
    "celsius_temps = []\n",
    "for temp in fahrenheit_temps:\n",
    "    celsius = (temp - 32) * 5 / 9\n",
    "    celsius_temps.append(celsius)\n",
    "print(\"Fahrenheit to Celsius conversion:\")\n",
    "for f, c in zip(fahrenheit_temps, celsius_temps):\n",
    "    print(f\"{f}°F = {c:.2f}°C\")\n"
   ]
  },
  {
   "cell_type": "markdown",
   "metadata": {
    "id": "uXMakWRaGZw_"
   },
   "source": [
    "18. Create a program to print the common elements from two lists using a `for` loop."
   ]
  },
  {
   "cell_type": "code",
   "execution_count": null,
   "metadata": {
    "id": "dUrjESDuGdRa"
   },
   "outputs": [],
   "source": [
    "list1 = [1, 2, 3, 4, 5]\n",
    "list2 = [4, 5, 6, 7, 8]\n",
    "common_elements = []\n",
    "for item in list1:\n",
    "    if item in list2 and item not in common_elements:\n",
    "        common_elements.append(item)\n",
    "print(\"Common elements:\", common_elements)\n"
   ]
  },
  {
   "cell_type": "markdown",
   "metadata": {
    "id": "ta1Le4vrGoDC"
   },
   "source": [
    "19. Develop a program that prints the pattern of right-angled triangles using a `for` loop. Use ‘*’ to draw the\n",
    "pattern"
   ]
  },
  {
   "cell_type": "code",
   "execution_count": null,
   "metadata": {
    "id": "SQ-Eqm6jGreE"
   },
   "outputs": [],
   "source": [
    "height = int(input(\"Enter the height of the triangle: \"))\n",
    "for i in range(1, height + 1):\n",
    "    print('*' * i)\n"
   ]
  },
  {
   "cell_type": "markdown",
   "metadata": {
    "id": "cK9kHMCDG3D6"
   },
   "source": [
    "20. Write a program to find the greatest common divisor (GCD) of two numbers using a `for` loop."
   ]
  },
  {
   "cell_type": "code",
   "execution_count": null,
   "metadata": {
    "id": "BUZ6yp_lG62A"
   },
   "outputs": [],
   "source": [
    "num1 = int(input(\"Enter the first number: \"))\n",
    "num2 = int(input(\"Enter the second number: \"))\n",
    "min_num = min(num1, num2)\n",
    "gcd = 1\n",
    "for i in range(1, min_num + 1):\n",
    "    if num1 % i == 0 and num2 % i == 0:\n",
    "        gcd = i\n",
    "print(f\"The GCD of {num1} and {num2} is: {gcd}\")\n"
   ]
  },
  {
   "cell_type": "code",
   "execution_count": null,
   "metadata": {
    "id": "U1YHExAGK_Su"
   },
   "outputs": [],
   "source": []
  },
  {
   "cell_type": "markdown",
   "metadata": {
    "id": "NiR6AxsOHKJn"
   },
   "source": [
    "21. Create a program that calculates the sum of the digits of numbers in a list using a list comprehension."
   ]
  },
  {
   "cell_type": "code",
   "execution_count": null,
   "metadata": {
    "id": "8B24pLxBHPSM"
   },
   "outputs": [],
   "source": [
    "numbers = [123, 456, 789, 234]\n",
    "sum_of_digits = [sum(int(digit) for digit in str(number)) for number in numbers]\n",
    "print(\"Sum of digits for each number in the list:\")\n",
    "for number, digit_sum in zip(numbers, sum_of_digits):\n",
    "    print(f\"Sum of digits of {number}: {digit_sum}\")\n"
   ]
  },
  {
   "cell_type": "markdown",
   "metadata": {
    "id": "zh2aPE9MHY9H"
   },
   "source": [
    "22. Write a program to find the prime factors of a given number using a `for` loop and list comprehension."
   ]
  },
  {
   "cell_type": "code",
   "execution_count": null,
   "metadata": {
    "id": "LvZifYnNHeog"
   },
   "outputs": [],
   "source": [
    "num = int(input(\"Enter a number to find its prime factors: \"))\n",
    "def prime_factors(n):\n",
    "    factors = [i for i in range(2, n + 1) if n % i == 0 and all(i % j != 0 for j in range(2, int(i ** 0.5) + 1))]\n",
    "    return factors\n",
    "factors = prime_factors(num)\n",
    "print(f\"The prime factors of {num} are: {factors}\")\n"
   ]
  },
  {
   "cell_type": "markdown",
   "metadata": {
    "id": "HAjHPEHSHqHV"
   },
   "source": [
    "23. Develop a program that extracts unique elements from a list and stores them in a new list using a list\n",
    "comprehension."
   ]
  },
  {
   "cell_type": "code",
   "execution_count": null,
   "metadata": {
    "id": "uBPEPERJIG-V"
   },
   "outputs": [],
   "source": [
    "input_list = [1, 2, 3, 4, 2, 5, 3, 6, 7, 4]\n",
    "unique_elements = [item for index, item in enumerate(input_list) if item not in input_list[:index]]\n",
    "print(\"Unique elements in the list:\", unique_elements)\n"
   ]
  },
  {
   "cell_type": "markdown",
   "metadata": {
    "id": "NbuitqPwISA5"
   },
   "source": [
    "24. Create a program that generates a list of all palindromic numbers up to a specified limit using a list\n",
    "comprehension."
   ]
  },
  {
   "cell_type": "markdown",
   "metadata": {
    "id": "SspvwTnRIcZ0"
   },
   "source": []
  },
  {
   "cell_type": "code",
   "execution_count": null,
   "metadata": {
    "id": "4rjmoND9Im7d"
   },
   "outputs": [],
   "source": [
    "def find_palindromes(limit):\n",
    "    return [num for num in range(limit + 1) if str(num) == str(num)[::-1]]\n",
    "limit = 1000\n",
    "palindromes = find_palindromes(limit)\n",
    "print(f\"Palindromic numbers up to {limit}: {palindromes}\")\n"
   ]
  },
  {
   "cell_type": "markdown",
   "metadata": {
    "id": "r6_IP6SqIs-s"
   },
   "source": [
    "25. Write a program to flatten a nested list using list comprehension."
   ]
  },
  {
   "cell_type": "code",
   "execution_count": null,
   "metadata": {
    "id": "AyhhuRJCIx3D"
   },
   "outputs": [],
   "source": [
    "def flatten(nested_list):\n",
    "    return [item for sublist in nested_list for item in sublist]\n",
    "nested_list = [[1, 2, 3], [4, 5], [6, 7, 8]]\n",
    "flattened_list = flatten(nested_list)\n",
    "print(f\"Flattened list: {flattened_list}\")\n"
   ]
  },
  {
   "cell_type": "markdown",
   "metadata": {
    "id": "kBTx7VZLI5cC"
   },
   "source": [
    "26. Develop a program that computes the sum of even and odd numbers in a list separately using list\n",
    "comprehension."
   ]
  },
  {
   "cell_type": "code",
   "execution_count": null,
   "metadata": {
    "id": "QIqAV3ztI9-l"
   },
   "outputs": [],
   "source": [
    "def sum_even_odd(numbers):\n",
    "    even_sum = sum([num for num in numbers if num % 2 == 0])\n",
    "    odd_sum = sum([num for num in numbers if num % 2 != 0])\n",
    "    return even_sum, odd_sum\n",
    "numbers = [1, 2, 3, 4, 5, 6, 7, 8, 9, 10]\n",
    "even_sum, odd_sum = sum_even_odd(numbers)\n",
    "print(f\"Sum of even numbers: {even_sum}\")\n",
    "print(f\"Sum of odd numbers: {odd_sum}\")\n"
   ]
  },
  {
   "cell_type": "markdown",
   "metadata": {
    "id": "bSc0DewCJHdH"
   },
   "source": [
    "27. Create a program that generates a list of squares of odd numbers between 1 and 10 using list"
   ]
  },
  {
   "cell_type": "code",
   "execution_count": null,
   "metadata": {
    "id": "Lu9YY0toJKog"
   },
   "outputs": [],
   "source": [
    "def odd_squares():\n",
    "    return [num ** 2 for num in range(1, 11) if num % 2 != 0]\n",
    "squares_of_odd_numbers = odd_squares()\n",
    "print(f\"Squares of odd numbers between 1 and 10: {squares_of_odd_numbers}\")\n"
   ]
  },
  {
   "cell_type": "markdown",
   "metadata": {
    "id": "ujrAfw04JSUW"
   },
   "source": [
    "28. Write a program that combines two lists into a dictionary using list comprehension."
   ]
  },
  {
   "cell_type": "code",
   "execution_count": null,
   "metadata": {
    "id": "VraZKP95JY-k"
   },
   "outputs": [],
   "source": [
    "def combine_lists_to_dict(keys, values):\n",
    "    return {keys[i]: values[i] for i in range(len(keys))}\n",
    "keys = ['a', 'b', 'c']\n",
    "values = [1, 2, 3]\n",
    "result_dict = combine_lists_to_dict(keys, values)\n",
    "print(f\"Combined dictionary: {result_dict}\")\n"
   ]
  },
  {
   "cell_type": "markdown",
   "metadata": {
    "id": "WxY_UMqwJhoC"
   },
   "source": [
    "29. Develop a program that extracts the vowels from a string and stores them in a list using list comprehension."
   ]
  },
  {
   "cell_type": "code",
   "execution_count": null,
   "metadata": {
    "id": "mzMKAsXjJlpm"
   },
   "outputs": [],
   "source": [
    "def extract_vowels(s):\n",
    "    vowels = \"aeiouAEIOU\"\n",
    "    return [char for char in s if char in vowels]\n",
    "input_string = \"Hello, World!\"\n",
    "vowel_list = extract_vowels(input_string)\n",
    "print(f\"Vowels extracted from the string: {vowel_list}\")\n"
   ]
  },
  {
   "cell_type": "markdown",
   "metadata": {
    "id": "GMPSaToNJtrw"
   },
   "source": [
    "30. Create a program that removes all non-numeric characters from a list of strings using list comprehension."
   ]
  },
  {
   "cell_type": "code",
   "execution_count": null,
   "metadata": {
    "id": "bv2Ta8XYJxj6"
   },
   "outputs": [],
   "source": [
    "def remove_non_numeric(strings):\n",
    "    return [''.join([char for char in string if char.isdigit()]) for string in strings]\n",
    "strings = [\"abc123\", \"45def\", \"ghi6789\", \"no9on\"]\n",
    "cleaned_strings = remove_non_numeric(strings)\n",
    "print(f\"Strings with only numeric characters: {cleaned_strings}\")\n"
   ]
  },
  {
   "cell_type": "markdown",
   "metadata": {
    "id": "3CwmwuvFJ4ue"
   },
   "source": [
    "31. Write a program to generate a list of prime numbers using the Sieve of Eratosthenes algorithm and list\n",
    "comprehension."
   ]
  },
  {
   "cell_type": "code",
   "execution_count": null,
   "metadata": {
    "id": "PSPFAD2iJ9I5"
   },
   "outputs": [],
   "source": [
    "def sieve_of_eratosthenes(limit):\n",
    "    primes = [True] * (limit + 1)\n",
    "    primes[0], primes[1] = False, False\n",
    "    for num in range(2, int(limit**0.5) + 1):\n",
    "        if primes[num]:\n",
    "            for multiple in range(num * num, limit + 1, num):\n",
    "                primes[multiple] = False\n",
    "    return [num for num in range(2, limit + 1) if primes[num]]\n",
    "limit = 50\n",
    "prime_numbers = sieve_of_eratosthenes(limit)\n",
    "print(f\"Prime numbers up to {limit}: {prime_numbers}\")\n"
   ]
  },
  {
   "cell_type": "markdown",
   "metadata": {
    "id": "8S0V-nZOKU_m"
   },
   "source": [
    "32. Create a program that generates a list of all Pythagorean triplets up to a specified limit using list\n",
    "comprehension."
   ]
  },
  {
   "cell_type": "code",
   "execution_count": null,
   "metadata": {
    "id": "-2Tz1t02KYA-"
   },
   "outputs": [],
   "source": [
    "def pythagorean_triplets(limit):\n",
    "    return [(a, b, c) for a in range(1, limit)\n",
    "            for b in range(a, limit)\n",
    "            for c in range(b, limit)\n",
    "            if a**2 + b**2 == c**2]\n",
    "limit = 20\n",
    "triplets = pythagorean_triplets(limit)\n",
    "print(f\"Pythagorean triplets up to {limit}: {triplets}\")\n"
   ]
  },
  {
   "cell_type": "markdown",
   "metadata": {
    "id": "ezIR0-67Ke58"
   },
   "source": [
    "33. Develop a program that generates a list of all possible combinations of two lists using list comprehension."
   ]
  },
  {
   "cell_type": "code",
   "execution_count": null,
   "metadata": {
    "id": "WI-EgzI0KiID"
   },
   "outputs": [],
   "source": [
    "def generate_combinations(list1, list2):\n",
    "    return [(x, y) for x in list1 for y in list2]\n",
    "list1 = [1, 2, 3]\n",
    "list2 = ['a', 'b', 'c']\n",
    "combinations = generate_combinations(list1, list2)\n",
    "print(f\"All possible combinations: {combinations}\")\n"
   ]
  },
  {
   "cell_type": "markdown",
   "metadata": {
    "id": "MdaWk8WrKqd4"
   },
   "source": [
    "34. Write a program that calculates the mean, median, and mode of a list of numbers using list\n",
    "comprehension."
   ]
  },
  {
   "cell_type": "code",
   "execution_count": null,
   "metadata": {
    "id": "7kbHqZPCKvQq"
   },
   "outputs": [],
   "source": [
    "import statistics\n",
    "def calculate_statistics(numbers):\n",
    "    mean = sum(numbers) / len(numbers) if numbers else 0\n",
    "    sorted_numbers = sorted(numbers)\n",
    "    mid = len(numbers) // 2\n",
    "    median = (sorted_numbers[mid] if len(numbers) % 2 != 0 else\n",
    "              (sorted_numbers[mid - 1] + sorted_numbers[mid]) / 2) if numbers else 0\n",
    "    mode = statistics.mode(numbers) if numbers else None\n",
    "\n",
    "    return mean, median, mode\n",
    "numbers = [1, 2, 2, 3, 4, 4, 4, 5, 6, 7]\n",
    "mean, median, mode = calculate_statistics(numbers)\n",
    "print(f\"Mean: {mean}\")\n",
    "print(f\"Median: {median}\")\n",
    "print(f\"Mode: {mode}\")\n"
   ]
  },
  {
   "cell_type": "markdown",
   "metadata": {
    "id": "6lQPYR7yQr7O"
   },
   "source": [
    "35. Create a program that generates Pascal's triangle up to a specified number of rows using list\n",
    "comprehension."
   ]
  },
  {
   "cell_type": "code",
   "execution_count": null,
   "metadata": {
    "id": "U_cX-M7MQvv2"
   },
   "outputs": [],
   "source": [
    "def generate_pascals_triangle(n):\n",
    "    triangle = [[1] * (i + 1) for i in range(n)]\n",
    "\n",
    "    for i in range(2, n):\n",
    "        triangle[i] = [triangle[i-1][j-1] + triangle[i-1][j] if 0 < j < len(triangle[i-1]) - 1 else 1 for j in range(i+1)]\n",
    "\n",
    "    return triangle\n",
    "rows = 5\n",
    "triangle = generate_pascals_triangle(rows)\n",
    "for row in triangle:\n",
    "    print(row)\n"
   ]
  },
  {
   "cell_type": "markdown",
   "metadata": {
    "id": "nvP6wMCrRPEC"
   },
   "source": [
    "36. Develop a program that calculates the sum of the digits of a factorial of numbers from 1 to 5 using list\n",
    "comprehension."
   ]
  },
  {
   "cell_type": "code",
   "execution_count": null,
   "metadata": {
    "id": "8X1Jz6rhRR2M"
   },
   "outputs": [],
   "source": [
    "Sum of digits of 1! is 1\n",
    "Sum of digits of 2! is 2\n",
    "Sum of digits of 3! is 6\n",
    "Sum of digits of 4! is 6\n",
    "Sum of digits of 5! is 3\n"
   ]
  },
  {
   "cell_type": "markdown",
   "metadata": {
    "id": "ZD89fnrkRaYe"
   },
   "source": [
    "37. Write a program that finds the longest word in a sentence using list comprehension."
   ]
  },
  {
   "cell_type": "code",
   "execution_count": null,
   "metadata": {
    "id": "zaCMB0RMRg-C"
   },
   "outputs": [],
   "source": [
    "def longest_word(sentence):\n",
    "    words = sentence.split()\n",
    "    longest = max(words, key=len)\n",
    "    return longest\n",
    "sentence = \"The quick brown fox jumps over the lazy dog\"\n",
    "longest = longest_word(sentence)\n",
    "print(f\"The longest word in the sentence is: '{longest}'\")\n"
   ]
  },
  {
   "cell_type": "markdown",
   "metadata": {
    "id": "OwZl32dvSR3A"
   },
   "source": [
    "38. Create a program that filters a list of strings to include only those with more than three vowels using list\n",
    "comprehension."
   ]
  },
  {
   "cell_type": "code",
   "execution_count": null,
   "metadata": {
    "id": "n790Gn3_SVNM"
   },
   "outputs": [],
   "source": [
    "\n",
    "def longest_word(sentence):\n",
    "    words = sentence.split()\n",
    "    longest = max(words, key=len)\n",
    "    return longest\n",
    "sentence = \"The quick brown fox jumps over the lazy dog\"\n",
    "longest = longest_word(sentence)\n",
    "print(f\"The longest word in the sentence is: '{longest}'\")\n"
   ]
  },
  {
   "cell_type": "markdown",
   "metadata": {
    "id": "54CUYx6FS2rf"
   },
   "source": [
    "39. Develop a program that calculates the sum of the digits of numbers from 1 to 1000 using list\n",
    "comprehension."
   ]
  },
  {
   "cell_type": "code",
   "execution_count": null,
   "metadata": {
    "id": "w2GXDpRoS4Dp"
   },
   "outputs": [],
   "source": [
    "def sum_of_digits(num):\n",
    "    return sum(int(digit) for digit in str(num))\n",
    "sum_digits = [sum_of_digits(i) for i in range(1, 1001)]\n",
    "print(f\"Sum of digits of numbers from 1 to 1000: {sum(sum_digits)}\")\n"
   ]
  },
  {
   "cell_type": "markdown",
   "metadata": {
    "id": "b-aU39chTDT9"
   },
   "source": [
    "40. Write a program that generates a list of prime palindromic numbers using list comprehension."
   ]
  },
  {
   "cell_type": "code",
   "execution_count": null,
   "metadata": {
    "id": "r1O_B5gCTHRo"
   },
   "outputs": [],
   "source": [
    "def is_prime(n):\n",
    "    if n <= 1:\n",
    "        return False\n",
    "    for i in range(2, int(n ** 0.5) + 1):\n",
    "        if n % i == 0:\n",
    "            return False\n",
    "    return True\n",
    "def is_palindrome(n):\n",
    "    return str(n) == str(n)[::-1]\n",
    "prime_palindromes = [n for n in range(1, 1001) if is_prime(n) and is_palindrome(n)]\n",
    "\n",
    "print(f\"Prime palindromic numbers between 1 and 1000: {prime_palindromes}\")\n"
   ]
  }
 ],
 "metadata": {
  "colab": {
   "authorship_tag": "ABX9TyMm8XDLfmPt+NL6dmKWxFCu",
   "provenance": []
  },
  "kernelspec": {
   "display_name": "Python 3",
   "name": "python3"
  },
  "language_info": {
   "name": "python"
  }
 },
 "nbformat": 4,
 "nbformat_minor": 0
}
