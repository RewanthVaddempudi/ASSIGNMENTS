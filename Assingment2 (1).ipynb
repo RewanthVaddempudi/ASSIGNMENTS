{
 "cells": [
  {
   "cell_type": "markdown",
   "id": "218ad7f1-afd1-4e92-baa2-2a4a1379896e",
   "metadata": {},
   "source": [
    "TOPIC: String Based Assignment Problem\n",
    "1. Write a program to reverse a string."
   ]
  },
  {
   "cell_type": "code",
   "execution_count": 1,
   "id": "721c7ab3-8437-4165-a147-6bf4e18dc0bd",
   "metadata": {},
   "outputs": [
    {
     "name": "stdout",
     "output_type": "stream",
     "text": [
      "esrever\n"
     ]
    }
   ],
   "source": [
    "a='reverse'\n",
    "print(a[::-1])"
   ]
  },
  {
   "cell_type": "markdown",
   "id": "01b679d5-f9ba-45b4-8350-81693e072c2f",
   "metadata": {},
   "source": [
    "2. Check if a string is a palindrome."
   ]
  },
  {
   "cell_type": "code",
   "execution_count": 78,
   "id": "186f9a91-9360-4d8a-a842-b276c807f1c6",
   "metadata": {},
   "outputs": [
    {
     "name": "stdin",
     "output_type": "stream",
     "text": [
      "enter a string malayalam\n"
     ]
    },
    {
     "name": "stdout",
     "output_type": "stream",
     "text": [
      "malayalam\n",
      "malayalam\n",
      "string is palindrome\n"
     ]
    }
   ],
   "source": [
    "a=input('enter a string')\n",
    "print(a)\n",
    "a1=a[::-1]\n",
    "print(a1)\n",
    "if(a==a1):\n",
    "     print('string is palindrome')\n",
    "else:\n",
    "     print('string is not palindrome')\n",
    "        "
   ]
  },
  {
   "cell_type": "markdown",
   "id": "17396570-81cf-43b9-9f5b-96444166a650",
   "metadata": {},
   "source": [
    "3. Convert a string to uppercase."
   ]
  },
  {
   "cell_type": "code",
   "execution_count": 24,
   "id": "5a2667dc-6b6f-4a43-b294-9620c012d166",
   "metadata": {},
   "outputs": [
    {
     "name": "stdout",
     "output_type": "stream",
     "text": [
      "After uppercase: LIONEL MESSI\n"
     ]
    }
   ],
   "source": [
    "a='lionel messi'\n",
    "a=a.upper()\n",
    "print('After uppercase:',a)"
   ]
  },
  {
   "cell_type": "markdown",
   "id": "0072adce-e1fa-41fa-a56f-a737b1f60b99",
   "metadata": {},
   "source": [
    "4. Convert a string to lowercase."
   ]
  },
  {
   "cell_type": "code",
   "execution_count": 25,
   "id": "49c17a2b-f4e3-46fe-9ac9-f644ad451969",
   "metadata": {},
   "outputs": [
    {
     "name": "stdout",
     "output_type": "stream",
     "text": [
      "After lowercase: rohit sharma\n"
     ]
    }
   ],
   "source": [
    "a='ROHIT SHARMA'\n",
    "a=a.lower()\n",
    "print('After lowercase:',a)"
   ]
  },
  {
   "cell_type": "markdown",
   "id": "d516fe9a-efcd-4157-bf81-8006b481a5b4",
   "metadata": {},
   "source": [
    "5. Count the number of vowels in a string."
   ]
  },
  {
   "cell_type": "code",
   "execution_count": 30,
   "id": "d3ec7b8b-623e-42ae-a1fd-80971b375475",
   "metadata": {},
   "outputs": [
    {
     "name": "stdin",
     "output_type": "stream",
     "text": [
      "Enter a string:  detective penguin\n"
     ]
    },
    {
     "name": "stdout",
     "output_type": "stream",
     "text": [
      "Number of vowels: 7\n"
     ]
    }
   ],
   "source": [
    "a = input(\"Enter a string: \")\n",
    "a = a.lower()\n",
    "vowel_count = 0\n",
    "for char in a:  \n",
    "    if char not \"aeiou\":\n",
    "        vowel_count += 1\n",
    "print(\"Number of vowels:\", vowel_count)\n"
   ]
  },
  {
   "cell_type": "markdown",
   "id": "5dbc1c33-586d-476c-a23f-3351dd75fed8",
   "metadata": {},
   "source": [
    "6. Count the number of consonants in a string."
   ]
  },
  {
   "cell_type": "code",
   "execution_count": 36,
   "id": "208dfc83-0883-41c6-9217-0f0de8914afe",
   "metadata": {},
   "outputs": [
    {
     "name": "stdin",
     "output_type": "stream",
     "text": [
      "Enter a string:  ERdfghRTYCghbnjkm\n"
     ]
    },
    {
     "name": "stdout",
     "output_type": "stream",
     "text": [
      "Number of cons: 16\n"
     ]
    }
   ],
   "source": [
    "a = input(\"Enter a string: \")\n",
    "cons_count = 0\n",
    "for char in a:  \n",
    "    if char not in \"aeiouAEIOU\":\n",
    "        cons_count += 1\n",
    "print(\"Number of cons:\", cons_count)"
   ]
  },
  {
   "cell_type": "markdown",
   "id": "b5341e55-1c7d-4b09-a7e7-35e46394ffb4",
   "metadata": {},
   "source": [
    "7. Remove all whitespaces from a string."
   ]
  },
  {
   "cell_type": "code",
   "execution_count": 43,
   "id": "0475936a-a787-4902-95e4-212f5049147b",
   "metadata": {},
   "outputs": [
    {
     "name": "stdout",
     "output_type": "stream",
     "text": [
      "Before :        sad life:(\n",
      "After: sad life:(\n"
     ]
    }
   ],
   "source": [
    "a = '       sad life:('\n",
    "print('Before :',a)\n",
    "a=a.strip()\n",
    "print('After:',a)"
   ]
  },
  {
   "cell_type": "markdown",
   "id": "734cc7b6-60b6-40c5-b8e9-b9896c9510ac",
   "metadata": {},
   "source": [
    "8. Find the length of a string without using the `len()` function."
   ]
  },
  {
   "cell_type": "code",
   "execution_count": 48,
   "id": "1fb282ac-039e-4f26-be65-b832a712d78b",
   "metadata": {},
   "outputs": [
    {
     "name": "stdin",
     "output_type": "stream",
     "text": [
      "Enter a string Logical\n"
     ]
    },
    {
     "name": "stdout",
     "output_type": "stream",
     "text": [
      "Length of the string 7\n"
     ]
    }
   ],
   "source": [
    "a=input('Enter a string')\n",
    "count=0\n",
    "for char in a:\n",
    "    count+= 1\n",
    "print('Length of the string',count)    "
   ]
  },
  {
   "cell_type": "markdown",
   "id": "11de0cc0-54fb-438c-8211-d325286a431a",
   "metadata": {},
   "source": [
    "9. Check if a string contains a specific word."
   ]
  },
  {
   "cell_type": "code",
   "execution_count": 53,
   "id": "7d9d55a4-3ab0-4fd0-8729-372e254d3a23",
   "metadata": {},
   "outputs": [
    {
     "name": "stdin",
     "output_type": "stream",
     "text": [
      "Enter the string hihenry\n",
      "enter the substring henry\n"
     ]
    },
    {
     "name": "stdout",
     "output_type": "stream",
     "text": [
      "henry is substring of hihenry\n"
     ]
    }
   ],
   "source": [
    "a=input('Enter the string')\n",
    "b=input('enter the substring')\n",
    "if b in a:\n",
    "    print(f\"{b} is substring of {a}\")\n",
    "else:\n",
    "    print(f\"{b} is not substring of {a}\")\n"
   ]
  },
  {
   "cell_type": "markdown",
   "id": "c37ead4c-8953-4256-8f86-b2dd38c8ef14",
   "metadata": {},
   "source": [
    "10. Replace a word in a string with another word."
   ]
  },
  {
   "cell_type": "code",
   "execution_count": 63,
   "id": "162c9218-f7c4-443c-a735-91ab1de92bd0",
   "metadata": {},
   "outputs": [
    {
     "name": "stdin",
     "output_type": "stream",
     "text": [
      "Enter the string hello world\n",
      "enter replace word world\n",
      "enter replaced word planet\n"
     ]
    },
    {
     "name": "stdout",
     "output_type": "stream",
     "text": [
      "hello planet\n"
     ]
    }
   ],
   "source": [
    "a=input('Enter the string')\n",
    "b=input('enter replace word')\n",
    "c=input('enter replaced word')\n",
    "d=a.replace(b,c)\n",
    "print(d)"
   ]
  },
  {
   "cell_type": "markdown",
   "id": "a80800df-e023-44ec-80ee-16b22c4af403",
   "metadata": {},
   "source": [
    "Count the occurrences of a word in a string."
   ]
  },
  {
   "cell_type": "code",
   "execution_count": 64,
   "id": "06e20253-8f16-46fb-8b64-70fb5ecc9f1c",
   "metadata": {},
   "outputs": [
    {
     "name": "stdin",
     "output_type": "stream",
     "text": [
      "Enter the string queen\n",
      "Enter the string for count e\n"
     ]
    },
    {
     "name": "stdout",
     "output_type": "stream",
     "text": [
      "2\n"
     ]
    }
   ],
   "source": [
    "a=input('Enter the string')\n",
    "b=input('Enter the string for count')\n",
    "count = a.count(b)\n",
    "print(count)"
   ]
  },
  {
   "cell_type": "markdown",
   "id": "7ef36493-74b9-464d-a061-92b0c6fab5db",
   "metadata": {},
   "source": [
    "12. Find the first occurrence of a word in a string."
   ]
  },
  {
   "cell_type": "code",
   "execution_count": 66,
   "id": "ca2193fb-934b-4fa6-983c-689c9978b269",
   "metadata": {},
   "outputs": [
    {
     "name": "stdin",
     "output_type": "stream",
     "text": [
      "Enter the string my name is stephen curry\n",
      "Enter the string for position p\n"
     ]
    },
    {
     "name": "stdout",
     "output_type": "stream",
     "text": [
      "position of string 14\n"
     ]
    }
   ],
   "source": [
    "a=input('Enter the string')\n",
    "b=input('Enter the string for position')\n",
    "position = a.index(b)\n",
    "print('position of string',position)"
   ]
  },
  {
   "cell_type": "markdown",
   "id": "768df0af-42fc-4bdd-ad10-13bd340f4d3a",
   "metadata": {},
   "source": [
    "Find the last occurrence of a word in a string."
   ]
  },
  {
   "cell_type": "code",
   "execution_count": 70,
   "id": "34e159f1-eb8c-449e-8a7b-3cecda0d81c3",
   "metadata": {},
   "outputs": [
    {
     "name": "stdin",
     "output_type": "stream",
     "text": [
      "Enter the string queen\n",
      "Enter the string for position e\n"
     ]
    },
    {
     "name": "stdout",
     "output_type": "stream",
     "text": [
      "position of string 3\n"
     ]
    }
   ],
   "source": [
    "a=input('Enter the string')\n",
    "b=input('Enter the string for position')\n",
    "position = a.rfind(b)\n",
    "print('position of string',position)"
   ]
  },
  {
   "cell_type": "markdown",
   "id": "5b69ecca-ac34-455e-b159-1e7db531fcab",
   "metadata": {},
   "source": [
    "14. Split a string into a list of words."
   ]
  },
  {
   "cell_type": "code",
   "execution_count": 76,
   "id": "b4d7f0fa-00b3-4adc-bb8b-37bea6164215",
   "metadata": {},
   "outputs": [
    {
     "name": "stdin",
     "output_type": "stream",
     "text": [
      "Enter the string: i am pwskills student\n"
     ]
    },
    {
     "name": "stdout",
     "output_type": "stream",
     "text": [
      "['i', 'am', 'pwskills', 'student']\n"
     ]
    }
   ],
   "source": [
    "a=input('Enter the string:')\n",
    "b=a.split()\n",
    "print(b)"
   ]
  },
  {
   "cell_type": "markdown",
   "id": "5189f4f6-796e-4562-bf4b-412f8a9676c7",
   "metadata": {},
   "source": [
    "15. Join a list of words into a string."
   ]
  },
  {
   "cell_type": "code",
   "execution_count": 3,
   "id": "f6b566e7-1bf0-42fb-b7ba-d22676c32618",
   "metadata": {},
   "outputs": [
    {
     "name": "stdout",
     "output_type": "stream",
     "text": [
      "who are you\n"
     ]
    }
   ],
   "source": [
    "a=['who','are','you']\n",
    "b=' '.join(a)\n",
    "print(b)"
   ]
  },
  {
   "cell_type": "markdown",
   "id": "cb8f72a2-1cb7-4190-a11e-6d33d6358391",
   "metadata": {},
   "source": [
    "16. Convert a string where words are separated by spaces to one where words\n",
    "are separated by underscores."
   ]
  },
  {
   "cell_type": "code",
   "execution_count": 4,
   "id": "de00dffc-aa81-4c94-9dff-433b8b1be58e",
   "metadata": {},
   "outputs": [
    {
     "name": "stdin",
     "output_type": "stream",
     "text": [
      "Enter a string This is bussiness\n"
     ]
    },
    {
     "name": "stdout",
     "output_type": "stream",
     "text": [
      "Before replacing:  This is bussiness\n",
      "After replacing: This_is_bussiness\n"
     ]
    }
   ],
   "source": [
    "a=input('Enter a string')\n",
    "print('Before replacing: ',a)\n",
    "b=a.replace(\" \",\"_\")\n",
    "print('After replacing:',b)"
   ]
  },
  {
   "cell_type": "markdown",
   "id": "569c71b1-359c-4c60-9473-8ec8a656139d",
   "metadata": {},
   "source": [
    "17. Check if a string starts with a specific word or phrase."
   ]
  },
  {
   "cell_type": "code",
   "execution_count": 7,
   "id": "7ff94ab7-9dae-4895-a058-bbbe57e3388f",
   "metadata": {},
   "outputs": [
    {
     "name": "stdin",
     "output_type": "stream",
     "text": [
      "Enter the string dogs are emotional\n",
      "Enter the word or phrase to check dogs\n"
     ]
    },
    {
     "name": "stdout",
     "output_type": "stream",
     "text": [
      "String starts with dogs\n"
     ]
    }
   ],
   "source": [
    "a=input('Enter the string')\n",
    "b=input('Enter the word or phrase to check at begining')\n",
    "if a.startswith(b):\n",
    "    print(f'String starts with {b}')\n",
    "else:\n",
    "    print(f'String doesnt start with {b}')\n",
    "    "
   ]
  },
  {
   "cell_type": "markdown",
   "id": "cd14c117-d59a-4278-a73a-c32564eb7218",
   "metadata": {},
   "source": [
    "18. Check if a string ends with a specific word or phrase."
   ]
  },
  {
   "cell_type": "code",
   "execution_count": 8,
   "id": "66ee6aa6-57f7-4117-8a19-4bd35621cce8",
   "metadata": {},
   "outputs": [
    {
     "name": "stdin",
     "output_type": "stream",
     "text": [
      "Enter the string cats are not emotional\n",
      "Enter the word or phrase to check at end emotional\n"
     ]
    },
    {
     "name": "stdout",
     "output_type": "stream",
     "text": [
      "String ends with emotional\n"
     ]
    }
   ],
   "source": [
    "a=input('Enter the string')\n",
    "b=input('Enter the word or phrase to check at end')\n",
    "if a.endswith(b):\n",
    "    print(f'String ends with {b}')\n",
    "else:\n",
    "    print(f'String doesnt ends with {b}')"
   ]
  },
  {
   "cell_type": "markdown",
   "id": "e857a981-7c38-4808-b8d4-a396c3dadd38",
   "metadata": {},
   "source": [
    "19. Convert a string to title case (e.g., \"hello world\" to \"Hello World\")."
   ]
  },
  {
   "cell_type": "code",
   "execution_count": 10,
   "id": "89b856cd-65c4-45d0-90fb-eb341cc82810",
   "metadata": {},
   "outputs": [
    {
     "name": "stdin",
     "output_type": "stream",
     "text": [
      "Enter the string pathaan\n"
     ]
    },
    {
     "name": "stdout",
     "output_type": "stream",
     "text": [
      "before using title: pathaan\n",
      "After using title Pathaan\n"
     ]
    }
   ],
   "source": [
    "a=input('Enter the string')\n",
    "print('before using title:',a)\n",
    "a=a.title()\n",
    "print('After using title',a)"
   ]
  },
  {
   "cell_type": "markdown",
   "id": "11ea9f48-18c5-4388-9d24-274259b65bda",
   "metadata": {},
   "source": [
    "20. Find the longest word in a string."
   ]
  },
  {
   "cell_type": "code",
   "execution_count": 13,
   "id": "743f88f9-c295-4370-a36c-2a6d679f5f7a",
   "metadata": {},
   "outputs": [
    {
     "name": "stdin",
     "output_type": "stream",
     "text": [
      "Enter a string:  bad boys\n"
     ]
    },
    {
     "name": "stdout",
     "output_type": "stream",
     "text": [
      "Longest word: boys\n",
      "Length of the longest word: 4\n"
     ]
    }
   ],
   "source": [
    "a = input(\"Enter a string: \")\n",
    "b = a.split()\n",
    "longest_word = \"\"\n",
    "max_length = 0\n",
    "for word in b:\n",
    "    if len(word) > max_length:\n",
    "        longest_word = word\n",
    "        max_length = len(word)\n",
    "print(\"Longest word:\", longest_word)\n",
    "print(\"Length of the longest word:\", max_length)\n"
   ]
  },
  {
   "cell_type": "markdown",
   "id": "928ab2ae-28e9-4c7a-a0b5-fe0d1ffa6c21",
   "metadata": {},
   "source": [
    "21. Find the shortest word in a string."
   ]
  },
  {
   "cell_type": "code",
   "execution_count": 17,
   "id": "92628308-22ce-4337-80de-0c40ff5806de",
   "metadata": {},
   "outputs": [
    {
     "name": "stdin",
     "output_type": "stream",
     "text": [
      "Enter the string convocation was always fun\n"
     ]
    },
    {
     "name": "stdout",
     "output_type": "stream",
     "text": [
      "Shortest word: was\n",
      "Length of the shortest word: 3\n"
     ]
    }
   ],
   "source": [
    "\n",
    "a = input('Enter the string')\n",
    "b = a.split()\n",
    "shortest_word = None\n",
    "min_length = float('inf')\n",
    "for word in b:\n",
    "    if len(word) < min_length:\n",
    "        shortest_word = word\n",
    "        min_length = len(word)\n",
    "print(\"Shortest word:\", shortest_word)\n",
    "print(\"Length of the shortest word:\", min_length)\n"
   ]
  },
  {
   "cell_type": "markdown",
   "id": "e99ac90a-223f-47c7-802a-2b86c5a8612b",
   "metadata": {},
   "source": [
    "22. Reverse the order of words in a string."
   ]
  },
  {
   "cell_type": "code",
   "execution_count": 19,
   "id": "f94cf151-f6af-4da2-93b6-ca5242c14e07",
   "metadata": {},
   "outputs": [
    {
     "name": "stdin",
     "output_type": "stream",
     "text": [
      "Enter the string he is good boy\n"
     ]
    },
    {
     "name": "stdout",
     "output_type": "stream",
     "text": [
      "After reverse: boy good is he\n"
     ]
    }
   ],
   "source": [
    "a = input('Enter the string')\n",
    "b=a.split()\n",
    "c=' '.join(b[::-1])\n",
    "print('After reverse:',c)"
   ]
  },
  {
   "cell_type": "markdown",
   "id": "b1d94daa-b3eb-4965-8604-2bbd9e43602e",
   "metadata": {},
   "source": [
    "23. Check if a string is alphanumeric."
   ]
  },
  {
   "cell_type": "code",
   "execution_count": 26,
   "id": "ee0cd0cc-35ab-4778-9981-b576b6c7c89b",
   "metadata": {},
   "outputs": [
    {
     "name": "stdin",
     "output_type": "stream",
     "text": [
      "Enter the string #alpha\n"
     ]
    },
    {
     "name": "stdout",
     "output_type": "stream",
     "text": [
      "False\n"
     ]
    }
   ],
   "source": [
    "a = input('Enter the string')\n",
    "a=a.isalnum()\n",
    "print(a)"
   ]
  },
  {
   "cell_type": "markdown",
   "id": "8e8d39b9-3e92-4e40-80da-ab3048be09b9",
   "metadata": {},
   "source": [
    "24. Extract all digits from a string."
   ]
  },
  {
   "cell_type": "code",
   "execution_count": 42,
   "id": "d7d35f31-6136-49f2-8786-e2f5af8d7abf",
   "metadata": {},
   "outputs": [
    {
     "name": "stdin",
     "output_type": "stream",
     "text": [
      "Enter the string messi10\n"
     ]
    },
    {
     "name": "stdout",
     "output_type": "stream",
     "text": [
      "extracted digits: 1 0\n"
     ]
    }
   ],
   "source": [
    "a = input('Enter the string')\n",
    "b=[char for char in a if char.isdigit()]\n",
    "c=' '.join(b)\n",
    "print(\"extracted digits:\",c)     "
   ]
  },
  {
   "cell_type": "markdown",
   "id": "80064470-d47b-4ab5-8b59-082f274a4afd",
   "metadata": {},
   "source": [
    "25. Extract all alphabets from a string."
   ]
  },
  {
   "cell_type": "code",
   "execution_count": 43,
   "id": "55f52d7d-b1c6-4f8e-bc32-95b42f1b8ee5",
   "metadata": {},
   "outputs": [
    {
     "name": "stdin",
     "output_type": "stream",
     "text": [
      "Enter the string worldcup\n"
     ]
    },
    {
     "name": "stdout",
     "output_type": "stream",
     "text": [
      "extracted alhpabets: w o r l d c u p\n"
     ]
    }
   ],
   "source": [
    "a = input('Enter the string')\n",
    "b=[char for char in a if char.isalpha()]\n",
    "c=' '.join(b)\n",
    "print(\"extracted alhpabets:\",c) "
   ]
  },
  {
   "cell_type": "markdown",
   "id": "2e81ce23-ceb3-44e1-9d8c-2ae94bda0be6",
   "metadata": {},
   "source": [
    "26. Count the number of uppercase letters in a string."
   ]
  },
  {
   "cell_type": "code",
   "execution_count": 52,
   "id": "21f6dc5f-a6ce-4015-b1b4-e8335731c2df",
   "metadata": {},
   "outputs": [
    {
     "name": "stdin",
     "output_type": "stream",
     "text": [
      "Enter the string Today Is Wednewsday\n"
     ]
    },
    {
     "name": "stdout",
     "output_type": "stream",
     "text": [
      "Number of ucase letters: 3\n"
     ]
    }
   ],
   "source": [
    "a = input('Enter the string')\n",
    "b=[char for char in a if char.isupper()]\n",
    "print('Number of ucase letters:',len(b))"
   ]
  },
  {
   "cell_type": "markdown",
   "id": "41e8bcc7-e2c8-46bc-9325-0074e5ac4707",
   "metadata": {},
   "source": [
    "27. Count the number of lowercase letters in a string."
   ]
  },
  {
   "cell_type": "code",
   "execution_count": 50,
   "id": "a91587e4-2387-4dea-9e0b-99d77b6f0ec5",
   "metadata": {},
   "outputs": [
    {
     "name": "stdin",
     "output_type": "stream",
     "text": [
      "Enter the string One Piece\n"
     ]
    },
    {
     "name": "stdout",
     "output_type": "stream",
     "text": [
      "number pf lcase letters: 6\n"
     ]
    }
   ],
   "source": [
    "a = input('Enter the string')\n",
    "b=[char for char in a if char.islower()]\n",
    "print('number pf lcase letters:',len(b))"
   ]
  },
  {
   "cell_type": "markdown",
   "id": "3f5ac091-8367-4ca3-b134-cc9d882639a4",
   "metadata": {},
   "source": [
    "28. Swap the case of each character in a string."
   ]
  },
  {
   "cell_type": "code",
   "execution_count": 67,
   "id": "a4540d6d-d1d9-4e48-a5e9-eff6fc5707c5",
   "metadata": {},
   "outputs": [
    {
     "name": "stdin",
     "output_type": "stream",
     "text": [
      "Enter the string UPPERlower\n"
     ]
    },
    {
     "name": "stdout",
     "output_type": "stream",
     "text": [
      "Before swapping the case of upper: ['U', 'P', 'P', 'E', 'R']\n",
      "Before swapping the case of lower: ['l', 'o', 'w', 'e', 'r']\n",
      "\n",
      "\n",
      "After swapping ucase to lcase: ['u', 'p', 'p', 'e', 'r']\n",
      "After swapping lcase to ucase: ['L', 'O', 'W', 'E', 'R']\n"
     ]
    }
   ],
   "source": [
    "a = input('Enter the string')\n",
    "b=[char for char in a if char.isupper()]\n",
    "print('Before swapping the case of upper:',b)\n",
    "c=[char for char in a if char.islower()]\n",
    "print('Before swapping the case of lower:',c)\n",
    "b=str(b)\n",
    "c=str(c)\n",
    "b=b.lower()\n",
    "c=c.upper()\n",
    "print('\\n')\n",
    "print('After swapping ucase to lcase:',b)\n",
    "print('After swapping lcase to ucase:',c)"
   ]
  },
  {
   "cell_type": "markdown",
   "id": "cbf77bf0-f68f-42bf-b35a-bfe4494e64d6",
   "metadata": {},
   "source": [
    "29. Remove a specific word from a string."
   ]
  },
  {
   "cell_type": "code",
   "execution_count": 75,
   "id": "528f0701-f95b-4315-bbd0-37ea6dd167a5",
   "metadata": {},
   "outputs": [
    {
     "name": "stdin",
     "output_type": "stream",
     "text": [
      "Enter the string hell paradise\n",
      "enter deleting word hell\n"
     ]
    },
    {
     "name": "stdout",
     "output_type": "stream",
     "text": [
      "After deleting word:   paradise\n"
     ]
    }
   ],
   "source": [
    "a=input('Enter the string')\n",
    "b=input('enter deleting word')\n",
    "c=(' ') \n",
    "d=a.replace(b,c)\n",
    "print('After deleting word:',d)"
   ]
  },
  {
   "cell_type": "markdown",
   "id": "8b3cfee9-266f-440f-81e8-d3f7e344c678",
   "metadata": {},
   "source": [
    "30. Check if a string is a valid email address."
   ]
  },
  {
   "cell_type": "code",
   "execution_count": 77,
   "id": "43e853a1-4999-45ce-8a2c-72671eb7d98a",
   "metadata": {},
   "outputs": [
    {
     "name": "stdin",
     "output_type": "stream",
     "text": [
      "Enter the string narutouzumaki8@gmail.com\n"
     ]
    },
    {
     "name": "stdout",
     "output_type": "stream",
     "text": [
      "your email is valid\n"
     ]
    }
   ],
   "source": [
    "a=input('Enter the string')\n",
    "if '@gamil.com' and a.islower():\n",
    "    print(\"your email is valid\")\n",
    "else:\n",
    "    print(\"invalid\")\n"
   ]
  },
  {
   "cell_type": "markdown",
   "id": "32997f29-ed39-44ef-ad8a-201dff173116",
   "metadata": {},
   "source": [
    "31. Extract the username from an email address string."
   ]
  },
  {
   "cell_type": "code",
   "execution_count": 80,
   "id": "dd878431-0996-4306-a9c4-29cf72bbe810",
   "metadata": {},
   "outputs": [
    {
     "name": "stdin",
     "output_type": "stream",
     "text": [
      "Enter the string luffy@gmail.com\n"
     ]
    },
    {
     "name": "stdout",
     "output_type": "stream",
     "text": [
      "USERNAME: luffy\n"
     ]
    }
   ],
   "source": [
    "a=input('Enter the string')\n",
    "b=a.split('@')\n",
    "print('USERNAME:',b[0])"
   ]
  },
  {
   "cell_type": "markdown",
   "id": "2728c513-4dc3-4ef5-a324-44391d0b1949",
   "metadata": {},
   "source": [
    "32. Extract the domain name from an email address string.\n"
   ]
  },
  {
   "cell_type": "code",
   "execution_count": 84,
   "id": "2eee7e0e-d78c-4c06-b1c4-b563853eb626",
   "metadata": {},
   "outputs": [
    {
     "name": "stdin",
     "output_type": "stream",
     "text": [
      "Enter the string ranvijaysingh@gmail.com\n"
     ]
    },
    {
     "name": "stdout",
     "output_type": "stream",
     "text": [
      "USERNAME: gmail.com\n"
     ]
    }
   ],
   "source": [
    "a=input('Enter the string')\n",
    "b=a.split('@')\n",
    "print('USERNAME:',b[-1])"
   ]
  },
  {
   "cell_type": "markdown",
   "id": "724a92eb-dd68-4caa-8979-9f677b931bdb",
   "metadata": {},
   "source": [
    "33. Replace multiple spaces in a string with a single space."
   ]
  },
  {
   "cell_type": "code",
   "execution_count": 87,
   "id": "c31afb74-8091-44fe-9276-3eb374271b57",
   "metadata": {},
   "outputs": [
    {
     "name": "stdin",
     "output_type": "stream",
     "text": [
      "Enter the string: we   are       happy\n"
     ]
    },
    {
     "name": "stdout",
     "output_type": "stream",
     "text": [
      "Before deleting multiple spaces: we   are       happy\n",
      "After deleting multiple spaces: we are happy\n"
     ]
    }
   ],
   "source": [
    "a=input('Enter the string:')\n",
    "print('Before deleting multiple spaces:',a)\n",
    "b=' '.join(a.split())\n",
    "print('After deleting multiple spaces:',b)"
   ]
  },
  {
   "cell_type": "markdown",
   "id": "6d404836-be2d-466f-a5e5-a1176142a5e2",
   "metadata": {},
   "source": [
    "34. Check if a string is a valid URL."
   ]
  },
  {
   "cell_type": "code",
   "execution_count": 1,
   "id": "bce266a9-9f4f-458a-88cb-0ddbf5247b8a",
   "metadata": {},
   "outputs": [
    {
     "name": "stdout",
     "output_type": "stream",
     "text": [
      "https://www.example.com is a valid URL.\n"
     ]
    }
   ],
   "source": [
    "url_to_check = \"https://www.example.com\"\n",
    "valid_schemes = [\"http://\", \"https://\", \"ftp://\", \"ftps://\"]\n",
    "scheme_found = any(url_to_check.startswith(scheme) for scheme in valid_schemes)\n",
    "domain_part = url_to_check.split(\"://\", 1)[-1]\n",
    "dot_found = \".\" in domain_part\n",
    "if scheme_found and dot_found:\n",
    "    print(f\"{url_to_check} is a valid URL.\")\n",
    "else:\n",
    "    print(f\"{url_to_check} is not a valid URL.\")\n"
   ]
  },
  {
   "cell_type": "markdown",
   "id": "1686ca79-c36c-420b-85d9-0ab37fce26cf",
   "metadata": {},
   "source": [
    "35. Extract the protocol (http or https) from a URL string."
   ]
  },
  {
   "cell_type": "code",
   "execution_count": 4,
   "id": "4e7fdc81-75d1-47e5-939d-a23b25633e13",
   "metadata": {},
   "outputs": [
    {
     "name": "stdin",
     "output_type": "stream",
     "text": [
      "enter url string http://10.0.0.12:8090/httpclient.html\n"
     ]
    },
    {
     "name": "stdout",
     "output_type": "stream",
     "text": [
      "The protocol of http://10.0.0.12:8090/httpclient.html is http.\n"
     ]
    }
   ],
   "source": [
    "a =input('enter url string')\n",
    "b=a.find(':')\n",
    "c = a[:colon_position]\n",
    "print(f\"The protocol of {a} is {c}.\")"
   ]
  },
  {
   "cell_type": "markdown",
   "id": "02c1a371-24d3-4fc0-bdf7-e3c4a768d783",
   "metadata": {},
   "source": [
    "36. Find the frequency of each character in a string."
   ]
  },
  {
   "cell_type": "code",
   "execution_count": 8,
   "id": "b2be344b-75df-4488-92ba-d2d6d3af2867",
   "metadata": {},
   "outputs": [
    {
     "name": "stdin",
     "output_type": "stream",
     "text": [
      "Enter the string: visca el barca\n"
     ]
    },
    {
     "name": "stdout",
     "output_type": "stream",
     "text": [
      "The character 'v' appears 1 times.\n",
      "The character 'i' appears 1 times.\n",
      "The character 's' appears 1 times.\n",
      "The character 'c' appears 2 times.\n",
      "The character 'a' appears 3 times.\n",
      "The character ' ' appears 2 times.\n",
      "The character 'e' appears 1 times.\n",
      "The character 'l' appears 1 times.\n",
      "The character 'b' appears 1 times.\n",
      "The character 'r' appears 1 times.\n"
     ]
    }
   ],
   "source": [
    "a=input('Enter the string:')\n",
    "b = {}\n",
    "for char in a:\n",
    "    b[char] = b.get(char, 0) + 1\n",
    "for char, count in b.items():\n",
    "    print(f\"The character '{char}' appears {count} times.\")"
   ]
  },
  {
   "cell_type": "markdown",
   "id": "1bda9266-b1ec-4be8-ab7f-3dd0cb03c546",
   "metadata": {},
   "source": [
    "37. Remove all punctuation from a string.\n"
   ]
  },
  {
   "cell_type": "code",
   "execution_count": 1,
   "id": "45f896e2-40f3-4f88-b3d4-ef6f4888bd74",
   "metadata": {},
   "outputs": [
    {
     "name": "stdin",
     "output_type": "stream",
     "text": [
      "Enter the string: wow! what an actor he is.\n"
     ]
    },
    {
     "name": "stdout",
     "output_type": "stream",
     "text": [
      "Original string: wow! what an actor he is.\n",
      "String without punctuation: wow what an actor he is\n"
     ]
    }
   ],
   "source": [
    "a=input('Enter the string:')\n",
    "b = set(\".,!?;:'\\\"()[]{}<>\")\n",
    "c = ''.join(char for char in a if char not in b)\n",
    "print(f\"Original string: {a}\")\n",
    "print(f\"String without punctuation: {c}\")\n"
   ]
  },
  {
   "cell_type": "markdown",
   "id": "04b4ce0b-a001-4ab6-a4e0-2c3e118a66f7",
   "metadata": {},
   "source": [
    "38. Check if a string contains only digits."
   ]
  },
  {
   "cell_type": "code",
   "execution_count": 4,
   "id": "f288d185-bb72-4275-a049-f6135f3095cb",
   "metadata": {},
   "outputs": [
    {
     "name": "stdin",
     "output_type": "stream",
     "text": [
      "Enter the string: Curry 30\n"
     ]
    },
    {
     "name": "stdout",
     "output_type": "stream",
     "text": [
      "Curry 30 contains non-digit characters.\n"
     ]
    }
   ],
   "source": [
    "a=input('Enter the string:')\n",
    "if a.isdigit():\n",
    "    print(f\"{a} contains only digits.\")\n",
    "else:\n",
    "    print(f\"{a} contains non-digit characters.\")"
   ]
  },
  {
   "cell_type": "markdown",
   "id": "ceacf297-275a-47ba-9b54-b76d58e6dcbc",
   "metadata": {},
   "source": [
    "39. Check if a string contains only alphabets."
   ]
  },
  {
   "cell_type": "code",
   "execution_count": 5,
   "id": "39c815f4-8213-435d-8518-30bbdc1fb80f",
   "metadata": {},
   "outputs": [
    {
     "name": "stdin",
     "output_type": "stream",
     "text": [
      "Enter the string: he is 35 years old\n"
     ]
    },
    {
     "name": "stdout",
     "output_type": "stream",
     "text": [
      "he is 35 years old contains non-alphabets characters.\n"
     ]
    }
   ],
   "source": [
    "a=input('Enter the string:')\n",
    "if a.isalpha():\n",
    "    print(f\"{a} contains only alphabets.\")\n",
    "else:\n",
    "    print(f\"{a} contains non-alphabets characters.\")"
   ]
  },
  {
   "cell_type": "markdown",
   "id": "836c4df6-c85f-4ac7-8a76-1e921066d2a5",
   "metadata": {},
   "source": [
    "40. Convert a string to a list of characters."
   ]
  },
  {
   "cell_type": "code",
   "execution_count": 7,
   "id": "630414e9-3feb-43bc-a063-7454216dce09",
   "metadata": {},
   "outputs": [
    {
     "name": "stdin",
     "output_type": "stream",
     "text": [
      "Enter the string: LIST\n"
     ]
    },
    {
     "name": "stdout",
     "output_type": "stream",
     "text": [
      "Original string: LIST\n",
      "List of characters: ['L', 'I', 'S', 'T']\n"
     ]
    }
   ],
   "source": [
    "a=input('Enter the string:')\n",
    "b = list(a)\n",
    "print(f\"Original string: {a}\")\n",
    "print(f\"List of characters: {b}\")"
   ]
  },
  {
   "cell_type": "markdown",
   "id": "a22e6b24-0d69-41c2-87d3-8a9db1464fc4",
   "metadata": {},
   "source": [
    "41. Check if two strings are anagrams."
   ]
  },
  {
   "cell_type": "code",
   "execution_count": 14,
   "id": "aa52a564-cb04-42a1-a40f-2a985b341a15",
   "metadata": {},
   "outputs": [
    {
     "name": "stdin",
     "output_type": "stream",
     "text": [
      "Enter the string1: post\n",
      "Enter the string2: STOP\n"
     ]
    },
    {
     "name": "stdout",
     "output_type": "stream",
     "text": [
      "post and STOP are anagrams.\n"
     ]
    }
   ],
   "source": [
    "def anagram(str1, str2):\n",
    "    str1 = str1.replace(\" \", \"\").lower()\n",
    "    str2 = str2.replace(\" \", \"\").lower()\n",
    "    return sorted(str1) == sorted(str2)\n",
    "a=input('Enter the string1:')\n",
    "b=input('Enter the string2:')\n",
    "if anagram(a,b):\n",
    "    print(f\"{a} and {b} are anagrams.\")\n",
    "else:\n",
    "    print(f\"{a} and {b} are not anagrams.\")"
   ]
  },
  {
   "cell_type": "markdown",
   "id": "156f472d-38d5-4672-b89d-f26779676cf4",
   "metadata": {},
   "source": [
    "42. Encode a string using a Caesar cipher."
   ]
  },
  {
   "cell_type": "code",
   "execution_count": 13,
   "id": "df0df761-5fa5-4590-a175-0eacbbd49915",
   "metadata": {},
   "outputs": [
    {
     "name": "stdin",
     "output_type": "stream",
     "text": [
      "Enter the text secret\n",
      "Enter the shift of alphabet : 2\n"
     ]
    },
    {
     "name": "stdout",
     "output_type": "stream",
     "text": [
      "Text : secret\n",
      "Shift : 2\n",
      "Cipher: ugetgv\n"
     ]
    }
   ],
   "source": [
    "def encrypt(a,b):\n",
    "    result = \"\"\n",
    "    for i in range(len(a)):\n",
    "        char = a[i]\n",
    "        if (char.isupper()):\n",
    "            result += chr((ord(char) + b-65) % 26 + 65)\n",
    "        else:\n",
    "            result += chr((ord(char) + b- 97) % 26 + 97)\n",
    "\n",
    "    return result\n",
    "a=input('Enter the text')\n",
    "b=int(input('Enter the shift of alphabet :'))\n",
    "print (\"Text : \" + a)\n",
    "print (\"Shift : \" + str(b))\n",
    "print (\"Cipher: \" + encrypt(a,b))"
   ]
  },
  {
   "cell_type": "markdown",
   "id": "519e9491-202b-482a-b1aa-fb23e5dbc79a",
   "metadata": {},
   "source": [
    "43. Decode a Caesar cipher encoded string."
   ]
  },
  {
   "cell_type": "code",
   "execution_count": 17,
   "id": "06a82755-bd65-4a9a-b252-fa29827b2e72",
   "metadata": {},
   "outputs": [
    {
     "name": "stdin",
     "output_type": "stream",
     "text": [
      "Enter the text j bn hppe cpz\n",
      "Enter the shift 1\n"
     ]
    },
    {
     "name": "stdout",
     "output_type": "stream",
     "text": [
      "Ciphertext: j bn hppe cpz\n",
      "Decrypted text: i am good boy\n"
     ]
    }
   ],
   "source": [
    "def caesar_cipher_decode(ciphertext, shift):\n",
    "    decrypted_text = \"\"\n",
    "\n",
    "    for char in ciphertext:\n",
    "        if char.isalpha():\n",
    "            is_upper = char.isupper()\n",
    "            decrypted_char = chr((ord(char) - shift - ord('A' if is_upper else 'a')) % 26 + ord('A' if is_upper else 'a'))\n",
    "            \n",
    "            decrypted_text += decrypted_char\n",
    "        else:\n",
    "            decrypted_text += char\n",
    "\n",
    "    return decrypted_text\n",
    "\n",
    "ciphertext = input('Enter the text')\n",
    "shift = int(input('Enter the shift'))\n",
    "decrypted_text = caesar_cipher_decode(ciphertext, shift)\n",
    "\n",
    "print(\"Ciphertext:\", ciphertext)\n",
    "print(\"Decrypted text:\", decrypted_text)\n"
   ]
  },
  {
   "cell_type": "markdown",
   "id": "46717033-8127-46e1-b1a0-43f005039bef",
   "metadata": {},
   "source": [
    "44. Find the most frequent word in a string."
   ]
  },
  {
   "cell_type": "code",
   "execution_count": 26,
   "id": "4a01445e-7653-414d-8c36-2b4dc2382fe3",
   "metadata": {},
   "outputs": [
    {
     "name": "stdin",
     "output_type": "stream",
     "text": [
      "Enter the string: AURANGABAD\n"
     ]
    },
    {
     "name": "stdout",
     "output_type": "stream",
     "text": [
      "Most frequent word: a\n",
      "Frequency: 4\n"
     ]
    }
   ],
   "source": [
    "a=input('Enter the string:')\n",
    "b = ''.join(char.lower() if char.isalnum() or char.isspace() else ' ' for char in a)\n",
    "\n",
    "c =b.split()\n",
    "\n",
    "word_counts = {}\n",
    "for word in b:\n",
    "    word_counts[word] = word_counts.get(word, 0) + 1\n",
    "\n",
    "d= max(word_counts, key=word_counts.get)\n",
    "frequency = word_counts[d]\n",
    "\n",
    "print(\"Most frequent word:\",d)\n",
    "print(\"Frequency:\", frequency)"
   ]
  },
  {
   "cell_type": "markdown",
   "id": "aadc72b4-09ae-467d-81b2-53d9f9130aa3",
   "metadata": {},
   "source": [
    "45. Find all unique words in a string."
   ]
  },
  {
   "cell_type": "code",
   "execution_count": 30,
   "id": "9105b79b-49bd-4c6f-8b85-74ae40ac2bd3",
   "metadata": {},
   "outputs": [
    {
     "name": "stdin",
     "output_type": "stream",
     "text": [
      "Enter the string: hey hi\n"
     ]
    },
    {
     "name": "stdout",
     "output_type": "stream",
     "text": [
      "Unique words: {'hi', 'hey'}\n"
     ]
    }
   ],
   "source": [
    "a=input('Enter the string:')\n",
    "b= ''.join(char.lower() if char.isalnum() or char.isspace() else ' ' for char in a)\n",
    "c = b.split()\n",
    "unique_words = set(c)\n",
    "print(\"Unique words:\", unique_words)"
   ]
  },
  {
   "cell_type": "markdown",
   "id": "170d8886-b278-4713-b08c-8fbccb01f201",
   "metadata": {},
   "source": [
    "46. Count the number of syllables in a string."
   ]
  },
  {
   "cell_type": "code",
   "execution_count": 32,
   "id": "8e61c2c0-d600-472c-95c2-c322fb0d68dc",
   "metadata": {},
   "outputs": [
    {
     "name": "stdin",
     "output_type": "stream",
     "text": [
      "Enter the string: vapour\n"
     ]
    },
    {
     "name": "stdout",
     "output_type": "stream",
     "text": [
      "Approximate syllable count: 3\n"
     ]
    }
   ],
   "source": [
    "a=input('Enter the string:')\n",
    "vowels = \"aeiouy\"\n",
    "syllable_count = sum(1 for char in a.lower() if char in vowels)\n",
    "print(\"Approximate syllable count:\", syllable_count)"
   ]
  },
  {
   "cell_type": "markdown",
   "id": "0cc66091-9587-4988-be13-8794927e2fac",
   "metadata": {},
   "source": [
    "47. Check if a string contains any special characters."
   ]
  },
  {
   "cell_type": "code",
   "execution_count": 35,
   "id": "86d18988-7fb4-425e-9f9a-999381d14569",
   "metadata": {},
   "outputs": [
    {
     "name": "stdin",
     "output_type": "stream",
     "text": [
      "Enter the string: he got 98.9% in exams.\n"
     ]
    },
    {
     "name": "stdout",
     "output_type": "stream",
     "text": [
      "The string contains special characters.\n"
     ]
    }
   ],
   "source": [
    "a=input('Enter the string:')\n",
    "        \n",
    "special_characters = any(not char.isalnum() and not char.isspace() for char in a)\n",
    "\n",
    "if special_characters:\n",
    "    print(\"The string contains special characters.\")\n",
    "else:\n",
    "    print(\"The string does not contain any special characters.\")"
   ]
  },
  {
   "cell_type": "markdown",
   "id": "cafe1da2-75a4-4ade-8472-545359fa02ce",
   "metadata": {},
   "source": [
    "48. Remove the nth word from a string."
   ]
  },
  {
   "cell_type": "code",
   "execution_count": 43,
   "id": "7a386e55-a26b-4220-b2c7-5248e818b1a7",
   "metadata": {},
   "outputs": [
    {
     "name": "stdin",
     "output_type": "stream",
     "text": [
      "Enter the string: i didnt understand\n",
      "Enter an index 2\n"
     ]
    },
    {
     "name": "stdout",
     "output_type": "stream",
     "text": [
      "Original string: i didnt understand\n",
      "String after removing the 2 word: i understand\n"
     ]
    }
   ],
   "source": [
    "a=input('Enter the string:')\n",
    "b = a.split()\n",
    "\n",
    "n = int(input('Enter an index'))\n",
    "if 1 <= n <= len(b):\n",
    "    del b[n - 1] \n",
    "    result_string = ' '.join(b)\n",
    "\n",
    "    print(\"Original string:\",a)\n",
    "    print(f\"String after removing the {n} word:\", result_string)\n",
    "else:\n",
    "    print(f\"Invalid index {n}. The string has {len(b)} words.\")\n",
    "    print(\"Original string:\",a)"
   ]
  },
  {
   "cell_type": "markdown",
   "id": "42b44423-74b7-446f-9ce2-d1d6c5576600",
   "metadata": {},
   "source": [
    "49. Insert a word at the nth position in a string."
   ]
  },
  {
   "cell_type": "code",
   "execution_count": 6,
   "id": "d811b9c1-aab2-4da7-a982-ae9001cf531e",
   "metadata": {},
   "outputs": [
    {
     "name": "stdin",
     "output_type": "stream",
     "text": [
      "Enter the string: how you\n",
      "new string to insert are\n",
      "Enter the position 4\n"
     ]
    },
    {
     "name": "stdout",
     "output_type": "stream",
     "text": [
      "how  are you\n"
     ]
    }
   ],
   "source": [
    "a=input('Enter the string:')\n",
    "b= input(\"new string to insert\")\n",
    "c= int(input(\"Enter the position\"))\n",
    "d = a[:c] +\" \"+ b +\" \"+ a[c:]\n",
    "print(d)"
   ]
  },
  {
   "cell_type": "markdown",
   "id": "15ffe827-d441-421c-bce8-47fd26724f8f",
   "metadata": {},
   "source": [
    "50. Convert a CSV string to a list of lists."
   ]
  },
  {
   "cell_type": "code",
   "execution_count": 14,
   "id": "06b46f2b-e97b-45f7-8820-435f8505e9cd",
   "metadata": {},
   "outputs": [
    {
     "name": "stdout",
     "output_type": "stream",
     "text": [
      "[['1', 'John', 'Doe'], ['2', 'Jane', 'Smith'], ['3', 'Bob', 'Johnson']]\n"
     ]
    }
   ],
   "source": [
    "csv_string = \"1,John,Doe\\n2,Jane,Smith\\n3,Bob,Johnson\"\n",
    "list_of_lists = [row.split(',') for row in csv_string.split('\\n') if row]\n",
    "print(list_of_lists)"
   ]
  },
  {
   "cell_type": "markdown",
   "id": "98c4f889-1037-447c-9739-d2185b0ab32b",
   "metadata": {},
   "source": [
    "LIST"
   ]
  },
  {
   "cell_type": "markdown",
   "id": "909e1197-752f-44a7-9a10-7be0f1068282",
   "metadata": {},
   "source": [
    "1. Create a list with integers from 1 to 10."
   ]
  },
  {
   "cell_type": "code",
   "execution_count": 18,
   "id": "d2dac505-dfd9-4133-9e06-93ba3a57d576",
   "metadata": {},
   "outputs": [
    {
     "name": "stdout",
     "output_type": "stream",
     "text": [
      "[1, 2, 3, 4, 5, 6, 7, 8, 9, 10]\n"
     ]
    }
   ],
   "source": [
    "a = list(range(1, 11))\n",
    "print(a)"
   ]
  },
  {
   "cell_type": "markdown",
   "id": "15c14a1c-9d5f-4a40-8413-6c1d6e8eaa8c",
   "metadata": {},
   "source": [
    "2. Find the length of a list without using the `len()` function."
   ]
  },
  {
   "cell_type": "code",
   "execution_count": 21,
   "id": "bb653913-7e01-40ae-b2b2-6a9ae7424989",
   "metadata": {},
   "outputs": [
    {
     "name": "stdout",
     "output_type": "stream",
     "text": [
      "Length of the list: 10\n"
     ]
    }
   ],
   "source": [
    "list = [1, 2, 3, 4, 5, 6, 7, 8, 9, 10]\n",
    "length = 0\n",
    "for _ in list:\n",
    "    length += 1\n",
    "print(\"Length of the list:\", length)"
   ]
  },
  {
   "cell_type": "markdown",
   "id": "ef586590-b733-4f89-aee2-82db6acd9a3f",
   "metadata": {},
   "source": [
    "3. Append an element to the end of a list."
   ]
  },
  {
   "cell_type": "code",
   "execution_count": 5,
   "id": "3a86e4dc-71fb-414a-9264-152e7303f3e3",
   "metadata": {},
   "outputs": [
    {
     "name": "stdout",
     "output_type": "stream",
     "text": [
      "[10, 20, 30, 40]\n"
     ]
    }
   ],
   "source": [
    "list=[10,20,30]\n",
    "new_element=(int(40))\n",
    "list.append(new_element)\n",
    "print(list)"
   ]
  },
  {
   "cell_type": "markdown",
   "id": "6e7b3edf-c4d8-46d7-bf9a-ad80e0f83386",
   "metadata": {},
   "source": [
    "4. Insert an element at a specific index in a list."
   ]
  },
  {
   "cell_type": "markdown",
   "id": "a2e23be7-e27e-4b05-a31c-8e2e509d9182",
   "metadata": {},
   "source": [
    "list=[11,12,13,14,15]\n",
    "new_element=int(input('Enter new element'))\n",
    "index=int(input('enter the index'))\n",
    "list.insert(index,new_element)\n",
    "print(list)"
   ]
  },
  {
   "cell_type": "markdown",
   "id": "911483d7-d35f-4af8-9d22-c8cccbf2ee56",
   "metadata": {},
   "source": [
    "5. Remove an element from a list by its value."
   ]
  },
  {
   "cell_type": "code",
   "execution_count": 12,
   "id": "65adea81-cb4c-4a84-b4c8-27f07acf64a1",
   "metadata": {},
   "outputs": [
    {
     "name": "stdout",
     "output_type": "stream",
     "text": [
      "[11, 12, 14, 15]\n"
     ]
    }
   ],
   "source": [
    "list=[11,12,13,14,15]\n",
    "list.remove(13)\n",
    "print(list)"
   ]
  },
  {
   "cell_type": "markdown",
   "id": "f377a153-7b65-4c0b-be98-37a35c918630",
   "metadata": {},
   "source": [
    "6. Remove an element from a list by its index."
   ]
  },
  {
   "cell_type": "code",
   "execution_count": 13,
   "id": "ad522902-5af9-4a4d-b1a0-dd214a05a7d5",
   "metadata": {},
   "outputs": [
    {
     "name": "stdout",
     "output_type": "stream",
     "text": [
      "[11, 12, 13, 15]\n"
     ]
    }
   ],
   "source": [
    "list=[11,12,13,14,15]\n",
    "list.pop(3)\n",
    "print(list)"
   ]
  },
  {
   "cell_type": "markdown",
   "id": "d54d4218-fad9-4468-a7d0-a3b9d19b4195",
   "metadata": {},
   "source": [
    "7. Check if an element exists in a list."
   ]
  },
  {
   "cell_type": "code",
   "execution_count": 22,
   "id": "37a5b751-9947-4a39-8f25-3ec46defc95e",
   "metadata": {},
   "outputs": [
    {
     "name": "stdout",
     "output_type": "stream",
     "text": [
      "True\n"
     ]
    }
   ],
   "source": [
    "list=[11,12,13,14,15]\n",
    "check=12\n",
    "if check in list:\n",
    "  print('True')\n",
    "else:\n",
    "  print('False')"
   ]
  },
  {
   "cell_type": "markdown",
   "id": "6a977efe-6437-4322-9fcd-9b2711b82be8",
   "metadata": {},
   "source": [
    "8. Find the index of the first occurrence of an element in a list."
   ]
  },
  {
   "cell_type": "code",
   "execution_count": 33,
   "id": "d45d2e6d-dd37-4ade-a814-46030b8da1e6",
   "metadata": {},
   "outputs": [
    {
     "name": "stdout",
     "output_type": "stream",
     "text": [
      "The index of element is: 5\n"
     ]
    }
   ],
   "source": [
    "list=[11,12,13,14,15,16,17,18,19,20]\n",
    "element_index = list.index(16)\n",
    "print('The index of element is:',element_index)"
   ]
  },
  {
   "cell_type": "markdown",
   "id": "bb72bc81-cbe0-4fc6-a11a-45086a850d4c",
   "metadata": {},
   "source": [
    "Count the occurrences of an element in a list."
   ]
  },
  {
   "cell_type": "code",
   "execution_count": 36,
   "id": "eab5dcbf-6db5-4a60-a15b-8afb0d088d99",
   "metadata": {},
   "outputs": [
    {
     "name": "stdout",
     "output_type": "stream",
     "text": [
      "the element count: 4\n"
     ]
    }
   ],
   "source": [
    "list=[11,12,13,12,15,16,12,18,12,20]\n",
    "count = list.count(12)\n",
    "print('the element count:',count)"
   ]
  },
  {
   "cell_type": "markdown",
   "id": "be0d3958-de6c-4904-8ff8-f59663ccbbc3",
   "metadata": {},
   "source": [
    "10. Reverse the order of elements in a list."
   ]
  },
  {
   "cell_type": "code",
   "execution_count": 40,
   "id": "f3783a89-5ad8-4927-8d61-94ab737bcddf",
   "metadata": {},
   "outputs": [
    {
     "name": "stdout",
     "output_type": "stream",
     "text": [
      "reverse list [20, 19, 18, 17, 16, 15, 14, 13, 12, 11]\n"
     ]
    }
   ],
   "source": [
    "list=[11,12,13,14,15,16,17,18,19,20]\n",
    "list.reverse()\n",
    "print('reverse list',list)"
   ]
  },
  {
   "cell_type": "markdown",
   "id": "b187fc48-1396-4930-b6bd-496e9d598e15",
   "metadata": {},
   "source": [
    "11. Sort a list in ascending order."
   ]
  },
  {
   "cell_type": "code",
   "execution_count": 42,
   "id": "2905ad3e-1289-4603-b9b1-f0f7c858725d",
   "metadata": {},
   "outputs": [
    {
     "name": "stdout",
     "output_type": "stream",
     "text": [
      "After sorting [12, 12, 12, 13, 15, 16, 18, 20, 20, 34, 37, 75, 1456]\n"
     ]
    }
   ],
   "source": [
    "list=[20,34,75,37,12,13,12,15,16,12,18,1456,20]\n",
    "list.sort()\n",
    "print('After sorting',list)"
   ]
  },
  {
   "cell_type": "markdown",
   "id": "dd799d5c-39be-466c-acab-bd8dee260373",
   "metadata": {},
   "source": [
    "12. Sort a list in descending order."
   ]
  },
  {
   "cell_type": "code",
   "execution_count": 43,
   "id": "592b3959-8940-46ad-ba76-0e696ef2b814",
   "metadata": {},
   "outputs": [
    {
     "name": "stdout",
     "output_type": "stream",
     "text": [
      "After sorting in descending order [1456, 75, 37, 34, 20, 20, 18, 16, 15, 13, 12, 12, 12]\n"
     ]
    }
   ],
   "source": [
    "list=[20,34,75,37,12,13,12,15,16,12,18,1456,20]\n",
    "list.sort()\n",
    "list.reverse()\n",
    "print('After sorting in descending order',list)"
   ]
  },
  {
   "cell_type": "markdown",
   "id": "674c9425-e0ed-480a-b6b5-2218b67c92fa",
   "metadata": {},
   "source": [
    "13. Create a list of even numbers from 1 to 20."
   ]
  },
  {
   "cell_type": "code",
   "execution_count": 44,
   "id": "06942e34-0b9e-4b7c-9cf6-4de683f3cfd0",
   "metadata": {},
   "outputs": [
    {
     "name": "stdout",
     "output_type": "stream",
     "text": [
      "List in even numbers: [2, 4, 6, 8, 10, 12, 14, 16, 18, 20]\n"
     ]
    }
   ],
   "source": [
    "even_list=[x for x in range(2,21,2)]\n",
    "print('List in even numbers:',even_list)"
   ]
  },
  {
   "cell_type": "markdown",
   "id": "6e34b91d-ca0e-475a-9900-d9e6d9e26ff8",
   "metadata": {},
   "source": [
    "14. Create a list of odd numbers from 1 to 20."
   ]
  },
  {
   "cell_type": "code",
   "execution_count": 49,
   "id": "dbf2a740-fd70-4412-9520-995b92fa66c4",
   "metadata": {},
   "outputs": [
    {
     "name": "stdout",
     "output_type": "stream",
     "text": [
      "List of odd numbers [1, 3, 5, 7, 9, 11, 13, 15, 17, 19]\n"
     ]
    }
   ],
   "source": [
    "odd_list=[x for x in range(1,20,2)]\n",
    "print('List of odd numbers',odd_list)"
   ]
  },
  {
   "cell_type": "markdown",
   "id": "47a86e32-7368-43b1-83eb-79c8f5cafc93",
   "metadata": {},
   "source": [
    "15. Find the sum of all elements in a list."
   ]
  },
  {
   "cell_type": "code",
   "execution_count": 51,
   "id": "613c1894-2542-42f8-9aa7-ceb86f81fa1b",
   "metadata": {},
   "outputs": [
    {
     "name": "stdout",
     "output_type": "stream",
     "text": [
      "After sumition of list 155\n"
     ]
    }
   ],
   "source": [
    "list=[11,12,13,14,15,16,17,18,19,20]\n",
    "sum_list = sum(list)\n",
    "print('After sumition of list',sum_list)"
   ]
  },
  {
   "cell_type": "markdown",
   "id": "55b0d4ed-607c-43b2-b716-303fc8269b3d",
   "metadata": {},
   "source": [
    "16. Find the maximum value in a list."
   ]
  },
  {
   "cell_type": "code",
   "execution_count": 1,
   "id": "5b164ffc-555e-458c-b4d5-2bdee277a667",
   "metadata": {},
   "outputs": [
    {
     "name": "stdout",
     "output_type": "stream",
     "text": [
      "Maximum Value in list 20\n"
     ]
    }
   ],
   "source": [
    "list=[11,12,13,14,15,16,17,18,19,20]\n",
    "Max = max(list)\n",
    "print('Maximum Value in list',Max)"
   ]
  },
  {
   "cell_type": "markdown",
   "id": "9d4198fa-4866-4c00-9180-73d70f569094",
   "metadata": {},
   "source": [
    "17. Find the minimum value in a list."
   ]
  },
  {
   "cell_type": "code",
   "execution_count": 2,
   "id": "d2c499c7-8d02-49f2-a436-5097570dd663",
   "metadata": {},
   "outputs": [
    {
     "name": "stdout",
     "output_type": "stream",
     "text": [
      "Minimum value in list 12\n"
     ]
    }
   ],
   "source": [
    "list=[20,34,75,37,12,13,12,15,16,12,18,1456,20]\n",
    "Min=min(list)\n",
    "print('Minimum value in list',Min)"
   ]
  },
  {
   "cell_type": "markdown",
   "id": "831f65c5-2f2b-453e-bd86-2b4003b79453",
   "metadata": {},
   "source": [
    "18. Create a list of squares of numbers from 1 to 10."
   ]
  },
  {
   "cell_type": "code",
   "execution_count": 5,
   "id": "3d1fbda6-b015-41a9-b282-2de82455a664",
   "metadata": {},
   "outputs": [
    {
     "name": "stdout",
     "output_type": "stream",
     "text": [
      "[1, 4, 9, 16, 25, 36, 49, 64, 81, 100]\n"
     ]
    }
   ],
   "source": [
    "square_list=[x ** 2 for x in range(1,11,)]\n",
    "print(square_list)"
   ]
  },
  {
   "cell_type": "markdown",
   "id": "94279a2e-df56-47b4-bbd6-dba37c08399a",
   "metadata": {},
   "source": [
    "19. Create a list of random numbers."
   ]
  },
  {
   "cell_type": "code",
   "execution_count": 15,
   "id": "81e3e912-3818-4b9d-ba28-0fd2cfe8ab6a",
   "metadata": {},
   "outputs": [
    {
     "name": "stdout",
     "output_type": "stream",
     "text": [
      "[48, 43, 4, 1, 97, 38, 13, 10, 85, 15]\n"
     ]
    }
   ],
   "source": [
    "import random\n",
    "random_list=[random.randint(1, 100) for _ in range(10)]\n",
    "print(random_list)"
   ]
  },
  {
   "cell_type": "markdown",
   "id": "c2bfd04f-9061-4f07-9946-22a5552b390e",
   "metadata": {},
   "source": [
    "20. Remove duplicates from a list."
   ]
  },
  {
   "cell_type": "code",
   "execution_count": null,
   "id": "620096c1-9945-49f9-82b4-6dbd65d8dde6",
   "metadata": {},
   "outputs": [
    {
     "name": "stdout",
     "output_type": "stream",
     "text": [
      "List without duplicates: [40, 10, 50, 20, 30]\n"
     ]
    }
   ],
   "source": [
    "my_list = [10, 20, 30, 20, 40, 10, 50, 30]\n",
    "unique_list = list(set(my_list))\n",
    "print(\"List without duplicates:\", unique_list) "
   ]
  },
  {
   "cell_type": "markdown",
   "id": "9ac5be52-fdbc-4661-a10b-9ac8446ab3c5",
   "metadata": {},
   "source": [
    "21. Find the common elements between two lists."
   ]
  },
  {
   "cell_type": "code",
   "execution_count": 4,
   "id": "e5d6de3a-b8f2-4e91-a846-5f30a14f3582",
   "metadata": {},
   "outputs": [
    {
     "name": "stdout",
     "output_type": "stream",
     "text": [
      "Common Elements: [69, 45]\n"
     ]
    }
   ],
   "source": [
    "list1=[1,21,69,71,45]\n",
    "list2=[23,45,69,66]\n",
    "common = [x for x in list1 if x in list2]\n",
    "print('Common Elements:',common)"
   ]
  },
  {
   "cell_type": "markdown",
   "id": "432bfb1f-048e-4788-8956-75a6848a3b22",
   "metadata": {},
   "source": [
    "22. Find the difference between two lists."
   ]
  },
  {
   "cell_type": "code",
   "execution_count": 8,
   "id": "793564bf-f53d-48a8-b054-cdcbd19b9d10",
   "metadata": {},
   "outputs": [
    {
     "name": "stdout",
     "output_type": "stream",
     "text": [
      "Different [1, 21, 71]\n"
     ]
    }
   ],
   "source": [
    "list1=[1,21,69,71,45]\n",
    "list2=[23,45,69,66]\n",
    "Difference = [x for x in list1 if x not in list2]\n",
    "print('Different',Difference)"
   ]
  },
  {
   "cell_type": "markdown",
   "id": "27f6ef23-7e30-4ee9-a364-6d038548994c",
   "metadata": {},
   "source": [
    "23. Merge two lists."
   ]
  },
  {
   "cell_type": "code",
   "execution_count": 9,
   "id": "b316c1ab-d2bc-4d79-abf1-7a2e19ebdcf3",
   "metadata": {},
   "outputs": [
    {
     "name": "stdout",
     "output_type": "stream",
     "text": [
      "Mergedlist: [1, 21, 69, 71, 45, 23, 45, 69, 66]\n"
     ]
    }
   ],
   "source": [
    "list1=[1,21,69,71,45]\n",
    "list2=[23,45,69,66]\n",
    "Mergedlist= list1+list2\n",
    "print('Mergedlist:',Mergedlist)"
   ]
  },
  {
   "cell_type": "markdown",
   "id": "7a0853ba-504e-4884-b36c-c2b9167f55de",
   "metadata": {},
   "source": [
    "24. Multiply all elements in a list by 2."
   ]
  },
  {
   "cell_type": "code",
   "execution_count": 13,
   "id": "836ed283-5134-4846-8766-684c00d9221b",
   "metadata": {},
   "outputs": [
    {
     "name": "stdout",
     "output_type": "stream",
     "text": [
      "[2, 42, 138, 142, 90]\n"
     ]
    }
   ],
   "source": [
    "list1=[1,21,69,71,45]\n",
    "list2= [x*2 for x in list1]\n",
    "print(list2)"
   ]
  },
  {
   "cell_type": "markdown",
   "id": "cdea7b8a-575f-4783-8734-e3b5ba4df7e1",
   "metadata": {},
   "source": [
    "25. Filter out all even numbers from a list."
   ]
  },
  {
   "cell_type": "code",
   "execution_count": 16,
   "id": "3fd35a3b-4305-4dd0-b888-af2fd49a597a",
   "metadata": {},
   "outputs": [
    {
     "name": "stdout",
     "output_type": "stream",
     "text": [
      "[66, 34, 54]\n"
     ]
    }
   ],
   "source": [
    "list1=[23,45,69,66,34,54]\n",
    "list2=[x for x in list1 if x %2==0]\n",
    "print(list2)"
   ]
  },
  {
   "cell_type": "markdown",
   "id": "31208bbd-1c51-4589-8aa8-0d112e325ee1",
   "metadata": {},
   "source": [
    "26. Convert a list of strings to a list of integers."
   ]
  },
  {
   "cell_type": "code",
   "execution_count": 19,
   "id": "e65a8450-1952-4a83-80bd-749f89307dee",
   "metadata": {},
   "outputs": [
    {
     "name": "stdout",
     "output_type": "stream",
     "text": [
      "List of integers: [1, 2, 3, 4, 5]\n"
     ]
    }
   ],
   "source": [
    "list1 = [\"1\", \"2\", \"3\", \"4\", \"5\"]\n",
    "list2 = list(map(int,list1))\n",
    "print(\"List of integers:\",list2)"
   ]
  },
  {
   "cell_type": "markdown",
   "id": "ba021078-7591-4d32-9332-be338f6341e8",
   "metadata": {},
   "source": [
    "27. Convert a list of integers to a list of strings."
   ]
  },
  {
   "cell_type": "code",
   "execution_count": 23,
   "id": "ce5cd7a0-cf23-4923-9433-a322e28e0b37",
   "metadata": {},
   "outputs": [
    {
     "name": "stdout",
     "output_type": "stream",
     "text": [
      "List of strings: ['23', '45', '69', '66', '34', '54']\n"
     ]
    }
   ],
   "source": [
    "list1=[23,45,69,66,34,54]\n",
    "list2=list(map(str,list1))\n",
    "print('List of strings:',list2)"
   ]
  },
  {
   "cell_type": "markdown",
   "id": "c8342ac7-30fe-4799-ade7-170e96ee37af",
   "metadata": {},
   "source": [
    "28. Flatten a nested list."
   ]
  },
  {
   "cell_type": "code",
   "execution_count": 28,
   "id": "0b219e18-a423-40ca-b314-5ccb087653a2",
   "metadata": {},
   "outputs": [
    {
     "name": "stdout",
     "output_type": "stream",
     "text": [
      "Flatten List: [0, 9, 8, 7, 6, 5, 4, 3, 2, 1]\n"
     ]
    }
   ],
   "source": [
    "list1=[[0,9,8,7],[6,5,4],[3,2,1]]\n",
    "list2=[x for i in list1 for x in i]\n",
    "print('Flatten List:',list2)"
   ]
  },
  {
   "cell_type": "markdown",
   "id": "c43a18dd-7acd-4ccd-93f1-1e816eb1f924",
   "metadata": {},
   "source": [
    "29. Create a list of the first 10 Fibonacci numbers."
   ]
  },
  {
   "cell_type": "code",
   "execution_count": 4,
   "id": "2ea3c8be-43c6-4cb3-a3ba-8d88552912ba",
   "metadata": {},
   "outputs": [
    {
     "name": "stdout",
     "output_type": "stream",
     "text": [
      "[0, 1, 1, 2, 3, 5, 8, 13, 21, 34]\n"
     ]
    }
   ],
   "source": [
    "fibonacci = [0,1]\n",
    "\n",
    "while len(fibonacci) < 10:\n",
    "    list2 = fibonacci[-1] +fibonacci[-2]\n",
    "    fibonacci.append(list2)\n",
    "    \n",
    "print(fibonacci)"
   ]
  },
  {
   "cell_type": "markdown",
   "id": "bd8a87d0-3be1-4733-865a-1b8777250dd0",
   "metadata": {},
   "source": [
    "30. Check if a list is sorted."
   ]
  },
  {
   "cell_type": "code",
   "execution_count": 12,
   "id": "b1ba3709-a245-4d58-a1be-6c407bd0a842",
   "metadata": {},
   "outputs": [
    {
     "name": "stdout",
     "output_type": "stream",
     "text": [
      "Sorted? True\n"
     ]
    }
   ],
   "source": [
    "list1=[1,2,3,5,6,]\n",
    "sorted = all(list1[i]<=list1[i+1] for i in range(len(list1)-1))\n",
    "print('Sorted?',sorted)"
   ]
  },
  {
   "cell_type": "markdown",
   "id": "6756fd0f-881b-42af-956e-405c8e824d31",
   "metadata": {},
   "source": [
    "31. Rotate a list to the left by `n` positions"
   ]
  },
  {
   "cell_type": "code",
   "execution_count": 6,
   "id": "4fdaa1fb-0dec-4fe3-9b05-a6f98441d7df",
   "metadata": {},
   "outputs": [
    {
     "name": "stdout",
     "output_type": "stream",
     "text": [
      "Original List: [1, 2, 3, 4, 5]\n",
      "Rotated List (2 positions to the left): [3, 4, 5, 1, 2]\n"
     ]
    }
   ],
   "source": [
    "original_list = [1, 2, 3, 4, 5]\n",
    "positions_to_rotate =2\n",
    "\n",
    "rotated_list = original_list[positions_to_rotate % len(original_list):] + original_list[:positions_to_rotate % len(original_list)]\n",
    "\n",
    "print(\"Original List:\", original_list)\n",
    "print(f\"Rotated List ({positions_to_rotate} positions to the left):\", rotated_list)\n"
   ]
  },
  {
   "cell_type": "markdown",
   "id": "7dac1ba4-b26b-4fc4-911d-80978b3088a8",
   "metadata": {},
   "source": [
    "32. Rotate a list to the right by `n` positions."
   ]
  },
  {
   "cell_type": "code",
   "execution_count": 7,
   "id": "ec5c6dd1-1d25-46a2-aa3b-ac436bbf89fe",
   "metadata": {},
   "outputs": [
    {
     "name": "stdout",
     "output_type": "stream",
     "text": [
      "Original List: [1, 2, 3, 4, 5]\n",
      "Rotated List (2 positions to the right): [4, 5, 1, 2, 3]\n"
     ]
    }
   ],
   "source": [
    "original_list = [1, 2, 3, 4, 5]\n",
    "positions_to_rotate = 2\n",
    "\n",
    "rotated_list = original_list[-positions_to_rotate % len(original_list):] + original_list[:-positions_to_rotate % len(original_list)]\n",
    "\n",
    "print(\"Original List:\", original_list)\n",
    "print(f\"Rotated List ({positions_to_rotate} positions to the right):\", rotated_list)\n"
   ]
  },
  {
   "cell_type": "markdown",
   "id": "164b3851-2d17-404e-b15d-66bbabedab37",
   "metadata": {},
   "source": [
    "33. Create a list of prime numbers up to 50."
   ]
  },
  {
   "cell_type": "code",
   "execution_count": 1,
   "id": "63bca02b-ed52-423b-931e-ad0e31821b2a",
   "metadata": {},
   "outputs": [
    {
     "name": "stdout",
     "output_type": "stream",
     "text": [
      "Prime numbers up to 50: [2, 3, 5, 7, 11, 13, 17, 19, 23, 29, 31, 37, 41, 43, 47]\n"
     ]
    }
   ],
   "source": [
    "prime_numbers_up_to_50 = [num for num in range(2, 51) if all(num % i != 0 for i in range(2, int(num**0.5) + 1))]\n",
    "\n",
    "print(\"Prime numbers up to 50:\", prime_numbers_up_to_50)"
   ]
  },
  {
   "cell_type": "markdown",
   "id": "ad213109-b7f4-46f4-939f-9f2f11031cf4",
   "metadata": {},
   "source": [
    "34. Split a list into chunks of size `n`."
   ]
  },
  {
   "cell_type": "code",
   "execution_count": 2,
   "id": "6d53a251-2271-49a1-a0b5-3a9fe3156912",
   "metadata": {},
   "outputs": [
    {
     "name": "stdout",
     "output_type": "stream",
     "text": [
      "Original List: [1, 2, 3, 4, 5, 6, 7, 8, 9, 10]\n",
      "Chunked List (size 3): [[1, 2, 3], [4, 5, 6], [7, 8, 9], [10]]\n"
     ]
    }
   ],
   "source": [
    "original_list = [1, 2, 3, 4, 5, 6, 7, 8, 9, 10]\n",
    "chunk_size = 3\n",
    "\n",
    "chunked_list = [original_list[i:i + chunk_size] for i in range(0, len(original_list), chunk_size)]\n",
    "\n",
    "print(f\"Original List: {original_list}\")\n",
    "print(f\"Chunked List (size {chunk_size}): {chunked_list}\")\n"
   ]
  },
  {
   "cell_type": "markdown",
   "id": "0e334a2c-8dfd-4461-a5ab-baffa0a9199c",
   "metadata": {},
   "source": [
    "35. Find the second largest number in a list."
   ]
  },
  {
   "cell_type": "code",
   "execution_count": 6,
   "id": "c31d454f-eb5a-488e-b0e4-dba4b26ef658",
   "metadata": {},
   "outputs": [
    {
     "name": "stdout",
     "output_type": "stream",
     "text": [
      "Second largest number: 15\n"
     ]
    }
   ],
   "source": [
    "numbers = [10, 5, 8, 20, 15, 7]\n",
    "unique_numbers = list(set(numbers))\n",
    "if len(unique_numbers) >= 2:\n",
    "    second_largest = sorted(unique_numbers, reverse=True)[1]\n",
    "    print(\"Second largest number:\", second_largest)\n",
    "else:\n",
    "    print(\"Not enough unique numbers in the list.\")\n"
   ]
  },
  {
   "cell_type": "markdown",
   "id": "d7cf0011-ea43-49e2-aad8-1e40c3e44f20",
   "metadata": {},
   "source": [
    "36. Replace every element in a list with its square."
   ]
  },
  {
   "cell_type": "code",
   "execution_count": 8,
   "id": "c43e73eb-3b17-4012-9b5d-9f5e9a8df110",
   "metadata": {},
   "outputs": [
    {
     "name": "stdout",
     "output_type": "stream",
     "text": [
      "Original List: [1, 2, 3, 4, 5]\n",
      "Squared List: [1, 4, 9, 16, 25]\n"
     ]
    }
   ],
   "source": [
    "original_list = [1, 2, 3, 4, 5]\n",
    "\n",
    "squared_list = [x ** 2 for x in original_list]\n",
    "\n",
    "print(\"Original List:\", original_list)\n",
    "print(\"Squared List:\", squared_list)"
   ]
  },
  {
   "cell_type": "markdown",
   "id": "9024febf-81c5-4ea5-9df2-8b337a3c81a7",
   "metadata": {},
   "source": [
    "37. Convert a list to a dictionary where list elements become keys and their\n",
    "indices become values."
   ]
  },
  {
   "cell_type": "code",
   "execution_count": 9,
   "id": "c407eb96-12c7-42a0-ab8e-ad89df675dd2",
   "metadata": {},
   "outputs": [
    {
     "name": "stdout",
     "output_type": "stream",
     "text": [
      "Original List: ['apple', 'banana', 'orange', 'grape']\n",
      "Dictionary: {'apple': 0, 'banana': 1, 'orange': 2, 'grape': 3}\n"
     ]
    }
   ],
   "source": [
    "original_list = ['apple', 'banana', 'orange', 'grape']\n",
    "result_dict = {element: index for index, element in enumerate(original_list)}\n",
    "\n",
    "print(\"Original List:\", original_list)\n",
    "print(\"Dictionary:\", result_dict)\n"
   ]
  },
  {
   "cell_type": "markdown",
   "id": "313abf23-e17c-47b0-af52-7616380d6c78",
   "metadata": {},
   "source": [
    "38. Shuffle the elements of a list randomly."
   ]
  },
  {
   "cell_type": "code",
   "execution_count": 11,
   "id": "f2836c3d-2d77-40ab-8c3c-ad2aab03c861",
   "metadata": {},
   "outputs": [
    {
     "name": "stdout",
     "output_type": "stream",
     "text": [
      "Original List: [2, 3, 5, 1, 4]\n"
     ]
    }
   ],
   "source": [
    "import random\n",
    "\n",
    "original_list = [1, 2, 3, 4, 5]\n",
    "random.shuffle(original_list)\n",
    "\n",
    "print(\"Original List:\", original_list)"
   ]
  },
  {
   "cell_type": "markdown",
   "id": "074ed930-0316-4deb-9933-90ff209f457c",
   "metadata": {},
   "source": [
    "39. Create a list of the first 10 factorial numbers."
   ]
  },
  {
   "cell_type": "code",
   "execution_count": 31,
   "id": "54d7b800-0381-4a32-80c9-7b8e42f13dee",
   "metadata": {},
   "outputs": [
    {
     "name": "stdout",
     "output_type": "stream",
     "text": [
      "Factorial Numbers: [1, 1, 2, 6, 24, 120, 720, 5040, 40320, 362880]\n"
     ]
    }
   ],
   "source": [
    "import math\n",
    "factorial_numbers = [math.factorial(i) for i in range(10)]\n",
    "\n",
    "print(\"Factorial Numbers:\", factorial_numbers)\n"
   ]
  },
  {
   "cell_type": "markdown",
   "id": "644d5093-8e32-426e-a72e-95271c617c7d",
   "metadata": {},
   "source": [
    "40. Check if two lists have at least one element in common."
   ]
  },
  {
   "cell_type": "code",
   "execution_count": 32,
   "id": "f53890dc-106d-4d6f-b6f2-360412042908",
   "metadata": {},
   "outputs": [
    {
     "name": "stdout",
     "output_type": "stream",
     "text": [
      "The lists have at least one common element.\n"
     ]
    }
   ],
   "source": [
    "list1 = [1, 2, 3, 4, 5]\n",
    "list2 = [5, 6, 7, 8, 9]\n",
    "common_elements = any(item in list1 for item in list2)\n",
    "\n",
    "if common_elements:\n",
    "    print(\"The lists have at least one common element.\")\n",
    "else:\n",
    "    print(\"The lists do not have any common elements.\")\n"
   ]
  },
  {
   "cell_type": "markdown",
   "id": "64327ce3-e5bb-45b1-a75d-57ba9daef975",
   "metadata": {},
   "source": [
    "41. Remove all elements from a list."
   ]
  },
  {
   "cell_type": "code",
   "execution_count": 34,
   "id": "cd187d84-0484-4748-8114-d84d12bcca42",
   "metadata": {},
   "outputs": [
    {
     "name": "stdout",
     "output_type": "stream",
     "text": [
      "[]\n"
     ]
    }
   ],
   "source": [
    "list1 = [1, 2, 3, 4, 5]\n",
    "list1.clear()\n",
    "print(list1)"
   ]
  },
  {
   "cell_type": "markdown",
   "id": "0a514263-43cb-4db8-8bcf-123f2d5eb5ab",
   "metadata": {},
   "source": [
    "42. Replace negative numbers in a list with 0."
   ]
  },
  {
   "cell_type": "markdown",
   "id": "a693a89f-c34d-4e1b-99d2-1c08c81f54bd",
   "metadata": {},
   "source": [
    "original_list = [1, -2, 3, -4, 5, -6, 7, -8]\n",
    "modified_list = [max(0, num) for num in original_list]\n",
    "\n",
    "print(\"Original List:\", original_list)\n",
    "print(\"Modified List:\", modified_list)\n"
   ]
  },
  {
   "cell_type": "markdown",
   "id": "8830505b-7c0f-4aa9-841d-076081fbf86c",
   "metadata": {},
   "source": [
    "43. Convert a string into a list of words."
   ]
  },
  {
   "cell_type": "code",
   "execution_count": 4,
   "id": "57e339cf-fd7c-4e8e-a757-de35149adad6",
   "metadata": {},
   "outputs": [
    {
     "name": "stdout",
     "output_type": "stream",
     "text": [
      "Original Sentence: This is a sample sentence.\n",
      "List of Words: ['This', 'is', 'a', 'sample', 'sentence.']\n"
     ]
    }
   ],
   "source": [
    "sentence = \"This is a sample sentence.\"\n",
    "word_list = sentence.split()\n",
    "\n",
    "print(\"Original Sentence:\", sentence)\n",
    "print(\"List of Words:\", word_list)\n"
   ]
  },
  {
   "cell_type": "markdown",
   "id": "6a00b5fb-a489-4539-a803-a97d97fe7af6",
   "metadata": {},
   "source": [
    "44. Convert a list of words into a string."
   ]
  },
  {
   "cell_type": "markdown",
   "id": "8656b951-6ec6-4711-8b44-9a7fcd394d38",
   "metadata": {},
   "source": [
    "word_list = ['This', 'is', 'a', 'sample', 'sentence.']\n",
    "\n",
    "print(\"List of Words:\", word_list)\n",
    "print(\"Original Sentence:\", sentence)"
   ]
  },
  {
   "cell_type": "markdown",
   "id": "65c7fb45-b76b-4f61-8072-0c14546cea43",
   "metadata": {},
   "source": [
    "45. Create a list of the first `n` powers of 2."
   ]
  },
  {
   "cell_type": "code",
   "execution_count": 6,
   "id": "44e81a4e-e5a7-45ee-8782-e6d8dafb0aba",
   "metadata": {},
   "outputs": [
    {
     "name": "stdout",
     "output_type": "stream",
     "text": [
      "The first 5 powers of 2: [1, 2, 4, 8, 16]\n"
     ]
    }
   ],
   "source": [
    "n = 5  \n",
    "powers_of_2 = [2 ** i for i in range(n)]\n",
    "\n",
    "print(f\"The first {n} powers of 2:\", powers_of_2)\n"
   ]
  },
  {
   "cell_type": "markdown",
   "id": "26d49101-75ad-420c-a2ed-f297f480dda0",
   "metadata": {},
   "source": [
    "46. Find the longest string in a list of strings."
   ]
  },
  {
   "cell_type": "code",
   "execution_count": 7,
   "id": "cc5ccd8c-bbfb-4914-bc62-33f538a0fe0c",
   "metadata": {},
   "outputs": [
    {
     "name": "stdout",
     "output_type": "stream",
     "text": [
      "List of Strings: ['apple', 'banana', 'orange', 'grapefruit', 'kiwi']\n",
      "Longest String: grapefruit\n"
     ]
    }
   ],
   "source": [
    "string_list = [\"apple\", \"banana\", \"orange\", \"grapefruit\", \"kiwi\"]\n",
    "longest_string = max(string_list, key=len)\n",
    "\n",
    "print(\"List of Strings:\", string_list)\n",
    "print(\"Longest String:\", longest_string)"
   ]
  },
  {
   "cell_type": "markdown",
   "id": "61c6bb3c-1053-41e3-b75e-236537860782",
   "metadata": {},
   "source": [
    "47. Find the shortest string in a list of strings."
   ]
  },
  {
   "cell_type": "code",
   "execution_count": 8,
   "id": "b2c17947-f2cd-4ef5-b50b-bbbc74338747",
   "metadata": {},
   "outputs": [
    {
     "name": "stdout",
     "output_type": "stream",
     "text": [
      "List of Strings: ['apple', 'banana', 'orange', 'grapefruit', 'kiwi']\n",
      "Longest String: kiwi\n"
     ]
    }
   ],
   "source": [
    "string_list = [\"apple\", \"banana\", \"orange\", \"grapefruit\", \"kiwi\"]\n",
    "longest_string = min(string_list, key=len)\n",
    "\n",
    "print(\"List of Strings:\", string_list)\n",
    "print(\"Longest String:\", longest_string)"
   ]
  },
  {
   "cell_type": "markdown",
   "id": "8a23192c-a709-4c8e-9100-b80657dd4a0e",
   "metadata": {},
   "source": [
    "48. Create a list of the first `n` triangular numbers."
   ]
  },
  {
   "cell_type": "code",
   "execution_count": 9,
   "id": "e98c8c76-7f12-4b6f-816b-8098f052597f",
   "metadata": {},
   "outputs": [
    {
     "name": "stdout",
     "output_type": "stream",
     "text": [
      "The first 5 triangular numbers: [1, 3, 6, 10, 15]\n"
     ]
    }
   ],
   "source": [
    "n = 5  \n",
    "triangular_numbers = [sum(range(1, i + 1)) for i in range(1, n + 1)]\n",
    "\n",
    "print(f\"The first {n} triangular numbers:\", triangular_numbers)\n"
   ]
  },
  {
   "cell_type": "markdown",
   "id": "5b0aef63-6e1d-4ce0-88ab-0222f37035bc",
   "metadata": {},
   "source": [
    "49. Check if a list contains another list as a subsequence."
   ]
  },
  {
   "cell_type": "code",
   "execution_count": 10,
   "id": "7700f874-2169-4146-8cae-1f354f2cd0cb",
   "metadata": {},
   "outputs": [
    {
     "name": "stdout",
     "output_type": "stream",
     "text": [
      "The subsequence is present in the sequence.\n"
     ]
    }
   ],
   "source": [
    "sequence = [1, 2, 3, 4, 5, 6, 7, 8, 9]\n",
    "subsequence = [3, 5, 7]\n",
    "i, j = 0, 0\n",
    "while i < len(subsequence) and j < len(sequence):\n",
    "    if subsequence[i] == sequence[j]:\n",
    "        i += 1\n",
    "    j += 1\n",
    "\n",
    "result = i == len(subsequence)\n",
    "\n",
    "if result:\n",
    "    print(\"The subsequence is present in the sequence.\")\n",
    "else:\n",
    "    print(\"The subsequence is not present in the sequence.\")\n"
   ]
  },
  {
   "cell_type": "markdown",
   "id": "86ed1eba-de36-4991-81fe-6f1a8afa1f50",
   "metadata": {},
   "source": [
    "50. Swap two elements in a list by their indices."
   ]
  },
  {
   "cell_type": "code",
   "execution_count": 11,
   "id": "83257989-0bdf-4478-a6ea-4550a0cbef7f",
   "metadata": {},
   "outputs": [
    {
     "name": "stdout",
     "output_type": "stream",
     "text": [
      "Original List: [1, 4, 3, 2, 5]\n"
     ]
    }
   ],
   "source": [
    "my_list = [1, 2, 3, 4, 5]\n",
    "index1, index2 = 1, 3\n",
    "my_list[index1], my_list[index2] = my_list[index2], my_list[index1]\n",
    "\n",
    "print(\"Original List:\", my_list)\n"
   ]
  },
  {
   "cell_type": "markdown",
   "id": "349d703e-42d9-429b-a2ac-09c5202c04a4",
   "metadata": {},
   "source": [
    "Tuple Based Practice Problem :"
   ]
  },
  {
   "cell_type": "markdown",
   "id": "db7b5e49-5b3b-43a2-bd99-f803ee948dd7",
   "metadata": {},
   "source": [
    "1. Create a tuple with integers from 1 to 5."
   ]
  },
  {
   "cell_type": "code",
   "execution_count": 16,
   "id": "830e27d0-e6e5-4816-ac0c-306316957d19",
   "metadata": {},
   "outputs": [
    {
     "name": "stdout",
     "output_type": "stream",
     "text": [
      "(1, 2, 3, 4)\n"
     ]
    }
   ],
   "source": [
    "t1=tuple(range(1,5))\n",
    "print(t1)"
   ]
  },
  {
   "cell_type": "markdown",
   "id": "258c2e1c-941e-41a1-99e7-138ca8d9f9f8",
   "metadata": {},
   "source": [
    "2. Access the third element of a tuple."
   ]
  },
  {
   "cell_type": "code",
   "execution_count": 44,
   "id": "d280398e-0b81-4ba5-8ec1-ebd3eb559035",
   "metadata": {},
   "outputs": [
    {
     "name": "stdout",
     "output_type": "stream",
     "text": [
      "3\n"
     ]
    }
   ],
   "source": [
    "t1=tuple(range(1,5))\n",
    "print(t1[2])"
   ]
  },
  {
   "cell_type": "markdown",
   "id": "557166e9-8af9-460b-9323-b7df965b7566",
   "metadata": {},
   "source": [
    "3. Find the length of a tuple without using the `len()` function."
   ]
  },
  {
   "cell_type": "code",
   "execution_count": 37,
   "id": "016a4c92-9bcc-40b0-a849-c461268c532d",
   "metadata": {},
   "outputs": [
    {
     "name": "stdout",
     "output_type": "stream",
     "text": [
      "(1, 2, 3, 4)\n",
      "4\n"
     ]
    }
   ],
   "source": [
    "t1=tuple(range(1,5))\n",
    "print(t1)\n",
    "t2=sum(1 for _ in t1)\n",
    "print(t2)"
   ]
  },
  {
   "cell_type": "markdown",
   "id": "4b0ce3ec-15fa-456e-a4ca-d94c6f032129",
   "metadata": {},
   "source": [
    "4. Count the occurrences of an element in a tuple."
   ]
  },
  {
   "cell_type": "code",
   "execution_count": 43,
   "id": "735b7428-e2cd-4f84-8a65-2877b712ecae",
   "metadata": {},
   "outputs": [
    {
     "data": {
      "text/plain": [
       "3"
      ]
     },
     "execution_count": 43,
     "metadata": {},
     "output_type": "execute_result"
    }
   ],
   "source": [
    "t1=(1,2,34,7,7,5,6,7,8,3,4)\n",
    "t1.count(7)"
   ]
  },
  {
   "cell_type": "markdown",
   "id": "8bf701a4-29a3-4be0-a1c0-10387cd17798",
   "metadata": {},
   "source": [
    "5. Find the index of the first occurrence of an element in a tuple."
   ]
  },
  {
   "cell_type": "code",
   "execution_count": 48,
   "id": "a59e2a0c-8a8b-4adc-b41f-cf5a21d68b9d",
   "metadata": {},
   "outputs": [
    {
     "data": {
      "text/plain": [
       "0"
      ]
     },
     "execution_count": 48,
     "metadata": {},
     "output_type": "execute_result"
    }
   ],
   "source": [
    "t1=(1,2,34,7,7,5,6,7,8,3,4)\n",
    "t1.index(1)"
   ]
  },
  {
   "cell_type": "markdown",
   "id": "6c4c19d6-f90e-4e82-9e5c-3c1ef2a39cc5",
   "metadata": {},
   "source": [
    "6. Check if an element exists in a tuple."
   ]
  },
  {
   "cell_type": "code",
   "execution_count": 54,
   "id": "4fd45f6a-4e83-47d1-8971-e594c7b047b1",
   "metadata": {},
   "outputs": [
    {
     "name": "stdin",
     "output_type": "stream",
     "text": [
      "Enter the element 7\n"
     ]
    },
    {
     "name": "stdout",
     "output_type": "stream",
     "text": [
      "The element 7 is not found in (2, 45, 5, 6, 3, 4, 6, 3, 5)\n"
     ]
    }
   ],
   "source": [
    "t1=(2,45,5,6,3,4,6,3,5)\n",
    "t2=input('Enter the element')\n",
    "if t2 in t1:\n",
    "    print(f\"The element {t2} is found in {t1}\")\n",
    "else:\n",
    "    print(f\"The element {t2} is not found in {t1}\")"
   ]
  },
  {
   "cell_type": "markdown",
   "id": "aec82edf-4e73-4f6d-87c5-ffde1b57f199",
   "metadata": {},
   "source": [
    "7. Convert a tuple to a list."
   ]
  },
  {
   "cell_type": "code",
   "execution_count": 56,
   "id": "3119523d-0815-4352-b291-84d5197b7f52",
   "metadata": {},
   "outputs": [
    {
     "name": "stdout",
     "output_type": "stream",
     "text": [
      "[2, 45, 5, 6, 3, 4, 6, 3, 5]\n"
     ]
    }
   ],
   "source": [
    "t1=(2,45,5,6,3,4,6,3,5)\n",
    "t2=list(t1)\n",
    "print(t2)"
   ]
  },
  {
   "cell_type": "code",
   "execution_count": 57,
   "id": "38608013-b53e-488e-88dd-cd89c53cb080",
   "metadata": {},
   "outputs": [
    {
     "name": "stdout",
     "output_type": "stream",
     "text": [
      "(1, 2, 3, 9, 8, 7, 5)\n"
     ]
    }
   ],
   "source": [
    "t1=[1,2,3,9,8,7,5]\n",
    "t2=tuple(t1)\n",
    "print(t2)"
   ]
  },
  {
   "cell_type": "markdown",
   "id": "42db8a77-54ea-4692-8031-3b5d8a09638e",
   "metadata": {},
   "source": [
    "9. Unpack the elements of a tuple into variables."
   ]
  },
  {
   "cell_type": "code",
   "execution_count": 59,
   "id": "fa2d331c-2313-465f-9163-449ea68dc830",
   "metadata": {},
   "outputs": [
    {
     "name": "stdout",
     "output_type": "stream",
     "text": [
      "Unpacked Variables: 45 67 78\n"
     ]
    }
   ],
   "source": [
    "t1=(45,67,78)\n",
    "num1,num2,num3=t1\n",
    "print('Unpacked Variables:',num1,num2,num3)"
   ]
  },
  {
   "cell_type": "markdown",
   "id": "a05d8dd9-8e3b-4c3b-b92f-110485e68a48",
   "metadata": {},
   "source": [
    "10. Create a tuple of even numbers from 1 to 10."
   ]
  },
  {
   "cell_type": "code",
   "execution_count": 62,
   "id": "a6874cbd-2dda-4156-b71b-166b285a1d8c",
   "metadata": {},
   "outputs": [
    {
     "name": "stdout",
     "output_type": "stream",
     "text": [
      "(2, 4, 6, 8, 10)\n"
     ]
    }
   ],
   "source": [
    "t1=tuple(x for x in range(1,11) if x%2==0)\n",
    "print(t1)"
   ]
  },
  {
   "cell_type": "markdown",
   "id": "9e9d0898-f465-4eca-8b50-a61df4f9801b",
   "metadata": {},
   "source": [
    "11. Create a tuple of odd numbers from 1 to 10."
   ]
  },
  {
   "cell_type": "code",
   "execution_count": 63,
   "id": "579bcc1b-5887-4624-ac38-cd794a5e54e4",
   "metadata": {},
   "outputs": [
    {
     "name": "stdout",
     "output_type": "stream",
     "text": [
      "(1, 3, 5, 7, 9)\n"
     ]
    }
   ],
   "source": [
    "t1=tuple(x for x in range(1,10) if x%2!=0)\n",
    "print(t1)"
   ]
  },
  {
   "cell_type": "markdown",
   "id": "7acde1f1-0f42-4e3d-8aa4-a5334a32e4cf",
   "metadata": {},
   "source": [
    "12. Concatenate two tuples."
   ]
  },
  {
   "cell_type": "code",
   "execution_count": 64,
   "id": "a4b092e8-5b60-450e-a763-5359c8d6a8b5",
   "metadata": {},
   "outputs": [
    {
     "name": "stdout",
     "output_type": "stream",
     "text": [
      "(1, 2, 3, 4, 5, 6, 7, 8, 9)\n"
     ]
    }
   ],
   "source": [
    "t1=(1,2,3,4,5)\n",
    "t2=(6,7,8,9)\n",
    "t3=t1+t2\n",
    "print(t3)"
   ]
  },
  {
   "cell_type": "markdown",
   "id": "11a84b16-ebbe-4331-81e4-5bc686653448",
   "metadata": {},
   "source": [
    "13. Repeat a tuple three times."
   ]
  },
  {
   "cell_type": "code",
   "execution_count": 67,
   "id": "e1a0f28f-cf96-4f07-ba1c-4eac3da11aa0",
   "metadata": {},
   "outputs": [
    {
     "name": "stdout",
     "output_type": "stream",
     "text": [
      "(1, 2, 8, 9, 1, 2, 8, 9, 1, 2, 8, 9)\n"
     ]
    }
   ],
   "source": [
    "t1=(1,2,8,9)*3\n",
    "print(t1)"
   ]
  },
  {
   "cell_type": "markdown",
   "id": "b0ffe8eb-baa8-4080-b056-6084442055d0",
   "metadata": {},
   "source": [
    "14. Check if a tuple is empty."
   ]
  },
  {
   "cell_type": "code",
   "execution_count": 76,
   "id": "1c52c01c-fe7c-4a67-b848-f32941bed814",
   "metadata": {},
   "outputs": [
    {
     "name": "stdout",
     "output_type": "stream",
     "text": [
      " It is empty\n"
     ]
    }
   ],
   "source": [
    "t1=()\n",
    "\n",
    "if not  t1:\n",
    "    print(\" It is empty\")\n",
    "else:\n",
    "    print(\"It is not empty\")"
   ]
  },
  {
   "cell_type": "markdown",
   "id": "78e62b14-a490-4868-a2ec-d1711890bfea",
   "metadata": {},
   "source": [
    "15. Create a nested tuple."
   ]
  },
  {
   "cell_type": "code",
   "execution_count": 77,
   "id": "d5d16d11-fdd7-4353-a18a-7300bc621941",
   "metadata": {},
   "outputs": [
    {
     "name": "stdout",
     "output_type": "stream",
     "text": [
      "((1, 2, 8, 9), (3, 21), (3, 7, 8, 4))\n"
     ]
    }
   ],
   "source": [
    "t1=((1,2,8,9),(3,21,),(3,7,8,4))\n",
    "print(t1)"
   ]
  },
  {
   "cell_type": "markdown",
   "id": "b5253633-a42c-4e0e-b02c-e5830a7d02ac",
   "metadata": {},
   "source": [
    "16. Access the first element of a nested tuple."
   ]
  },
  {
   "cell_type": "code",
   "execution_count": 80,
   "id": "d76e2757-6aa8-4041-bf23-06a9d297935a",
   "metadata": {},
   "outputs": [
    {
     "data": {
      "text/plain": [
       "(1, 2, 8, 9)"
      ]
     },
     "execution_count": 80,
     "metadata": {},
     "output_type": "execute_result"
    }
   ],
   "source": [
    "t1=((1,2,8,9),(3,21,),(3,7,8,4))\n",
    "t1[0]"
   ]
  },
  {
   "cell_type": "markdown",
   "id": "3c258ce9-6dbd-46f3-b58f-57fb2b00077e",
   "metadata": {},
   "source": [
    "17. Create a tuple with a single element."
   ]
  },
  {
   "cell_type": "code",
   "execution_count": 82,
   "id": "bfb3409e-cbbb-416e-a9f7-8cb1236f89e7",
   "metadata": {},
   "outputs": [
    {
     "name": "stdout",
     "output_type": "stream",
     "text": [
      "(7,)\n"
     ]
    }
   ],
   "source": [
    "t1=(7,)\n",
    "print(t1)"
   ]
  },
  {
   "cell_type": "markdown",
   "id": "b548455f-c6ff-4f7a-8bde-bcca8e7c2e2d",
   "metadata": {},
   "source": [
    "18. Compare two tuples."
   ]
  },
  {
   "cell_type": "code",
   "execution_count": 83,
   "id": "0fa1ca46-80d7-4a95-bc2d-de5bc879a9c2",
   "metadata": {},
   "outputs": [
    {
     "name": "stdout",
     "output_type": "stream",
     "text": [
      "Tuples are equal\n"
     ]
    }
   ],
   "source": [
    "t1=(1,3,5,7,9)\n",
    "t2=(1,3,5,7,9)\n",
    "if t1==t2:\n",
    "    print('Tuples are equal')\n",
    "else:\n",
    "    print('Tuples are not equal')"
   ]
  },
  {
   "cell_type": "markdown",
   "id": "6ba62823-b57b-4831-abb7-2322b345aa76",
   "metadata": {},
   "source": [
    "19. Delete a tuple."
   ]
  },
  {
   "cell_type": "code",
   "execution_count": null,
   "id": "73a07e0e-8049-4db2-8ee9-ad4dbdd384e0",
   "metadata": {},
   "outputs": [],
   "source": [
    "t1=(1,3,5,7,9)\n",
    "del t1\n",
    "print(t1)"
   ]
  },
  {
   "cell_type": "markdown",
   "id": "f4658c3b-d72c-4bd4-8a2f-b768cf92b93a",
   "metadata": {},
   "source": [
    "20. Slice a tuple."
   ]
  },
  {
   "cell_type": "code",
   "execution_count": 5,
   "id": "65ce7ccb-ae2e-49ff-9d61-80809c04e43f",
   "metadata": {},
   "outputs": [
    {
     "name": "stdout",
     "output_type": "stream",
     "text": [
      "(1, 5, 9)\n"
     ]
    }
   ],
   "source": [
    "t1=(1,3,5,7,9)\n",
    "t2=t1[0:len(t1):2]\n",
    "print(t2)"
   ]
  },
  {
   "cell_type": "markdown",
   "id": "4a9a125f-82c4-44ea-b9f6-bc7cb8371c08",
   "metadata": {},
   "source": [
    "21. Find the maximum value in a tuple."
   ]
  },
  {
   "cell_type": "code",
   "execution_count": 6,
   "id": "b80d9ee9-2515-4d4f-98f7-f10a43abbd5e",
   "metadata": {},
   "outputs": [
    {
     "name": "stdout",
     "output_type": "stream",
     "text": [
      "45\n"
     ]
    }
   ],
   "source": [
    "t1=(2,45,5,6,3,4,6,3,5)\n",
    "t2=max(t1)\n",
    "print(t2)"
   ]
  },
  {
   "cell_type": "markdown",
   "id": "829fb428-4afd-4509-bd27-301f85066b65",
   "metadata": {},
   "source": [
    "22. Find the minimum value in a tuple."
   ]
  },
  {
   "cell_type": "code",
   "execution_count": 7,
   "id": "de21814c-a85a-41b2-8233-ede9d9cb19b3",
   "metadata": {},
   "outputs": [
    {
     "name": "stdout",
     "output_type": "stream",
     "text": [
      "2\n"
     ]
    }
   ],
   "source": [
    "t1=(2,45,5,6,3,4,6,3,5)\n",
    "t2=min(t1)\n",
    "print(t2)"
   ]
  },
  {
   "cell_type": "markdown",
   "id": "13793064-dd56-4dbf-8b2a-9bbd11b5c240",
   "metadata": {},
   "source": [
    "23. Convert a string to a tuple of characters."
   ]
  },
  {
   "cell_type": "code",
   "execution_count": 13,
   "id": "a34e1560-aa22-42f9-b21d-03908b7f2838",
   "metadata": {},
   "outputs": [
    {
     "name": "stdout",
     "output_type": "stream",
     "text": [
      "('t', 'h', 'i', 's', ' ', 'i', 's', ' ', 'p', 'w', 's', 'k', 'i', 'l', 'l', 's')\n"
     ]
    }
   ],
   "source": [
    "t1='this is pwskills'\n",
    "t2=tuple(t1)\n",
    "print(t2)"
   ]
  },
  {
   "cell_type": "markdown",
   "id": "ef04cc55-789d-4924-aafa-29c9df610fa2",
   "metadata": {},
   "source": [
    "24. Convert a tuple of characters to a string."
   ]
  },
  {
   "cell_type": "code",
   "execution_count": 22,
   "id": "8781cab6-37f7-44de-9edb-9304e597f4f5",
   "metadata": {},
   "outputs": [
    {
     "name": "stdout",
     "output_type": "stream",
     "text": [
      "(2, 3, 4, 5, 6, 7)\n"
     ]
    },
    {
     "data": {
      "text/plain": [
       "str"
      ]
     },
     "execution_count": 22,
     "metadata": {},
     "output_type": "execute_result"
    }
   ],
   "source": [
    "t1=(2,3,4,5,6,7)\n",
    "t2=str(t1)\n",
    "print(t2)\n",
    "type(t2)"
   ]
  },
  {
   "cell_type": "markdown",
   "id": "47f711fa-a070-47db-ae0c-e62d293ebdcf",
   "metadata": {},
   "source": [
    "25. Create a tuple from multiple data types."
   ]
  },
  {
   "cell_type": "code",
   "execution_count": 24,
   "id": "58e5658b-8839-4db3-b698-4f0dab3f501a",
   "metadata": {},
   "outputs": [
    {
     "name": "stdin",
     "output_type": "stream",
     "text": [
      "Enter an element (e.g., an integer):  7\n",
      "Enter another element (e.g., a string):  h\n",
      "Enter another element (e.g., a float):  9.55\n"
     ]
    },
    {
     "name": "stdout",
     "output_type": "stream",
     "text": [
      "Mixed Tuple: (7, 'h', 9.55)\n"
     ]
    }
   ],
   "source": [
    "element1 = input(\"Enter an element (e.g., an integer): \")\n",
    "element2 = input(\"Enter another element (e.g., a string): \")\n",
    "element3 = input(\"Enter another element (e.g., a float): \")\n",
    "element1 = int(element1)\n",
    "element3 = float(element3)\n",
    "mixed_tuple = (element1, element2, element3)\n",
    "print(\"Mixed Tuple:\", mixed_tuple)"
   ]
  },
  {
   "cell_type": "markdown",
   "id": "065e679c-5e13-475b-bccc-272048354643",
   "metadata": {},
   "source": [
    "26. Check if two tuples are identical."
   ]
  },
  {
   "cell_type": "code",
   "execution_count": 29,
   "id": "420b0ae2-9b76-4c48-b629-626a1205ec51",
   "metadata": {},
   "outputs": [
    {
     "name": "stdout",
     "output_type": "stream",
     "text": [
      "Both are not identical\n"
     ]
    }
   ],
   "source": [
    "t1 = (5, 2, 3, 4, 5)\n",
    "t2 = (1, 2, 9, 0, 5)\n",
    "if t1==t2:\n",
    "    print(\"Both are identical\")\n",
    "else:\n",
    "    print(\"Both are not identical\")"
   ]
  },
  {
   "cell_type": "markdown",
   "id": "3eb581c0-ff59-4611-baaf-331edf1df471",
   "metadata": {},
   "source": [
    "27. Sort the elements of a tuple.\n"
   ]
  },
  {
   "cell_type": "code",
   "execution_count": 30,
   "id": "bc40ea97-043b-45af-8c92-7d199bbf4746",
   "metadata": {},
   "outputs": [
    {
     "name": "stdout",
     "output_type": "stream",
     "text": [
      "[0, 1, 2, 5, 9]\n"
     ]
    }
   ],
   "source": [
    "t1 = (1, 2, 9, 0, 5)\n",
    "t2=sorted(t1)\n",
    "print(t2)"
   ]
  },
  {
   "cell_type": "markdown",
   "id": "0a3e2757-bfc1-41cc-957b-c9d894431ef0",
   "metadata": {},
   "source": [
    "28. Convert a tuple of integers to a tuple of strings."
   ]
  },
  {
   "cell_type": "code",
   "execution_count": 37,
   "id": "6869c869-3631-4108-8acc-af5b16a163ec",
   "metadata": {},
   "outputs": [
    {
     "name": "stdout",
     "output_type": "stream",
     "text": [
      "('2', '3', '4', '5', '6', '7')\n"
     ]
    }
   ],
   "source": [
    "t1=(2,3,4,5,6,7)\n",
    "t2=tuple(map(str,t1))\n",
    "print(t2)"
   ]
  },
  {
   "cell_type": "markdown",
   "id": "b084ac21-9f9f-4d73-afae-a9e0c1de8f4a",
   "metadata": {},
   "source": [
    "29. Convert a tuple of strings to a tuple of integers."
   ]
  },
  {
   "cell_type": "code",
   "execution_count": 34,
   "id": "fabc93d6-61a5-4676-bbf2-1bf87fe896c2",
   "metadata": {},
   "outputs": [
    {
     "name": "stdout",
     "output_type": "stream",
     "text": [
      "(3, 4, 8, 6, 0)\n"
     ]
    }
   ],
   "source": [
    "t1=('3','4','8','6','0')\n",
    "t2=tuple(map(int,t1))\n",
    "print(t2)"
   ]
  },
  {
   "cell_type": "markdown",
   "id": "54b944ba-dd58-48a3-b25d-57131a206ba9",
   "metadata": {},
   "source": [
    "30. Merge two tuples."
   ]
  },
  {
   "cell_type": "code",
   "execution_count": 39,
   "id": "c5c13da2-89b3-44db-ab02-961a958e313a",
   "metadata": {},
   "outputs": [
    {
     "name": "stdout",
     "output_type": "stream",
     "text": [
      "(2, 3, 4, 5, 6, 7, 1, 2, 9, 0, 5)\n"
     ]
    }
   ],
   "source": [
    "t1=(2,3,4,5,6,7)\n",
    "t2 = (1, 2, 9, 0, 5)\n",
    "t3=t1+t2\n",
    "print(t3)"
   ]
  },
  {
   "cell_type": "code",
   "execution_count": 49,
   "id": "fb6ceb1d-80c4-474e-bdc3-a2537ecdd088",
   "metadata": {},
   "outputs": [
    {
     "name": "stdout",
     "output_type": "stream",
     "text": [
      "Original Nested Tuple: ((1, 2), (3, (4, 5)), 6, (7, 8))\n",
      "Flattened Tuple: (1, 2, 3, 4, 5, 6, 7, 8)\n"
     ]
    }
   ],
   "source": [
    "def flatten_nested_tuple(nested_tuple):\n",
    "    flattened_list = []\n",
    "\n",
    "    for item in nested_tuple:\n",
    "        if isinstance(item, tuple):\n",
    "          \n",
    "            flattened_list.extend(flatten_nested_tuple(item))\n",
    "        else:\n",
    "          \n",
    "            flattened_list.append(item)\n",
    "\n",
    "    return flattened_list\n",
    "\n",
    "nested_tuple = ((1, 2), (3, (4, 5)), 6, (7, 8))\n",
    "\n",
    "flattened_tuple = tuple(flatten_nested_tuple(nested_tuple))\n",
    "\n",
    "print(\"Original Nested Tuple:\", nested_tuple)\n",
    "print(\"Flattened Tuple:\", flattened_tuple)\n"
   ]
  },
  {
   "cell_type": "markdown",
   "id": "6785ca3a-2b7a-411d-a725-947745691712",
   "metadata": {},
   "source": [
    "32. Create a tuple of the first 5 prime numbers."
   ]
  },
  {
   "cell_type": "code",
   "execution_count": 5,
   "id": "811cf3eb-399e-486b-a88f-e87455db0b9e",
   "metadata": {},
   "outputs": [
    {
     "name": "stdout",
     "output_type": "stream",
     "text": [
      "(2, 3, 5, 7, 11)\n"
     ]
    }
   ],
   "source": [
    "def is_prime(num):\n",
    "    if num < 2:\n",
    "        return False\n",
    "    for i in range(2, int(num**0.5)+1):\n",
    "        if num % i == 0:\n",
    "            return False\n",
    "    return True\n",
    "\n",
    "\n",
    "prime_number = []\n",
    "num=2\n",
    "\n",
    "while len(prime_number) < 5:\n",
    "    if is_prime(num):\n",
    "        prime_number.append(num)\n",
    "    num+=1\n",
    "t2=tuple(prime_number)\n",
    "print(t2)        "
   ]
  },
  {
   "cell_type": "markdown",
   "id": "245ad3ac-2990-479f-8dbd-c8310b0b8219",
   "metadata": {},
   "source": [
    "33. Check if a tuple is a palindrome."
   ]
  },
  {
   "cell_type": "code",
   "execution_count": 9,
   "id": "11c35533-8565-4494-bcb8-eb2d3da2f720",
   "metadata": {},
   "outputs": [
    {
     "name": "stdout",
     "output_type": "stream",
     "text": [
      "Tuple is palindrome\n"
     ]
    }
   ],
   "source": [
    "t1=(2,3,4,3,2)\n",
    "\n",
    "if t1[:]==t1[::-1]:\n",
    "    print(\"Tuple is palindrome\")\n",
    "else:\n",
    "    print(\"Tuple is not palindrome\") "
   ]
  },
  {
   "cell_type": "markdown",
   "id": "a49d035e-5252-49cf-a3ba-21797612fed7",
   "metadata": {},
   "source": [
    "34. Create a tuple of squares of numbers from 1 to 5."
   ]
  },
  {
   "cell_type": "code",
   "execution_count": 18,
   "id": "8932a743-73fa-4326-8e49-466985eaf562",
   "metadata": {},
   "outputs": [
    {
     "name": "stdout",
     "output_type": "stream",
     "text": [
      "(1, 4, 9, 16, 25)\n"
     ]
    }
   ],
   "source": [
    "t1=tuple(x**2 for x in range(1,6) )\n",
    "print(t1)"
   ]
  },
  {
   "cell_type": "markdown",
   "id": "d1ede43e-ddff-424c-a558-291cb26cc5ce",
   "metadata": {},
   "source": [
    "35. Filter out all even numbers from a tuple."
   ]
  },
  {
   "cell_type": "code",
   "execution_count": 20,
   "id": "d3eaa719-ba89-4065-b0ac-cf46eb99451e",
   "metadata": {},
   "outputs": [
    {
     "name": "stdout",
     "output_type": "stream",
     "text": [
      "(2, 4, 6, 8, 10)\n"
     ]
    }
   ],
   "source": [
    "t1=tuple(x for x in range(2,11) if x%2==0)\n",
    "print(t1)"
   ]
  },
  {
   "cell_type": "markdown",
   "id": "936ef178-59f2-4661-9d60-6c7f480bcfcc",
   "metadata": {},
   "source": [
    "36. Multiply all elements in a tuple by 2."
   ]
  },
  {
   "cell_type": "code",
   "execution_count": 21,
   "id": "5a096bc9-cf53-4ab5-9be2-ca6d886e473c",
   "metadata": {},
   "outputs": [
    {
     "name": "stdout",
     "output_type": "stream",
     "text": [
      "(2, 4, 6, 8, 10, 12, 14, 16, 18, 20)\n"
     ]
    }
   ],
   "source": [
    "t1=tuple(x*2 for x in range(1,11))\n",
    "print(t1)"
   ]
  },
  {
   "cell_type": "markdown",
   "id": "ed3dad87-90e4-4523-b20f-f5a3387e0cac",
   "metadata": {},
   "source": [
    "37. Create a tuple of random numbers."
   ]
  },
  {
   "cell_type": "code",
   "execution_count": 35,
   "id": "7de9f51b-dad4-4188-a4b0-1d4ea199d394",
   "metadata": {},
   "outputs": [
    {
     "name": "stdout",
     "output_type": "stream",
     "text": [
      "(759, 249, 320, 537, 624, 130, 319, 974, 678, 506)\n"
     ]
    }
   ],
   "source": [
    "import random\n",
    "t1=tuple(random.randint(1,1000) for t1 in range(10))\n",
    "print(t1)"
   ]
  },
  {
   "cell_type": "markdown",
   "id": "df2ad5bc-6c28-4e0a-b22e-8e8847d5a579",
   "metadata": {},
   "source": [
    "38. Check if a tuple is sorted."
   ]
  },
  {
   "cell_type": "code",
   "execution_count": 50,
   "id": "725c6710-7e82-4f3d-8919-d839369b8ec0",
   "metadata": {},
   "outputs": [
    {
     "name": "stdout",
     "output_type": "stream",
     "text": [
      "sorted tuple\n"
     ]
    }
   ],
   "source": [
    "t1=(1,2,3,4,5)\n",
    "if all(t1[i]<=t1[i+1] for i in range(len(t1)-1)):\n",
    "        print(\"sorted tuple\")\n",
    "else:\n",
    "        print(\"Unsorted tuple\")"
   ]
  },
  {
   "cell_type": "markdown",
   "id": "2feca551-dd25-4116-87fe-c01056db0786",
   "metadata": {},
   "source": [
    "39. Rotate a tuple to the left by `n` positions."
   ]
  },
  {
   "cell_type": "code",
   "execution_count": 8,
   "id": "c0805015-e5ed-4f05-aa80-914c36dd9479",
   "metadata": {},
   "outputs": [
    {
     "name": "stdout",
     "output_type": "stream",
     "text": [
      "Original Tuple: (1, 2, 3, 4, 5)\n",
      "Rotated Tuple: (3, 4, 5, 1, 2)\n"
     ]
    }
   ],
   "source": [
    "def rotate_tuple_left(tup, n):\n",
    "    n = n % len(tup)\n",
    "    rotated_tuple = tup[n:] + tup[:n]\n",
    "    return rotated_tuple\n",
    "\n",
    "original_tuple = (1, 2, 3, 4, 5)\n",
    "positions_to_rotate = 2\n",
    "rotated_result = rotate_tuple_left(original_tuple, positions_to_rotate)\n",
    "\n",
    "print(f\"Original Tuple: {original_tuple}\")\n",
    "print(f\"Rotated Tuple: {rotated_result}\")"
   ]
  },
  {
   "cell_type": "markdown",
   "id": "a9de1938-58f9-4ff3-9fe5-7f83145532d4",
   "metadata": {},
   "source": [
    "40. Rotate a tuple to the right by `n` positions."
   ]
  },
  {
   "cell_type": "code",
   "execution_count": 11,
   "id": "884b24e1-ea3d-4af0-af82-d9d9db529abf",
   "metadata": {},
   "outputs": [
    {
     "name": "stdout",
     "output_type": "stream",
     "text": [
      "Original Tuple: (1, 2, 3, 4, 5)\n",
      "Rotated Tuple: (4, 5, 1, 2, 3)\n"
     ]
    }
   ],
   "source": [
    "def rotate_tuple_left(tup, n):\n",
    "    n = n % len(tup)\n",
    "    rotated_tuple = tup[-n:] + tup[:-n]\n",
    "    return rotated_tuple\n",
    "\n",
    "original_tuple = (1, 2, 3, 4, 5)\n",
    "positions_to_rotate = 2\n",
    "rotated_result = rotate_tuple_left(original_tuple, positions_to_rotate)\n",
    "\n",
    "print(f\"Original Tuple: {original_tuple}\")\n",
    "print(f\"Rotated Tuple: {rotated_result}\")"
   ]
  },
  {
   "cell_type": "markdown",
   "id": "af2ff575-faaa-427a-bd2e-5cc3b5d21043",
   "metadata": {},
   "source": [
    "41. Create a tuple of the first 5 Fibonacci numbers."
   ]
  },
  {
   "cell_type": "code",
   "execution_count": 19,
   "id": "fa8e9f2c-40e3-45bc-bc07-52367e664db5",
   "metadata": {},
   "outputs": [
    {
     "name": "stdout",
     "output_type": "stream",
     "text": [
      "(0, 1, 1, 2, 3)\n"
     ]
    }
   ],
   "source": [
    "def fibonacci(n):\n",
    "    tup = [0,1]\n",
    "    while len(tup) < n:\n",
    "        tup.append(tup[-1]+tup[-2])\n",
    "    return tuple(tup)\n",
    "    \n",
    "f=fibonacci(5)\n",
    "print(f)"
   ]
  },
  {
   "cell_type": "code",
   "execution_count": 31,
   "id": "02608568-4b26-42bb-8189-bb28c54835b4",
   "metadata": {},
   "outputs": [
    {
     "name": "stdin",
     "output_type": "stream",
     "text": [
      "Enter the element 1ihwhl\n"
     ]
    },
    {
     "name": "stdout",
     "output_type": "stream",
     "text": [
      "('1', 'i', 'h', 'w', 'h', 'l')\n"
     ]
    }
   ],
   "source": [
    "t1=(input(('Enter the element')))\n",
    "t1.split(' ')\n",
    "print(tuple(t1))"
   ]
  },
  {
   "cell_type": "markdown",
   "id": "f361937e-4fa6-4d5d-8a0d-a9ab5b8967b3",
   "metadata": {},
   "source": [
    "43. Swap two elements in a tuple."
   ]
  },
  {
   "cell_type": "code",
   "execution_count": 3,
   "id": "f3cfc53d-dff4-4326-9f07-56d84c82d863",
   "metadata": {},
   "outputs": [
    {
     "name": "stdout",
     "output_type": "stream",
     "text": [
      "Original Tuple: (1, 2, 3, 4, 5)\n",
      "Swapped Tuple: (1, 4, 3, 2, 5)\n"
     ]
    }
   ],
   "source": [
    "def swap_elements(tup, index1, index2):\n",
    "   \n",
    "    temp_list = list(tup)\n",
    "    \n",
    "    temp_list[index1], temp_list[index2] = temp_list[index2], temp_list[index1]\n",
    "    \n",
    "    swapped_tuple = tuple(temp_list)\n",
    "    \n",
    "    return swapped_tuple\n",
    "\n",
    "original_tuple = (1, 2, 3, 4, 5)\n",
    "index_to_swap1 = 1\n",
    "index_to_swap2 = 3\n",
    "\n",
    "swapped_result = swap_elements(original_tuple, index_to_swap1, index_to_swap2)\n",
    "\n",
    "print(f\"Original Tuple: {original_tuple}\")\n",
    "print(f\"Swapped Tuple: {swapped_result}\")\n",
    "\n"
   ]
  },
  {
   "cell_type": "markdown",
   "id": "1f1ec859-6898-42e6-9de9-d9cc4718ecde",
   "metadata": {},
   "source": [
    "44. Reverse the elements of a tuple."
   ]
  },
  {
   "cell_type": "code",
   "execution_count": 4,
   "id": "57d164b3-99f3-4f74-87ce-a91e9137e808",
   "metadata": {},
   "outputs": [
    {
     "name": "stdout",
     "output_type": "stream",
     "text": [
      "Original Tuple: (1, 2, 3, 4, 5)\n",
      "Reversed Tuple: (5, 4, 3, 2, 1)\n"
     ]
    }
   ],
   "source": [
    "def reverse_tuple(tup):\n",
    "    reversed_tuple = tuple(reversed(tup))\n",
    "    return reversed_tuple\n",
    "\n",
    "original_tuple = (1, 2, 3, 4, 5)\n",
    "reversed_result = reverse_tuple(original_tuple)\n",
    "\n",
    "print(f\"Original Tuple: {original_tuple}\")\n",
    "print(f\"Reversed Tuple: {reversed_result}\")\n"
   ]
  },
  {
   "cell_type": "markdown",
   "id": "a3ac1ad0-c988-4cd0-b3ea-01dfba2469d1",
   "metadata": {},
   "source": [
    "45. Create a tuple of the first `n` powers of 2."
   ]
  },
  {
   "cell_type": "code",
   "execution_count": 5,
   "id": "f4363eda-7362-4a5a-82fe-b6ba3518746d",
   "metadata": {},
   "outputs": [
    {
     "name": "stdout",
     "output_type": "stream",
     "text": [
      "Tuple of the first 5 powers of 2: (1, 2, 4, 8, 16)\n"
     ]
    }
   ],
   "source": [
    "def generate_powers_of_2(n):\n",
    "    powers_of_2 = tuple(2**i for i in range(n))\n",
    "    return powers_of_2\n",
    "\n",
    "n = 5\n",
    "powers_of_2_tuple = generate_powers_of_2(n)\n",
    "\n",
    "print(f\"Tuple of the first {n} powers of 2: {powers_of_2_tuple}\")\n"
   ]
  },
  {
   "cell_type": "markdown",
   "id": "a87294af-cbb8-4d8b-9b74-374d43528ab1",
   "metadata": {},
   "source": [
    "46. Find the longest string in a tuple of strings."
   ]
  },
  {
   "cell_type": "code",
   "execution_count": 6,
   "id": "1e5e0d28-6597-4c8d-8601-a23508b59721",
   "metadata": {},
   "outputs": [
    {
     "name": "stdout",
     "output_type": "stream",
     "text": [
      "Tuple of strings: ('apple', 'banana', 'kiwi', 'orange', 'strawberry')\n",
      "Longest string: strawberry\n"
     ]
    }
   ],
   "source": [
    "def find_longest_string(tuple_of_strings):\n",
    "    if not tuple_of_strings: \n",
    "        return None\n",
    "    \n",
    "    longest_string = max(tuple_of_strings, key=len)\n",
    "    return longest_string\n",
    "\n",
    "strings_tuple = (\"apple\", \"banana\", \"kiwi\", \"orange\", \"strawberry\")\n",
    "longest_string_result = find_longest_string(strings_tuple)\n",
    "\n",
    "print(f\"Tuple of strings: {strings_tuple}\")\n",
    "print(f\"Longest string: {longest_string_result}\")\n"
   ]
  },
  {
   "cell_type": "markdown",
   "id": "5452380f-e96d-448f-a486-1dafe1d887bc",
   "metadata": {},
   "source": [
    "47. Find the shortest string in a tuple of strings."
   ]
  },
  {
   "cell_type": "code",
   "execution_count": 9,
   "id": "56986cfc-9da0-43ff-b5e0-a184de48d387",
   "metadata": {},
   "outputs": [
    {
     "name": "stdout",
     "output_type": "stream",
     "text": [
      "Tuple of strings: ('apple', 'banana', 'kiwi', 'orange', 'strawberry')\n",
      "Shortest string: kiwi\n"
     ]
    }
   ],
   "source": [
    "def find_shortest_string(tuple_of_strings):\n",
    "    if not tuple_of_strings:\n",
    "        return None\n",
    "    \n",
    "    shortest_string = min(tuple_of_strings, key=len)\n",
    "    return shortest_string\n",
    "\n",
    "strings_tuple = (\"apple\", \"banana\", \"kiwi\", \"orange\", \"strawberry\")\n",
    "shortest_string_result = find_shortest_string(strings_tuple)\n",
    "\n",
    "print(f\"Tuple of strings: {strings_tuple}\")\n",
    "print(f\"Shortest string: {shortest_string_result}\")\n"
   ]
  },
  {
   "cell_type": "markdown",
   "id": "d41d4aed-3706-41b4-98dc-8fbbf5532ff0",
   "metadata": {},
   "source": [
    "48. Create a tuple of the first `n` triangular numbers."
   ]
  },
  {
   "cell_type": "code",
   "execution_count": 10,
   "id": "0accfcb6-32b1-485e-b340-53e8388b28f1",
   "metadata": {},
   "outputs": [
    {
     "name": "stdout",
     "output_type": "stream",
     "text": [
      "Tuple of the first 5 triangular numbers: (1, 3, 6, 10, 15)\n"
     ]
    }
   ],
   "source": [
    "def generate_triangular_numbers(n):\n",
    "    triangular_numbers = tuple((i * (i + 1)) // 2 for i in range(1, n + 1))\n",
    "    return triangular_numbers\n",
    "\n",
    "n = 5\n",
    "triangular_numbers_tuple = generate_triangular_numbers(n)\n",
    "\n",
    "print(f\"Tuple of the first {n} triangular numbers: {triangular_numbers_tuple}\")\n"
   ]
  },
  {
   "cell_type": "markdown",
   "id": "da5a47aa-fb13-4680-ab0c-ad81aa36468b",
   "metadata": {},
   "source": [
    "49. Check if a tuple contains another tuple as a subsequence."
   ]
  },
  {
   "cell_type": "code",
   "execution_count": 11,
   "id": "e77767ff-67d7-42db-b445-570f5d120b88",
   "metadata": {},
   "outputs": [
    {
     "name": "stdout",
     "output_type": "stream",
     "text": [
      "Main Tuple: (1, 2, 3, 4, 5, 6, 7)\n",
      "Sub Tuple: (3, 4, 5)\n",
      "Is Sub Tuple a subsequence? True\n"
     ]
    }
   ],
   "source": [
    "def is_subsequence(sub, main):\n",
    "    sub_len = len(sub)\n",
    "    main_len = len(main)\n",
    "\n",
    "    \n",
    "    for i in range(main_len - sub_len + 1):\n",
    "        #\n",
    "        if main[i:i + sub_len] == sub:\n",
    "            return True\n",
    "\n",
    "    return False\n",
    "\n",
    "\n",
    "main_tuple = (1, 2, 3, 4, 5, 6, 7)\n",
    "sub_tuple = (3, 4, 5)\n",
    "\n",
    "result = is_subsequence(sub_tuple, main_tuple)\n",
    "\n",
    "print(f\"Main Tuple: {main_tuple}\")\n",
    "print(f\"Sub Tuple: {sub_tuple}\")\n",
    "print(f\"Is Sub Tuple a subsequence? {result}\")\n"
   ]
  },
  {
   "cell_type": "markdown",
   "id": "01252034-3f1a-454d-8e68-34ded391e792",
   "metadata": {},
   "source": [
    "50. Create a tuple of alternating 1s and 0s of length `n`."
   ]
  },
  {
   "cell_type": "code",
   "execution_count": 12,
   "id": "39cd59ba-c0de-4f8a-8087-8c31c1af7fd7",
   "metadata": {},
   "outputs": [
    {
     "name": "stdout",
     "output_type": "stream",
     "text": [
      "Alternating Tuple of length 8: (0, 1, 0, 1, 0, 1, 0, 1)\n"
     ]
    }
   ],
   "source": [
    "def create_alternating_tuple(n):\n",
    "    alternating_tuple = tuple((i % 2) for i in range(n))\n",
    "    return alternating_tuple\n",
    "n = 8\n",
    "alternating_tuple = create_alternating_tuple(n)\n",
    "\n",
    "print(f\"Alternating Tuple of length {n}: {alternating_tuple}\")\n"
   ]
  },
  {
   "cell_type": "markdown",
   "id": "830939b7-a8b3-4b79-88d9-64983ca2450a",
   "metadata": {},
   "source": [
    "SET"
   ]
  },
  {
   "cell_type": "markdown",
   "id": "863534c7-7afb-4e57-acd5-7acb2359753f",
   "metadata": {},
   "source": [
    "1. Create a set with integers from 1 to 5."
   ]
  },
  {
   "cell_type": "code",
   "execution_count": 18,
   "id": "ee87ac98-ebff-463b-8ff2-89b8790ff281",
   "metadata": {},
   "outputs": [
    {
     "name": "stdout",
     "output_type": "stream",
     "text": [
      "{1, 2, 3, 4, 5}\n"
     ]
    }
   ],
   "source": [
    "s1=set(range(1,6))\n",
    "print(s1)"
   ]
  },
  {
   "cell_type": "markdown",
   "id": "b2522b4c-9c9c-4dab-86d8-96293e4ff352",
   "metadata": {},
   "source": [
    "2. Add an element to a set."
   ]
  },
  {
   "cell_type": "code",
   "execution_count": 19,
   "id": "0d324648-c53e-4624-9f43-007a0e1b19d6",
   "metadata": {},
   "outputs": [
    {
     "name": "stdout",
     "output_type": "stream",
     "text": [
      "{1, 2, 3, 4, 5}\n"
     ]
    }
   ],
   "source": [
    "s1={1,2,4,5}\n",
    "s1.add(3)\n",
    "print(s1)"
   ]
  },
  {
   "cell_type": "markdown",
   "id": "5d0de6b9-dc39-4817-9c03-3d57d16ba21c",
   "metadata": {},
   "source": [
    "3. Remove an element from a set."
   ]
  },
  {
   "cell_type": "code",
   "execution_count": 21,
   "id": "6479eccd-05b7-451c-925d-41c1a5b1249b",
   "metadata": {},
   "outputs": [
    {
     "name": "stdout",
     "output_type": "stream",
     "text": [
      "{1, 2, 3, 4}\n"
     ]
    }
   ],
   "source": [
    "s1={1,2,3,4,5}\n",
    "s1.remove(5)\n",
    "print(s1)"
   ]
  },
  {
   "cell_type": "markdown",
   "id": "0ff5bd43-121a-4afe-ae00-6e0163b04900",
   "metadata": {},
   "source": [
    "4. Check if an element exists in a set."
   ]
  },
  {
   "cell_type": "code",
   "execution_count": 23,
   "id": "18c24f52-73ca-456b-aa96-fa7b3026b6dc",
   "metadata": {},
   "outputs": [
    {
     "name": "stdout",
     "output_type": "stream",
     "text": [
      "3 exists in the set.\n"
     ]
    }
   ],
   "source": [
    "my_set = {1, 2, 3, 4, 5}\n",
    "\n",
    "element_to_check = 3\n",
    "\n",
    "if element_to_check in my_set:\n",
    "    print(f\"{element_to_check} exists in the set.\")\n",
    "else:\n",
    "    print(f\"{element_to_check} does not exist in the set.\")\n"
   ]
  },
  {
   "cell_type": "markdown",
   "id": "93af5a2e-7bce-4be5-be41-f7b4e108d771",
   "metadata": {},
   "source": [
    "5. Find the length of a set without using the `len()` function."
   ]
  },
  {
   "cell_type": "code",
   "execution_count": 24,
   "id": "9a9a1464-c6cd-4800-a3b8-caa01c4a54d4",
   "metadata": {},
   "outputs": [
    {
     "name": "stdout",
     "output_type": "stream",
     "text": [
      "Length of the set: 5\n"
     ]
    }
   ],
   "source": [
    "def set_length(my_set):\n",
    "    count = 0\n",
    "    for _ in my_set:\n",
    "        count += 1\n",
    "    return count\n",
    "\n",
    "my_set = {1, 2, 3, 4, 5}\n",
    "length_of_set = set_length(my_set)\n",
    "\n",
    "print(f\"Length of the set: {length_of_set}\")\n"
   ]
  },
  {
   "cell_type": "markdown",
   "id": "1fe66551-2151-4ed9-b476-47cf65792176",
   "metadata": {},
   "source": [
    "6. Clear all elements from a set."
   ]
  },
  {
   "cell_type": "code",
   "execution_count": 25,
   "id": "a6e2a822-a1e0-4ebe-96db-385ecd6bcd4c",
   "metadata": {},
   "outputs": [
    {
     "name": "stdout",
     "output_type": "stream",
     "text": [
      "set()\n"
     ]
    }
   ],
   "source": [
    "s1 = {1, 2, 3, 4, 5}\n",
    "s1.clear()\n",
    "print(s1)"
   ]
  },
  {
   "cell_type": "markdown",
   "id": "242ffc47-958d-407c-b733-d2eb382e51d2",
   "metadata": {},
   "source": [
    "7. Create a set of even numbers from 1 to 10."
   ]
  },
  {
   "cell_type": "code",
   "execution_count": 28,
   "id": "dd795c35-32eb-4871-9987-9a616782c723",
   "metadata": {},
   "outputs": [
    {
     "name": "stdout",
     "output_type": "stream",
     "text": [
      "{2, 4, 6, 8, 10}\n"
     ]
    }
   ],
   "source": [
    "s1=set(x for x in range(1,11) if x%2==0)\n",
    "print(s1)"
   ]
  },
  {
   "cell_type": "markdown",
   "id": "aff0bcd4-e137-400a-add0-2f0ef7bef874",
   "metadata": {},
   "source": [
    "8. Create a set of odd numbers from 1 to 10."
   ]
  },
  {
   "cell_type": "code",
   "execution_count": 29,
   "id": "616c0415-995c-4b21-aa87-e566b75695df",
   "metadata": {},
   "outputs": [
    {
     "name": "stdout",
     "output_type": "stream",
     "text": [
      "{1, 3, 5, 7, 9}\n"
     ]
    }
   ],
   "source": [
    "s1=set(x for x in range(1,10) if x%2!=0)\n",
    "print(s1)"
   ]
  },
  {
   "cell_type": "markdown",
   "id": "8f1c5ae9-bd49-4000-a0e8-018848f74eab",
   "metadata": {},
   "source": [
    "9. Find the union of two sets."
   ]
  },
  {
   "cell_type": "code",
   "execution_count": 32,
   "id": "e867f47e-12fa-4be8-869c-bfb21f9c3a51",
   "metadata": {},
   "outputs": [
    {
     "data": {
      "text/plain": [
       "{1, 2, 3, 4, 5}"
      ]
     },
     "execution_count": 32,
     "metadata": {},
     "output_type": "execute_result"
    }
   ],
   "source": [
    "s1 = {1, 2, 3, 4, 5}\n",
    "s2={2,3,4,5}\n",
    "s1.union(s2)"
   ]
  },
  {
   "cell_type": "markdown",
   "id": "2d4324ef-9312-458d-b5cd-fc7e2b296380",
   "metadata": {},
   "source": [
    "10. Find the intersection of two sets."
   ]
  },
  {
   "cell_type": "code",
   "execution_count": 33,
   "id": "6cfbfe2c-abef-4bb3-a1bb-2ad69b6d71fc",
   "metadata": {},
   "outputs": [
    {
     "data": {
      "text/plain": [
       "{2, 3, 4, 5}"
      ]
     },
     "execution_count": 33,
     "metadata": {},
     "output_type": "execute_result"
    }
   ],
   "source": [
    "s1 = {1, 2, 3, 4, 5}\n",
    "s2={2,3,4,5}\n",
    "s1.intersection(s2)"
   ]
  },
  {
   "cell_type": "markdown",
   "id": "711d4bc0-a2ac-40ed-9656-d567c52fbd69",
   "metadata": {},
   "source": [
    "11. Find the difference between two sets.\n"
   ]
  },
  {
   "cell_type": "code",
   "execution_count": 35,
   "id": "345d66b3-3bd7-4466-8603-12dbcfff4c76",
   "metadata": {},
   "outputs": [
    {
     "data": {
      "text/plain": [
       "{1, 3, 4}"
      ]
     },
     "execution_count": 35,
     "metadata": {},
     "output_type": "execute_result"
    }
   ],
   "source": [
    "s1={1,2,3,4,5}\n",
    "s2={7,8,5,2}\n",
    "s1.difference(s2)"
   ]
  },
  {
   "cell_type": "markdown",
   "id": "29c7e467-3193-4b5c-9b4f-89f88777b542",
   "metadata": {},
   "source": [
    "12. Check if a set is a subset of another set."
   ]
  },
  {
   "cell_type": "code",
   "execution_count": 36,
   "id": "fb2acd29-1459-4680-9ec3-c69493ab1b7f",
   "metadata": {},
   "outputs": [
    {
     "data": {
      "text/plain": [
       "True"
      ]
     },
     "execution_count": 36,
     "metadata": {},
     "output_type": "execute_result"
    }
   ],
   "source": [
    "s1={1,2,3,4,5}\n",
    "s2={3,4,5}\n",
    "s2.issubset(s1)"
   ]
  },
  {
   "cell_type": "markdown",
   "id": "aad00710-0268-4185-ad45-7003f4db1f31",
   "metadata": {},
   "source": [
    "13. Check if a set is a superset of another set."
   ]
  },
  {
   "cell_type": "code",
   "execution_count": 37,
   "id": "746615a0-9ac6-4d69-b365-7db15dee008f",
   "metadata": {},
   "outputs": [
    {
     "data": {
      "text/plain": [
       "True"
      ]
     },
     "execution_count": 37,
     "metadata": {},
     "output_type": "execute_result"
    }
   ],
   "source": [
    "set1 = {1, 2, 3, 4, 5}\n",
    "set2 = {3, 4}\n",
    "set1.issuperset(set2)"
   ]
  },
  {
   "cell_type": "markdown",
   "id": "35c01580-85ac-47ca-944a-52f7f488c98d",
   "metadata": {},
   "source": [
    "14. Create a set from a list."
   ]
  },
  {
   "cell_type": "code",
   "execution_count": 38,
   "id": "21c36c12-5740-4d45-9732-c2a02cb125d7",
   "metadata": {},
   "outputs": [
    {
     "name": "stdout",
     "output_type": "stream",
     "text": [
      "{1, 2, 3, 4, 5}\n"
     ]
    }
   ],
   "source": [
    "s1=[1,2,3,4,5]\n",
    "print(set(s1))"
   ]
  },
  {
   "cell_type": "markdown",
   "id": "64758fab-a5a1-49e1-b65b-fdf58a377c4d",
   "metadata": {},
   "source": [
    "15. Convert a set to a list."
   ]
  },
  {
   "cell_type": "code",
   "execution_count": 39,
   "id": "680dacbc-a744-46d4-9989-7c6ee6f4f22e",
   "metadata": {},
   "outputs": [
    {
     "name": "stdout",
     "output_type": "stream",
     "text": [
      "[1, 2, 3, 4, 5]\n"
     ]
    }
   ],
   "source": [
    "s1={1,2,3,4,5}\n",
    "print(list(s1))"
   ]
  },
  {
   "cell_type": "markdown",
   "id": "f6d32c52-328c-44d2-b2da-fe8ba12a31f9",
   "metadata": {},
   "source": [
    "16. Remove a random element from a set."
   ]
  },
  {
   "cell_type": "markdown",
   "id": "8f10f1ed-b16d-44a4-83de-28480ff6230c",
   "metadata": {},
   "source": [
    "17. Pop an element from a set."
   ]
  },
  {
   "cell_type": "code",
   "execution_count": 44,
   "id": "45df9adb-59e3-45ef-b305-f2eb0c2e81fe",
   "metadata": {},
   "outputs": [
    {
     "name": "stdout",
     "output_type": "stream",
     "text": [
      "Original Set: {2, 3, 4, 5}\n",
      "Removed Random Element: 1\n"
     ]
    }
   ],
   "source": [
    "my_set = {1, 2, 3, 4, 5}\n",
    "\n",
    "random_element = my_set.pop()\n",
    "\n",
    "print(f\"Original Set: {my_set}\")\n",
    "print(f\"Removed Random Element: {random_element}\")"
   ]
  },
  {
   "cell_type": "markdown",
   "id": "59435ae8-4b3e-4341-9e3e-8cdc65d84e42",
   "metadata": {},
   "source": [
    "18. Check if two sets have no elements in common."
   ]
  },
  {
   "cell_type": "code",
   "execution_count": 1,
   "id": "9a0f8c7a-00c1-4cc9-be07-5ff40a005b29",
   "metadata": {},
   "outputs": [
    {
     "name": "stdout",
     "output_type": "stream",
     "text": [
      "set have no common element\n"
     ]
    }
   ],
   "source": [
    "s1={1,2,4,3,}\n",
    "s2={1,3,4,5}\n",
    "if s1==s2:\n",
    "    print(\"set have common element\")\n",
    "else:\n",
    "    print(\"set have no common element\")"
   ]
  },
  {
   "cell_type": "markdown",
   "id": "5b677160-05b4-443d-a96a-964c133bd687",
   "metadata": {},
   "source": [
    "19. Find the symmetric difference between two sets."
   ]
  },
  {
   "cell_type": "code",
   "execution_count": 2,
   "id": "63513995-cba5-481c-9c35-72974980ffa4",
   "metadata": {},
   "outputs": [
    {
     "name": "stdout",
     "output_type": "stream",
     "text": [
      "{1, 2, 5, 6}\n"
     ]
    }
   ],
   "source": [
    "set1 = {1, 2, 3, 4}\n",
    "set2 = {3, 4, 5, 6}\n",
    "\n",
    "symmetric_diff = set1.symmetric_difference(set2)\n",
    "print(symmetric_diff)"
   ]
  },
  {
   "cell_type": "markdown",
   "id": "013e704e-b780-468e-861e-8ad45a8b371e",
   "metadata": {},
   "source": [
    "20. Update a set with elements from another set."
   ]
  },
  {
   "cell_type": "code",
   "execution_count": 3,
   "id": "fae19467-272c-4ad4-b924-5af0b9b2d56c",
   "metadata": {},
   "outputs": [
    {
     "name": "stdout",
     "output_type": "stream",
     "text": [
      "{1, 2, 3, 4, 5}\n"
     ]
    }
   ],
   "source": [
    "set1 = {1, 2, 3}\n",
    "set2 = {3, 4, 5}\n",
    "\n",
    "set1.update(set2)\n",
    "print(set1)"
   ]
  },
  {
   "cell_type": "markdown",
   "id": "757d0933-857d-4c59-918d-d4c80fe5964c",
   "metadata": {},
   "source": [
    "21. Create a set of the first 5 prime numbers."
   ]
  },
  {
   "cell_type": "code",
   "execution_count": 5,
   "id": "429b1ee1-0451-4747-b026-53a48a1d94d4",
   "metadata": {},
   "outputs": [
    {
     "name": "stdout",
     "output_type": "stream",
     "text": [
      "{2, 3, 5, 7, 11}\n"
     ]
    }
   ],
   "source": [
    "def is_prime(num):\n",
    "    if num < 2:\n",
    "        return False\n",
    "    for i in range(2, int(num**0.5) + 1):\n",
    "        if num % i == 0:\n",
    "            return False\n",
    "    return True\n",
    "\n",
    "first_n_primes = set()\n",
    "num = 2 \n",
    "\n",
    "while len(first_n_primes) < 5:\n",
    "    if is_prime(num):\n",
    "        first_n_primes.add(num)\n",
    "    num += 1\n",
    "    \n",
    "print(first_n_primes)\n"
   ]
  },
  {
   "cell_type": "markdown",
   "id": "b1dec028-7d2d-464a-84d7-894f7f615bdb",
   "metadata": {},
   "source": [
    "22. Check if two sets are identical."
   ]
  },
  {
   "cell_type": "code",
   "execution_count": 6,
   "id": "c22ba423-d761-4930-bdb0-d100bf84d250",
   "metadata": {},
   "outputs": [
    {
     "name": "stdout",
     "output_type": "stream",
     "text": [
      "True\n"
     ]
    }
   ],
   "source": [
    "set1 = {1, 2, 3}\n",
    "set2 = {3, 2, 1}\n",
    "\n",
    "are_identical = set1 == set2\n",
    "print(are_identical)\n"
   ]
  },
  {
   "cell_type": "markdown",
   "id": "c0caf063-8ebe-4f30-a2af-f2d2fc0e3d5a",
   "metadata": {},
   "source": [
    "23. Create a frozen set."
   ]
  },
  {
   "cell_type": "code",
   "execution_count": 8,
   "id": "d95ee8be-864f-43f7-891b-d1b2e7a1b981",
   "metadata": {},
   "outputs": [
    {
     "name": "stdout",
     "output_type": "stream",
     "text": [
      "frozenset({1, 2, 3, 4})\n"
     ]
    }
   ],
   "source": [
    "\n",
    "my_set = {1, 2, 3, 4}\n",
    "\n",
    "my_frozen_set = frozenset(my_set)\n",
    "print(my_frozen_set)"
   ]
  },
  {
   "cell_type": "markdown",
   "id": "f7b0d13b-ffeb-474e-b83b-045b2c95e3db",
   "metadata": {},
   "source": [
    "24. Check if a set is disjoint with another set."
   ]
  },
  {
   "cell_type": "code",
   "execution_count": 9,
   "id": "162da3ba-0bd9-4a80-ae55-f2798d319596",
   "metadata": {},
   "outputs": [
    {
     "name": "stdout",
     "output_type": "stream",
     "text": [
      "True\n"
     ]
    }
   ],
   "source": [
    "set1 = {1, 2, 3}\n",
    "set2 = {4, 5, 6}\n",
    "\n",
    "are_disjoint = set1.isdisjoint(set2)\n",
    "print(are_disjoint)"
   ]
  },
  {
   "cell_type": "markdown",
   "id": "bed7d98b-df0b-445d-b59b-fea640bb15fa",
   "metadata": {},
   "source": [
    "25. Create a set of squares of numbers from 1 to 5."
   ]
  },
  {
   "cell_type": "code",
   "execution_count": 10,
   "id": "b53a1946-6dae-480b-81c0-875d098f2b76",
   "metadata": {},
   "outputs": [
    {
     "name": "stdout",
     "output_type": "stream",
     "text": [
      "{1, 4, 9, 16, 25}\n"
     ]
    }
   ],
   "source": [
    "squares_set = {x**2 for x in range(1, 6)}\n",
    "print(squares_set)"
   ]
  },
  {
   "cell_type": "markdown",
   "id": "a61f9535-9843-4d6a-a6d6-0f63453e9b6b",
   "metadata": {},
   "source": [
    "26. Filter out all even numbers from a set."
   ]
  },
  {
   "cell_type": "code",
   "execution_count": 12,
   "id": "f0a09ef0-b8ea-4428-bade-f6adafb4b993",
   "metadata": {},
   "outputs": [
    {
     "name": "stdout",
     "output_type": "stream",
     "text": [
      "{2, 4, 6, 8, 10}\n"
     ]
    }
   ],
   "source": [
    "original_set = {1, 2, 3, 4, 5, 6, 7, 8, 9, 10}\n",
    "\n",
    "filtered_set = {x for x in original_set if x % 2 == 0}\n",
    "print(filtered_set)"
   ]
  },
  {
   "cell_type": "markdown",
   "id": "fcca2e4b-ce11-4666-bd06-80691213ee81",
   "metadata": {},
   "source": [
    "27. Multiply all elements in a set by 2."
   ]
  },
  {
   "cell_type": "code",
   "execution_count": 13,
   "id": "2ac80083-0019-409d-92b8-b7cc526a62bb",
   "metadata": {},
   "outputs": [
    {
     "name": "stdout",
     "output_type": "stream",
     "text": [
      "{2, 4, 6, 8, 10}\n"
     ]
    }
   ],
   "source": [
    "original_set = {1, 2, 3, 4, 5}\n",
    "\n",
    "multiplied_set = {x * 2 for x in original_set}\n",
    "print(multiplied_set)"
   ]
  },
  {
   "cell_type": "markdown",
   "id": "7308e1fb-19d9-48fd-8b30-cce363921241",
   "metadata": {},
   "source": [
    "28. Create a set of random numbers."
   ]
  },
  {
   "cell_type": "code",
   "execution_count": 14,
   "id": "3627a196-6560-4ee1-a0f8-c923e9f365ce",
   "metadata": {},
   "outputs": [
    {
     "name": "stdout",
     "output_type": "stream",
     "text": [
      "{67, 44, 17, 83, 28}\n"
     ]
    }
   ],
   "source": [
    "import random\n",
    "random_set = {random.randint(1, 100) for _ in range(5)}\n",
    "print(random_set)"
   ]
  },
  {
   "cell_type": "markdown",
   "id": "fbecbcbf-b918-44cb-99fd-dc9f166e6648",
   "metadata": {},
   "source": [
    "29. Check if a set is empty."
   ]
  },
  {
   "cell_type": "code",
   "execution_count": 15,
   "id": "c52bef22-a6c6-4b9f-9468-1912a2330eae",
   "metadata": {},
   "outputs": [
    {
     "name": "stdout",
     "output_type": "stream",
     "text": [
      "The set is empty\n"
     ]
    }
   ],
   "source": [
    "my_set = set()\n",
    "\n",
    "if len(my_set) == 0:\n",
    "    print(\"The set is empty\")\n",
    "else:\n",
    "    print(\"The set is not empty\")"
   ]
  },
  {
   "cell_type": "markdown",
   "id": "ed434270-3de9-4cfe-86c1-443b46a27318",
   "metadata": {},
   "source": [
    "30. Create a nested set (hint: use frozenset)."
   ]
  },
  {
   "cell_type": "code",
   "execution_count": 16,
   "id": "3cc794ae-fbc2-43f3-8b87-b57e3ae62c15",
   "metadata": {},
   "outputs": [
    {
     "name": "stdout",
     "output_type": "stream",
     "text": [
      "{frozenset({3, 4}), frozenset({5, 6}), frozenset({1, 2})}\n"
     ]
    }
   ],
   "source": [
    "nested_set = {frozenset({1, 2}), frozenset({3, 4}), frozenset({5, 6})}\n",
    "print(nested_set)"
   ]
  },
  {
   "cell_type": "markdown",
   "id": "e9b060d4-f84f-4964-b5a4-15da4b7300b2",
   "metadata": {},
   "source": [
    "31. Remove an element from a set using the discard method."
   ]
  },
  {
   "cell_type": "code",
   "execution_count": 17,
   "id": "2aa3b530-357b-4632-ba1c-13247ace13fa",
   "metadata": {},
   "outputs": [
    {
     "name": "stdout",
     "output_type": "stream",
     "text": [
      "{1, 2, 4, 5}\n"
     ]
    }
   ],
   "source": [
    "my_set = {1, 2, 3, 4, 5}\n",
    "my_set.discard(3)\n",
    "print(my_set)"
   ]
  },
  {
   "cell_type": "markdown",
   "id": "767398bb-4515-4fb7-b47b-79ec1f281a61",
   "metadata": {},
   "source": [
    "32. Compare two sets."
   ]
  },
  {
   "cell_type": "code",
   "execution_count": 18,
   "id": "977bf372-3744-44d9-8022-ab86f0fb7b0f",
   "metadata": {},
   "outputs": [
    {
     "name": "stdout",
     "output_type": "stream",
     "text": [
      "True\n"
     ]
    }
   ],
   "source": [
    "set1 = {1, 2, 3}\n",
    "set2 = {3, 2, 1}\n",
    "\n",
    "are_equal = set1 == set2\n",
    "print(are_equal)"
   ]
  },
  {
   "cell_type": "markdown",
   "id": "871ae1e0-e557-4eaf-bfbf-38dcc1d5624d",
   "metadata": {},
   "source": [
    "33. Create a set from a string."
   ]
  },
  {
   "cell_type": "code",
   "execution_count": 19,
   "id": "9c8f0837-0e9a-4105-84c8-9e88adbc513a",
   "metadata": {},
   "outputs": [
    {
     "name": "stdout",
     "output_type": "stream",
     "text": [
      "{'o', 'l', 'h', 'e'}\n"
     ]
    }
   ],
   "source": [
    "my_string = \"hello\"\n",
    "my_set = set(my_string)\n",
    "print(my_set)"
   ]
  },
  {
   "cell_type": "markdown",
   "id": "8f52611b-cdd4-47f7-adc6-2fd7e81425d6",
   "metadata": {},
   "source": [
    "34. Convert a set of strings to a set of integers."
   ]
  },
  {
   "cell_type": "code",
   "execution_count": 20,
   "id": "a1dc0528-320e-4fab-b57e-95eafd1e3699",
   "metadata": {},
   "outputs": [
    {
     "name": "stdout",
     "output_type": "stream",
     "text": [
      "{1, 2, 3, 4, 5}\n"
     ]
    }
   ],
   "source": [
    "string_set = {'1', '2', '3', '4', '5'}\n",
    "integer_set = {int(x) for x in string_set}\n",
    "print(integer_set)"
   ]
  },
  {
   "cell_type": "markdown",
   "id": "1597325b-7a52-4163-858a-2f71e4d8a5db",
   "metadata": {},
   "source": [
    "35. Convert a set of integers to a set of strings."
   ]
  },
  {
   "cell_type": "code",
   "execution_count": 21,
   "id": "48022fbe-55e3-4884-b117-248e70b757d1",
   "metadata": {},
   "outputs": [
    {
     "name": "stdout",
     "output_type": "stream",
     "text": [
      "{'5', '4', '1', '3', '2'}\n"
     ]
    }
   ],
   "source": [
    "integer_set = {1, 2, 3, 4, 5}\n",
    "string_set = {str(x) for x in integer_set}\n",
    "print(string_set)"
   ]
  },
  {
   "cell_type": "markdown",
   "id": "6fe0c2c1-f8e6-40af-924e-0dd830381871",
   "metadata": {},
   "source": [
    "36. Create a set from a tuple."
   ]
  },
  {
   "cell_type": "code",
   "execution_count": 22,
   "id": "a46b4bfe-4399-4360-a784-22ba271856e5",
   "metadata": {},
   "outputs": [
    {
     "name": "stdout",
     "output_type": "stream",
     "text": [
      "{1, 2, 3, 4, 5}\n"
     ]
    }
   ],
   "source": [
    "my_tuple = (1, 2, 3, 4, 5)\n",
    "my_set = set(my_tuple)\n",
    "print(my_set)"
   ]
  },
  {
   "cell_type": "markdown",
   "id": "04c59dab-20df-4f95-b11f-fb0dfa058c43",
   "metadata": {},
   "source": [
    "37. Convert a set to a tuple."
   ]
  },
  {
   "cell_type": "code",
   "execution_count": 23,
   "id": "15edebbf-671c-423c-b383-42a49b89babd",
   "metadata": {},
   "outputs": [
    {
     "name": "stdout",
     "output_type": "stream",
     "text": [
      "(1, 2, 3, 4, 5)\n"
     ]
    }
   ],
   "source": [
    "my_set = {1, 2, 3, 4, 5}\n",
    "my_tuple = tuple(my_set)\n",
    "print(my_tuple)\n"
   ]
  },
  {
   "cell_type": "markdown",
   "id": "995ca43b-f7eb-4f1b-a6a3-54075d76ea9c",
   "metadata": {},
   "source": [
    "38. Find the maximum value in a set."
   ]
  },
  {
   "cell_type": "code",
   "execution_count": 24,
   "id": "101ea1c4-033b-4f99-a927-8ca3179abc7d",
   "metadata": {},
   "outputs": [
    {
     "name": "stdout",
     "output_type": "stream",
     "text": [
      "15\n"
     ]
    }
   ],
   "source": [
    "my_set = {10, 5, 8, 15, 3}\n",
    "max_value = max(my_set)\n",
    "print(max_value)"
   ]
  },
  {
   "cell_type": "markdown",
   "id": "8f35a2d5-5737-4068-8956-d7a3ba4ae9c1",
   "metadata": {},
   "source": [
    "39. Find the minimum value in a set."
   ]
  },
  {
   "cell_type": "code",
   "execution_count": 25,
   "id": "3815c900-741b-44b4-98ba-3f5c5d2abfc4",
   "metadata": {},
   "outputs": [
    {
     "name": "stdout",
     "output_type": "stream",
     "text": [
      "3\n"
     ]
    }
   ],
   "source": [
    "my_set = {10, 5, 8, 15, 3}\n",
    "min_value = min(my_set)\n",
    "print(min_value)"
   ]
  },
  {
   "cell_type": "markdown",
   "id": "36b2f0dc-93db-4294-948c-ee84f7720d36",
   "metadata": {},
   "source": [
    "40. Create a set from user input."
   ]
  },
  {
   "cell_type": "code",
   "execution_count": 27,
   "id": "907d1379-e72a-41ba-a7a0-8fbe3ffd6beb",
   "metadata": {},
   "outputs": [
    {
     "name": "stdin",
     "output_type": "stream",
     "text": [
      "Enter elements separated by spaces:  how are u\n"
     ]
    },
    {
     "name": "stdout",
     "output_type": "stream",
     "text": [
      "Set from user input: {'u', 'are', 'how'}\n"
     ]
    }
   ],
   "source": [
    "user_input_str = input(\"Enter elements separated by spaces: \")\n",
    "input_list = user_input_str.split()\n",
    "user_set = set(input_list)\n",
    "print(\"Set from user input:\", user_set)"
   ]
  },
  {
   "cell_type": "markdown",
   "id": "465e8bcc-c773-40e9-9fb0-647cd1fd69c9",
   "metadata": {},
   "source": [
    "41. Check if the intersection of two sets is empty."
   ]
  },
  {
   "cell_type": "code",
   "execution_count": 28,
   "id": "2be8e695-8d19-4ab2-937e-76e27c5d361d",
   "metadata": {},
   "outputs": [
    {
     "name": "stdout",
     "output_type": "stream",
     "text": [
      "True\n"
     ]
    }
   ],
   "source": [
    "set1 = {1, 2, 3}\n",
    "set2 = {4, 5, 6}\n",
    "intersection_result = set1.intersection(set2)\n",
    "intersection_empty = not bool(intersection_result)\n",
    "print(intersection_empty)"
   ]
  },
  {
   "cell_type": "markdown",
   "id": "d3c9339a-58b1-48f9-93d3-27d58ec0d114",
   "metadata": {},
   "source": [
    "42. Create a set of the first 5 Fibonacci numbers."
   ]
  },
  {
   "cell_type": "code",
   "execution_count": 29,
   "id": "0c489846-56ef-4a0b-ae02-3dfe93db7a34",
   "metadata": {},
   "outputs": [
    {
     "name": "stdout",
     "output_type": "stream",
     "text": [
      "{0, 1, 2, 3}\n"
     ]
    }
   ],
   "source": [
    "def generate_fibonacci(n):\n",
    "    fibonacci_set = set()\n",
    "    a, b = 0, 1\n",
    "\n",
    "    for _ in range(n):\n",
    "        fibonacci_set.add(a)\n",
    "        a, b = b, a + b\n",
    "\n",
    "    return fibonacci_set\n",
    "first_5_fibonacci = generate_fibonacci(5)\n",
    "print(first_5_fibonacci)"
   ]
  },
  {
   "cell_type": "markdown",
   "id": "cef2798b-5140-45f4-8d36-8fee5d243983",
   "metadata": {},
   "source": [
    "43. Remove duplicates from a list using sets."
   ]
  },
  {
   "cell_type": "code",
   "execution_count": 30,
   "id": "be520d4b-860c-4065-863b-80a10918616f",
   "metadata": {},
   "outputs": [
    {
     "name": "stdout",
     "output_type": "stream",
     "text": [
      "[1, 2, 3, 4, 5]\n"
     ]
    }
   ],
   "source": [
    "my_list = [1, 2, 2, 3, 4, 4, 5]\n",
    "unique_list = list(set(my_list))\n",
    "print(unique_list)"
   ]
  },
  {
   "cell_type": "markdown",
   "id": "1e239141-7590-445f-8150-6178177c7d4e",
   "metadata": {},
   "source": [
    "44. Check if two sets have the same elements, regardless of their count."
   ]
  },
  {
   "cell_type": "code",
   "execution_count": 31,
   "id": "1e12b08b-650b-47d8-a99c-6f31e54be63b",
   "metadata": {},
   "outputs": [
    {
     "name": "stdout",
     "output_type": "stream",
     "text": [
      "True\n"
     ]
    }
   ],
   "source": [
    "set1 = {1, 2, 3, 4, 5}\n",
    "set2 = {5, 4, 3, 2, 1}\n",
    "have_same_elements = set(set1) == set(set2)\n",
    "print(have_same_elements)"
   ]
  },
  {
   "cell_type": "markdown",
   "id": "d28ea9bd-9af9-4b90-8939-cd9841e792cd",
   "metadata": {},
   "source": [
    "45. Create a set of the first `n` powers of 2."
   ]
  },
  {
   "cell_type": "code",
   "execution_count": 32,
   "id": "ff9f561d-e41d-4683-9b5c-7a3c6e7aa9aa",
   "metadata": {},
   "outputs": [
    {
     "name": "stdout",
     "output_type": "stream",
     "text": [
      "{1, 2, 4, 8, 16}\n"
     ]
    }
   ],
   "source": [
    "def generate_powers_of_2(n):\n",
    "    return {pow(2, i) for i in range(n)}\n",
    "first_5_powers_of_2 = generate_powers_of_2(5)\n",
    "print(first_5_powers_of_2)"
   ]
  },
  {
   "cell_type": "markdown",
   "id": "47162f1e-a49f-4a89-891e-9b207701b0f2",
   "metadata": {},
   "source": [
    "46. Find the common elements between a set and a list."
   ]
  },
  {
   "cell_type": "code",
   "execution_count": 33,
   "id": "2f085d1c-61e5-4b37-9129-35f746b5db7e",
   "metadata": {},
   "outputs": [
    {
     "name": "stdout",
     "output_type": "stream",
     "text": [
      "{3, 4, 5}\n"
     ]
    }
   ],
   "source": [
    "my_set = {1, 2, 3, 4, 5}\n",
    "my_list = [3, 4, 5, 6, 7]\n",
    "common_elements = my_set.intersection(my_list)\n",
    "print(common_elements)"
   ]
  },
  {
   "cell_type": "markdown",
   "id": "ce2b3860-58b4-4afd-a3ad-301b9cc51258",
   "metadata": {},
   "source": [
    "47. Create a set of the first `n` triangular numbers."
   ]
  },
  {
   "cell_type": "code",
   "execution_count": 34,
   "id": "726009ab-b95e-4b88-a945-d2b4072df2cd",
   "metadata": {},
   "outputs": [
    {
     "name": "stdout",
     "output_type": "stream",
     "text": [
      "{1, 3, 6, 10, 15}\n"
     ]
    }
   ],
   "source": [
    "def generate_triangular_numbers(n):\n",
    "    return {i * (i + 1) // 2 for i in range(1, n + 1)}\n",
    "first_5_triangular_numbers = generate_triangular_numbers(5)\n",
    "print(first_5_triangular_numbers)"
   ]
  },
  {
   "cell_type": "markdown",
   "id": "f4c25fa5-bc27-4a41-8f8d-43dcc0c9276d",
   "metadata": {},
   "source": [
    "48. Check if a set contains another set as a subset."
   ]
  },
  {
   "cell_type": "code",
   "execution_count": 35,
   "id": "f9302ceb-5740-4af8-bc80-a725b118f28e",
   "metadata": {},
   "outputs": [
    {
     "name": "stdout",
     "output_type": "stream",
     "text": [
      "True\n"
     ]
    }
   ],
   "source": [
    "set1 = {1, 2, 3, 4, 5}\n",
    "set2 = {2, 3}\n",
    "\n",
    "is_subset = set2.issubset(set1)\n",
    "print(is_subset)"
   ]
  },
  {
   "cell_type": "markdown",
   "id": "2b50fc0e-e547-47cc-b522-161b87ddb5bf",
   "metadata": {},
   "source": [
    "49. Create a set of alternating 1s and 0s of length `n`."
   ]
  },
  {
   "cell_type": "code",
   "execution_count": 36,
   "id": "d620f1cc-1878-404e-a885-59dc10009221",
   "metadata": {},
   "outputs": [
    {
     "name": "stdout",
     "output_type": "stream",
     "text": [
      "{0, 1}\n"
     ]
    }
   ],
   "source": [
    "def generate_alternating_set(n):\n",
    "    return {i % 2 for i in range(n)}\n",
    "alternating_set = generate_alternating_set(8)\n",
    "print(alternating_set)\n"
   ]
  },
  {
   "cell_type": "markdown",
   "id": "1a11cf9e-3f0a-40ef-9c9a-1a2c4290dcf5",
   "metadata": {},
   "source": [
    "50. Merge multiple sets into one."
   ]
  },
  {
   "cell_type": "code",
   "execution_count": 37,
   "id": "aee67db7-3e92-4e7e-ac65-b9c434326d01",
   "metadata": {},
   "outputs": [
    {
     "name": "stdout",
     "output_type": "stream",
     "text": [
      "{1, 2, 3, 4, 5, 6, 7}\n"
     ]
    }
   ],
   "source": [
    "set1 = {1, 2, 3}\n",
    "set2 = {3, 4, 5}\n",
    "set3 = {5, 6, 7}\n",
    "\n",
    "merged_set = set1.union(set2, set3)\n",
    "print(merged_set)"
   ]
  },
  {
   "cell_type": "code",
   "execution_count": null,
   "id": "b6239da9-cf1c-4aff-8a00-f017356d721b",
   "metadata": {},
   "outputs": [],
   "source": []
  }
 ],
 "metadata": {
  "kernelspec": {
   "display_name": "Python 3 (ipykernel)",
   "language": "python",
   "name": "python3"
  },
  "language_info": {
   "codemirror_mode": {
    "name": "ipython",
    "version": 3
   },
   "file_extension": ".py",
   "mimetype": "text/x-python",
   "name": "python",
   "nbconvert_exporter": "python",
   "pygments_lexer": "ipython3",
   "version": "3.10.8"
  }
 },
 "nbformat": 4,
 "nbformat_minor": 5
}
