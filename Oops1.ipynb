{
  "nbformat": 4,
  "nbformat_minor": 0,
  "metadata": {
    "colab": {
      "provenance": []
    },
    "kernelspec": {
      "name": "python3",
      "display_name": "Python 3"
    },
    "language_info": {
      "name": "python"
    }
  },
  "cells": [
    {
      "cell_type": "markdown",
      "source": [
        "1: Bank Account Create a class representing a bank account with attributes like account number, account holder name, and balance. Implement methods to deposit and withdraw money from the account."
      ],
      "metadata": {
        "id": "5oIJON-EMj5C"
      }
    },
    {
      "cell_type": "code",
      "source": [
        "def deposit(self, amount):\n",
        "        if amount > 0:\n",
        "            self.balance += amount\n",
        "            return f\"Deposited {amount}. New balance: {self.balance}\"\n",
        "        return \"Invalid deposit amount.\"\n",
        "\n",
        "    def withdraw(self, amount):\n",
        "        if 0 < amount <= self.balance:\n",
        "            self.balance -= amount\n",
        "            return f\"Withdrew {amount}. New balance: {self.balance}\"\n",
        "        return \"Insufficient balance or invalid amount.\"\n",
        "account = BankAccount(\"12345678\", \"John Doe\", 1000)\n",
        "print(account.deposit(500))\n",
        "print(account.withdraw(300))\n",
        "print(account.withdraw(2000))"
      ],
      "metadata": {
        "id": "0krthWK3Mkni"
      },
      "execution_count": null,
      "outputs": []
    },
    {
      "cell_type": "markdown",
      "source": [
        "2: Employee Management Create a class representing an employee with attributes like employee ID, name, and salary. Implement methods to calculate the yearly bonus and display employee details.\n"
      ],
      "metadata": {
        "id": "roMKmJYnM4fm"
      }
    },
    {
      "cell_type": "code",
      "source": [
        "class Employee:\n",
        "    def __init__(self, employee_id, name, salary):\n",
        "        self.employee_id = employee_id\n",
        "        self.name = name\n",
        "        self.salary = salary\n",
        "\n",
        "    def calculate_yearly_bonus(self, bonus_percentage):\n",
        "        if bonus_percentage > 0:\n",
        "            return self.salary * (bonus_percentage / 100)\n",
        "        return 0\n",
        "\n",
        "    def display_details(self):\n",
        "        return f\"Employee ID: {self.employee_id}, Name: {self.name}, Salary: {self.salary}\"\n",
        "employee = Employee(\"E123\", \"Alice Smith\", 60000)\n",
        "print(employee.display_details())\n",
        "print(employee.calculate_yearly_bonus(10))\n"
      ],
      "metadata": {
        "id": "ghXv8OL9M7_l"
      },
      "execution_count": null,
      "outputs": []
    },
    {
      "cell_type": "markdown",
      "source": [
        "3: Vehicle Rental Create a class representing a vehicle rental system. Implement methods to rent a vehicle, return a vehicle, and display available vehicles."
      ],
      "metadata": {
        "id": "dVkxMOq6NHk5"
      }
    },
    {
      "cell_type": "code",
      "source": [
        "class VehicleRentalSystem:\n",
        "    def __init__(self):\n",
        "        self.available_vehicles = {}\n",
        "\n",
        "    def add_vehicle(self, vehicle_id, vehicle_name):\n",
        "        self.available_vehicles[vehicle_id] = vehicle_name\n",
        "\n",
        "    def rent_vehicle(self, vehicle_id):\n",
        "        if vehicle_id in self.available_vehicles:\n",
        "            vehicle_name = self.available_vehicles.pop(vehicle_id)\n",
        "            return f\"You have rented: {vehicle_name}\"\n",
        "        return \"Vehicle not available.\"\n",
        "\n",
        "    def return_vehicle(self, vehicle_id, vehicle_name):\n",
        "        self.available_vehicles[vehicle_id] = vehicle_name\n",
        "        return f\"Returned: {vehicle_name}\"\n",
        "\n",
        "    def display_available_vehicles(self):\n",
        "        if self.available_vehicles:\n",
        "            return \"Available vehicles: \" + \", \".join(f\"{vid}: {name}\" for vid, name in self.available_vehicles.items())\n",
        "        return \"No vehicles available.\"\n",
        "rental_system = VehicleRentalSystem()\n",
        "rental_system.add_vehicle(\"V001\", \"Toyota Corolla\")\n",
        "rental_system.add_vehicle(\"V002\", \"Honda Civic\")\n",
        "print(rental_system.display_available_vehicles())\n",
        "print(rental_system.rent_vehicle(\"V001\"))\n",
        "print(rental_system.display_available_vehicles())\n",
        "print(rental_system.return_vehicle(\"V001\", \"Toyota Corolla\"))\n",
        "print(rental_system.display_available_vehicles())\n"
      ],
      "metadata": {
        "id": "T5JWoiBRNLsI"
      },
      "execution_count": null,
      "outputs": []
    },
    {
      "cell_type": "markdown",
      "source": [
        "4: Library Catalog Create classes representing a library and a book. Implement methods to add books to the library, borrow books, and display available books.\n"
      ],
      "metadata": {
        "id": "XwpmQQfJN6DK"
      }
    },
    {
      "cell_type": "code",
      "source": [
        "class Book:\n",
        "    def __init__(self, book_id, title, author):\n",
        "        self.book_id = book_id\n",
        "        self.title = title\n",
        "        self.author = author\n",
        "        self.is_borrowed = False\n",
        "\n",
        "    def __str__(self):\n",
        "        return f\"{self.book_id}: {self.title} by {self.author}\"\n",
        "\n",
        "class Library:\n",
        "    def __init__(self):\n",
        "        self.books = {}\n",
        "\n",
        "    def add_book(self, book_id, title, author):\n",
        "        if book_id not in self.books:\n",
        "            self.books[book_id] = Book(book_id, title, author)\n",
        "            return f\"Added book: {title}\"\n",
        "        return \"Book ID already exists.\"\n",
        "\n",
        "    def borrow_book(self, book_id):\n",
        "        if book_id in self.books:\n",
        "            book = self.books[book_id]\n",
        "            if not book.is_borrowed:\n",
        "                book.is_borrowed = True\n",
        "                return f\"Borrowed: {book.title}\"\n",
        "            return \"Book is already borrowed.\"\n",
        "        return \"Book not found.\"\n",
        "\n",
        "    def display_available_books(self):\n",
        "        available_books = [str(book) for book in self.books.values() if not book.is_borrowed]\n",
        "        if available_books:\n",
        "            return \"Available books:\\n\" + \"\\n\".join(available_books)\n",
        "        return \"No books available.\"\n",
        "library = Library()\n",
        "library.add_book(\"B001\", \"1984\", \"George Orwell\")\n",
        "library.add_book(\"B002\", \"To Kill a Mockingbird\", \"Harper Lee\")\n",
        "print(library.display_available_books())\n",
        "print(library.borrow_book(\"B001\"))\n",
        "print(library.display_available_books())\n"
      ],
      "metadata": {
        "id": "eCcs_S4YN9uE"
      },
      "execution_count": null,
      "outputs": []
    },
    {
      "cell_type": "markdown",
      "source": [
        "5: Product Inventory Create classes representing a product and an inventory system. Implement methods to add products to the inventory, update product quantity, and display available products."
      ],
      "metadata": {
        "id": "-4KvZ-LzOKDc"
      }
    },
    {
      "cell_type": "code",
      "source": [
        "class Product:\n",
        "    def __init__(self, product_id, name, price, quantity):\n",
        "        self.product_id = product_id\n",
        "        self.name = name\n",
        "        self.price = price\n",
        "        self.quantity = quantity\n",
        "\n",
        "    def __str__(self):\n",
        "        return f\"{self.product_id}: {self.name} - ${self.price} (Quantity: {self.quantity})\"\n",
        "\n",
        "class Inventory:\n",
        "    def __init__(self):\n",
        "        self.products = {}\n",
        "\n",
        "    def add_product(self, product_id, name, price, quantity):\n",
        "        if product_id in self.products:\n",
        "            return \"Product ID already exists.\"\n",
        "        self.products[product_id] = Product(product_id, name, price, quantity)\n",
        "        return f\"Added product: {name}\"\n",
        "\n",
        "    def update_quantity(self, product_id, quantity):\n",
        "        if product_id in self.products:\n",
        "            self.products[product_id].quantity += quantity\n",
        "            return f\"Updated quantity for {self.products[product_id].name}: {self.products[product_id].quantity}\"\n",
        "        return \"Product not found.\"\n",
        "\n",
        "    def display_products(self):\n",
        "        if self.products:\n",
        "            return \"Available products:\\n\" + \"\\n\".join(str(product) for product in self.products.values())\n",
        "        return \"No products available.\"\n",
        "inventory = Inventory()\n",
        "inventory.add_product(\"P001\", \"Laptop\", 1200, 10)\n",
        "inventory.add_product(\"P002\", \"Smartphone\", 800, 20)\n",
        "print(inventory.display_products())\n",
        "print(inventory.update_quantity(\"P001\", 5))\n",
        "print(inventory.display_products())\n"
      ],
      "metadata": {
        "id": "fXCFxR8IOTuL"
      },
      "execution_count": null,
      "outputs": []
    },
    {
      "cell_type": "markdown",
      "source": [
        "6: Shape Calculation Create a class representing a shape with attributes like length, width, and height. Implement methods to calculate the area and perimeter of the shape."
      ],
      "metadata": {
        "id": "aG-AZHv5Og9m"
      }
    },
    {
      "cell_type": "code",
      "source": [
        "class Shape:\n",
        "    def __init__(self, length, width):\n",
        "        self.length = length\n",
        "        self.width = width\n",
        "\n",
        "    def calculate_area(self):\n",
        "        return self.length * self.width\n",
        "\n",
        "    def calculate_perimeter(self):\n",
        "        return 2 * (self.length + self.width)\n",
        "shape = Shape(10, 5)\n",
        "print(f\"Area: {shape.calculate_area()}\")\n",
        "print(f\"Perimeter: {shape.calculate_perimeter()}\")\n"
      ],
      "metadata": {
        "id": "1Kl727xsOmYO"
      },
      "execution_count": null,
      "outputs": []
    },
    {
      "cell_type": "markdown",
      "source": [
        "7: Student Management Create a class representing a student with attributes like student ID, name, and grades. Implement methods to calculate the average grade and display student details.\n"
      ],
      "metadata": {
        "id": "JUesFza5O7Nh"
      }
    },
    {
      "cell_type": "code",
      "source": [
        "class Student:\n",
        "    def __init__(self, student_id, name, grades):\n",
        "        self.student_id = student_id\n",
        "        self.name = name\n",
        "        self.grades = grades\n",
        "\n",
        "    def calculate_average_grade(self):\n",
        "        if self.grades:\n",
        "            return sum(self.grades) / len(self.grades)\n",
        "        return 0\n",
        "\n",
        "    def display_details(self):\n",
        "        average_grade = self.calculate_average_grade()\n",
        "        return f\"Student ID: {self.student_id}, Name: {self.name}, Average Grade: {average_grade:.2f}\"\n",
        "\n",
        "student = Student(\"S001\", \"John Doe\", [85, 90, 78, 92])\n",
        "print(student.display_details())"
      ],
      "metadata": {
        "id": "5stbtLjWO8rP"
      },
      "execution_count": null,
      "outputs": []
    },
    {
      "cell_type": "markdown",
      "source": [
        "8: Email Management Create a class representing an email with attributes like sender, recipient, and subject. Implement methods to send an email and display email details.\n"
      ],
      "metadata": {
        "id": "crc4G0sFPOKT"
      }
    },
    {
      "cell_type": "code",
      "source": [
        "class Email:\n",
        "    def __init__(self, sender, recipient, subject, body):\n",
        "        self.sender = sender\n",
        "        self.recipient = recipient\n",
        "        self.subject = subject\n",
        "        self.body = body\n",
        "\n",
        "    def send_email(self):\n",
        "        return f\"Email sent from {self.sender} to {self.recipient} with subject: '{self.subject}'\"\n",
        "\n",
        "    def display_email_details(self):\n",
        "        return (\n",
        "            f\"Sender: {self.sender}\\n\"\n",
        "            f\"Recipient: {self.recipient}\\n\"\n",
        "            f\"Subject: {self.subject}\\n\"\n",
        "            f\"Body: {self.body}\"\n",
        "        )\n",
        "email = Email(\"john.doe@example.com\", \"jane.smith@example.com\", \"Meeting Update\", \"The meeting is rescheduled to 3 PM.\")\n",
        "print(email.display_email_details())\n",
        "print(email.send_email())"
      ],
      "metadata": {
        "id": "HZdMJDmBPPNI"
      },
      "execution_count": null,
      "outputs": []
    },
    {
      "cell_type": "markdown",
      "source": [
        "9: Social Media Profile Create a class representing a social media profile with attributes like username and posts. Implement methods to add posts, display posts, and search for posts by keyword.\n"
      ],
      "metadata": {
        "id": "Wu-j_if-Pk5u"
      }
    },
    {
      "cell_type": "code",
      "source": [
        "class SocialMediaProfile:\n",
        "    def __init__(self, username):\n",
        "        self.username = username\n",
        "        self.posts = []\n",
        "\n",
        "    def add_post(self, content):\n",
        "        self.posts.append(content)\n",
        "        return f\"Post added: '{content}'\"\n",
        "\n",
        "    def display_posts(self):\n",
        "        if self.posts:\n",
        "            return \"\\n\".join(f\"{i + 1}. {post}\" for i, post in enumerate(self.posts))\n",
        "        return \"No posts available.\"\n",
        "\n",
        "    def search_posts(self, keyword):\n",
        "        matching_posts = [post for post in self.posts if keyword.lower() in post.lower()]\n",
        "        if matching_posts:\n",
        "            return \"\\n\".join(matching_posts)\n",
        "        return f\"No posts found containing '{keyword}'.\"\n",
        "profile = SocialMediaProfile(\"john_doe\")\n",
        "profile.add_post(\"Loving the sunny weather today!\")\n",
        "profile.add_post(\"Had a great lunch at the new Italian place.\")\n",
        "print(profile.display_posts())\n",
        "print(profile.search_posts(\"lunch\"))\n"
      ],
      "metadata": {
        "colab": {
          "base_uri": "https://localhost:8080/"
        },
        "id": "FcaWsV6ePpyw",
        "outputId": "dca3eb7e-7986-42ee-95e4-7e75b3f60f6a"
      },
      "execution_count": 1,
      "outputs": [
        {
          "output_type": "stream",
          "name": "stdout",
          "text": [
            "1. Loving the sunny weather today!\n",
            "2. Had a great lunch at the new Italian place.\n",
            "Had a great lunch at the new Italian place.\n"
          ]
        }
      ]
    },
    {
      "cell_type": "markdown",
      "source": [
        " 10: ToDo List Create a class representing a ToDo list with attributes like tasks and due dates. Implement methods to add tasks, mark tasks as completed, and display pending tasks."
      ],
      "metadata": {
        "id": "GeZDtxFwP496"
      }
    },
    {
      "cell_type": "code",
      "source": [
        "class Task:\n",
        "    def __init__(self, description, due_date):\n",
        "        self.description = description\n",
        "        self.due_date = due_date\n",
        "        self.completed = False\n",
        "\n",
        "    def mark_completed(self):\n",
        "        self.completed = True\n",
        "\n",
        "    def __str__(self):\n",
        "        status = \"Completed\" if self.completed else \"Pending\"\n",
        "        return f\"{self.description} (Due: {self.due_date}) - {status}\"\n",
        "\n",
        "class ToDoList:\n",
        "    def __init__(self):\n",
        "        self.tasks = []\n",
        "\n",
        "    def add_task(self, description, due_date):\n",
        "        task = Task(description, due_date)\n",
        "        self.tasks.append(task)\n",
        "        return f\"Task added: '{description}' with due date {due_date}\"\n",
        "\n",
        "    def mark_task_completed(self, task_index):\n",
        "        if 0 <= task_index < len(self.tasks):\n",
        "            self.tasks[task_index].mark_completed()\n",
        "            return f\"Task '{self.tasks[task_index].description}' marked as completed.\"\n",
        "        return \"Invalid task index.\"\n",
        "\n",
        "    def display_pending_tasks(self):\n",
        "        pending_tasks = [str(task) for task in self.tasks if not task.completed]\n",
        "        if pending_tasks:\n",
        "            return \"Pending tasks:\\n\" + \"\\n\".join(pending_tasks)\n",
        "        return \"No pending tasks.\"\n",
        "\n",
        "todo_list = ToDoList()\n",
        "todo_list.add_task(\"Finish project report\", \"2025-01-10\")\n",
        "todo_list.add_task(\"Prepare for meeting\", \"2025-01-07\")\n",
        "print(todo_list.display_pending_tasks())\n",
        "todo_list.mark_task_completed(0)\n",
        "print(todo_list.display_pending_tasks())\n"
      ],
      "metadata": {
        "id": "h6VixtoGP6LO"
      },
      "execution_count": null,
      "outputs": []
    }
  ]
}