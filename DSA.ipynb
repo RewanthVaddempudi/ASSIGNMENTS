{
  "nbformat": 4,
  "nbformat_minor": 0,
  "metadata": {
    "colab": {
      "provenance": []
    },
    "kernelspec": {
      "name": "python3",
      "display_name": "Python 3"
    },
    "language_info": {
      "name": "python"
    }
  },
  "cells": [
    {
      "cell_type": "markdown",
      "source": [
        "Problem 1: Reverse a singly linked list.\n",
        "Input: 1 -> 2 -> 3 -> 4 -> 5\n",
        "Output: 5 -> 4 -> 3 -> 2 -> 1"
      ],
      "metadata": {
        "id": "uHSAPlKa-fHk"
      }
    },
    {
      "cell_type": "code",
      "source": [
        "class ListNode:\n",
        "    def __init__(self, val=0, next=None):\n",
        "        self.val = val\n",
        "        self.next = next\n",
        "\n",
        "def reverseList(head):\n",
        "    prev = None\n",
        "    current = head\n",
        "    while current:\n",
        "        next_node = current.next\n",
        "        current.next = prev\n",
        "        prev = current\n",
        "        current = next_node\n",
        "    return prev\n",
        "\n",
        "head = ListNode(1)\n",
        "head.next = ListNode(2)\n",
        "head.next.next = ListNode(3)\n",
        "head.next.next.next = ListNode(4)\n",
        "head.next.next.next.next = ListNode(5)\n",
        "\n",
        "new_head = reverseList(head)\n",
        "1\n",
        "while new_head:\n",
        "    print(new_head.val, end=\" -> \" if new_head.next else \"\\n\")\n",
        "    new_head = new_head.next\n"
      ],
      "metadata": {
        "colab": {
          "base_uri": "https://localhost:8080/"
        },
        "id": "qOebda7n-itJ",
        "outputId": "aa8d6f40-8c66-487c-dcaf-a862fdaf41dd"
      },
      "execution_count": null,
      "outputs": [
        {
          "output_type": "stream",
          "name": "stdout",
          "text": [
            "5 -> 4 -> 3 -> 2 -> 1\n"
          ]
        }
      ]
    },
    {
      "cell_type": "markdown",
      "source": [
        "Problem 2: Merge two sorted linked lists into one sorted linked list.\n",
        "Input: List 1: 1 -> 3 -> 5, List 2: 2 -> 4 -> 6\n",
        "Output: 1 -> 2 -> 3 -> 4 -> 5 -> 6"
      ],
      "metadata": {
        "id": "lRELmDuF-9RA"
      }
    },
    {
      "cell_type": "code",
      "source": [
        "class ListNode:\n",
        "    def __init__(self, val=0, next=None):\n",
        "        self.val = val\n",
        "        self.next = next\n",
        "\n",
        "def mergeTwoLists(l1, l2):\n",
        "    dummy = ListNode()\n",
        "    current = dummy\n",
        "\n",
        "    while l1 and l2:\n",
        "        if l1.val < l2.val:\n",
        "            current.next = l1\n",
        "            l1 = l1.next\n",
        "        else:\n",
        "            current.next = l2\n",
        "            l2 = l2.next\n",
        "        current = current.next\n",
        "\n",
        "    current.next = l1 if l1 else l2\n",
        "    return dummy.next\n",
        "\n",
        "l1 = ListNode(1)\n",
        "l1.next = ListNode(3)\n",
        "l1.next.next = ListNode(5)\n",
        "\n",
        "l2 = ListNode(2)\n",
        "l2.next = ListNode(4)\n",
        "l2.next.next = ListNode(6)\n",
        "\n",
        "merged_head = mergeTwoLists(l1, l2)\n",
        "while merged_head:\n",
        "    print(merged_head.val, end=\" -> \" if merged_head.next else \"\\n\")\n",
        "    merged_head = merged_head.next\n"
      ],
      "metadata": {
        "colab": {
          "base_uri": "https://localhost:8080/"
        },
        "id": "x8h9Dpy2-_pE",
        "outputId": "2f528376-0d7b-481b-ce39-f2e9c1ca4711"
      },
      "execution_count": null,
      "outputs": [
        {
          "output_type": "stream",
          "name": "stdout",
          "text": [
            "1 -> 2 -> 3 -> 4 -> 5 -> 6\n"
          ]
        }
      ]
    },
    {
      "cell_type": "markdown",
      "source": [
        "Problem 3: Remove the nth node from the end of a linked list.\n",
        "Input: 1 -> 2 -> 3 -> 4 -> 5, n = 2\n",
        "Output: 1 -> 2 -> 3 -> 5"
      ],
      "metadata": {
        "id": "wab60ZGD_Zsg"
      }
    },
    {
      "cell_type": "code",
      "source": [
        "class ListNode:\n",
        "    def __init__(self, val=0, next=None):\n",
        "        self.val = val\n",
        "        self.next = next\n",
        "\n",
        "def removeNthFromEnd(head, n):\n",
        "    dummy = ListNode(0)\n",
        "    dummy.next = head\n",
        "    first = second = dummy\n",
        "\n",
        "    for _ in range(n + 1):\n",
        "        first = first.next\n",
        "\n",
        "    while first:\n",
        "        first = first.next\n",
        "        second = second.next\n",
        "\n",
        "    second.next = second.next.next\n",
        "    return dummy.next\n",
        "\n",
        "head = ListNode(1)\n",
        "head.next = ListNode(2)\n",
        "head.next.next = ListNode(3)\n",
        "head.next.next.next = ListNode(4)\n",
        "head.next.next.next.next = ListNode(5)\n",
        "\n",
        "n = 2\n",
        "new_head = removeNthFromEnd(head, n)\n",
        "\n",
        "while new_head:\n",
        "    print(new_head.val, end=\" -> \" if new_head.next else \"\\n\")\n",
        "    new_head = new_head.next\n"
      ],
      "metadata": {
        "colab": {
          "base_uri": "https://localhost:8080/"
        },
        "id": "-BuH3oIn_f_W",
        "outputId": "002dc137-2263-4f72-e6b5-1000ba408188"
      },
      "execution_count": null,
      "outputs": [
        {
          "output_type": "stream",
          "name": "stdout",
          "text": [
            "1 -> 2 -> 3 -> 5\n"
          ]
        }
      ]
    },
    {
      "cell_type": "markdown",
      "source": [
        "Problem 4: Find the intersection point of two linked lists.\n",
        "Input: List 1: 1 -> 2 -> 3 -> 4, List 2: 9 -> 8 -> 3 -> 4\n",
        "Output: Node with value 3"
      ],
      "metadata": {
        "id": "Z8bGotT6_mNh"
      }
    },
    {
      "cell_type": "code",
      "source": [
        "class ListNode:\n",
        "    def __init__(self, val=0, next=None):\n",
        "        self.val = val\n",
        "        self.next = next\n",
        "\n",
        "def getIntersectionNode(headA, headB):\n",
        "    p1, p2 = headA, headB\n",
        "\n",
        "    while p1 != p2:\n",
        "        p1 = p1.next if p1 else headB\n",
        "        p2 = p2.next if p2 else headA\n",
        "\n",
        "    return p1\n",
        "\n",
        "common = ListNode(3, ListNode(4))\n",
        "\n",
        "headA = ListNode(1, ListNode(2, common))\n",
        "headB = ListNode(9, ListNode(8, common))\n",
        "\n",
        "intersection = getIntersectionNode(headA, headB)\n",
        "\n",
        "print(\"Intersection Node:\", intersection.val if intersection else \"No Intersection\")\n"
      ],
      "metadata": {
        "colab": {
          "base_uri": "https://localhost:8080/"
        },
        "id": "iIb3-GSW_xPb",
        "outputId": "1c2d2df0-0468-4eae-ece9-254c320c31f5"
      },
      "execution_count": null,
      "outputs": [
        {
          "output_type": "stream",
          "name": "stdout",
          "text": [
            "Intersection Node: 3\n"
          ]
        }
      ]
    },
    {
      "cell_type": "markdown",
      "source": [
        "Problem 5: Remove duplicates from a sorted linked list.\n",
        "Input: 1 -> 1 -> 2 -> 3 -> 3\n",
        "Output: 1 -> 2 -> 3"
      ],
      "metadata": {
        "id": "O6PzR6Km_737"
      }
    },
    {
      "cell_type": "code",
      "source": [
        "class ListNode:\n",
        "    def __init__(self, val=0, next=None):\n",
        "        self.val = val\n",
        "        self.next = next\n",
        "\n",
        "def removeDuplicates(head):\n",
        "    current = head\n",
        "    while current and current.next:\n",
        "        if current.val == current.next.val:\n",
        "            current.next = current.next.next\n",
        "        else:\n",
        "            current = current.next\n",
        "    return head\n",
        "\n",
        "head = ListNode(1)\n",
        "head.next = ListNode(1)\n",
        "head.next.next = ListNode(2)\n",
        "head.next.next.next = ListNode(3)\n",
        "head.next.next.next.next = ListNode(3)\n",
        "\n",
        "new_head = removeDuplicates(head)\n",
        "\n",
        "while new_head:\n",
        "    print(new_head.val, end=\" -> \" if new_head.next else \"\\n\")\n",
        "    new_head = new_head.next\n"
      ],
      "metadata": {
        "colab": {
          "base_uri": "https://localhost:8080/"
        },
        "id": "Zrxym7Q5AJZk",
        "outputId": "31b6c91a-b8cf-47e5-bdcb-f5777d5c8e7d"
      },
      "execution_count": null,
      "outputs": [
        {
          "output_type": "stream",
          "name": "stdout",
          "text": [
            "1 -> 2 -> 3\n"
          ]
        }
      ]
    },
    {
      "cell_type": "markdown",
      "source": [
        "Problem 6: Add two numbers represented by linked lists (where each node contains a single digit).\n",
        "Input: List 1: 2 -> 4 -> 3, List 2: 5 -> 6 -> 4 (represents 342 + 465)\n",
        "Output: 7 -> 0 -> 8 (represents 807)\n"
      ],
      "metadata": {
        "id": "o3PyrHzJAQdG"
      }
    },
    {
      "cell_type": "code",
      "source": [
        "class ListNode:\n",
        "    def __init__(self, val=0, next=None):\n",
        "        self.val = val\n",
        "        self.next = next\n",
        "\n",
        "def addTwoNumbers(l1, l2):\n",
        "    dummy = ListNode(0)\n",
        "    current = dummy\n",
        "    carry = 0\n",
        "\n",
        "    while l1 or l2 or carry:\n",
        "        val1 = l1.val if l1 else 0\n",
        "        val2 = l2.val if l2 else 0\n",
        "        total = val1 + val2 + carry\n",
        "        carry = total // 10\n",
        "        current.next = ListNode(total % 10)\n",
        "\n",
        "        current = current.next\n",
        "        if l1: l1 = l1.next\n",
        "        if l2: l2 = l2.next\n",
        "\n",
        "    return dummy.next\n",
        "\n",
        "l1 = ListNode(2)\n",
        "l1.next = ListNode(4)\n",
        "l1.next.next = ListNode(3)\n",
        "\n",
        "l2 = ListNode(5)\n",
        "l2.next = ListNode(6)\n",
        "l2.next.next = ListNode(4)\n",
        "\n",
        "result = addTwoNumbers(l1, l2)\n",
        "\n",
        "while result:\n",
        "    print(result.val, end=\" -> \" if result.next else \"\\n\")\n",
        "    result = result.next\n"
      ],
      "metadata": {
        "colab": {
          "base_uri": "https://localhost:8080/"
        },
        "id": "lfKuVMmBAlRD",
        "outputId": "16ceed7f-3992-4bce-915d-dba31a0b8fae"
      },
      "execution_count": null,
      "outputs": [
        {
          "output_type": "stream",
          "name": "stdout",
          "text": [
            "7 -> 0 -> 8\n"
          ]
        }
      ]
    },
    {
      "cell_type": "markdown",
      "source": [
        "Problem 7: Swap nodes in pairs in a linked list.\n",
        "Input: 1 -> 2 -> 3 -> 4\n",
        "Output: 2 -> 1 -> 4 -> 3"
      ],
      "metadata": {
        "id": "JC6ZnTDXAr7D"
      }
    },
    {
      "cell_type": "code",
      "source": [
        "class ListNode:\n",
        "    def __init__(self, val=0, next=None):\n",
        "        self.val = val\n",
        "        self.next = next\n",
        "\n",
        "def swapPairs(head):\n",
        "    dummy = ListNode(0)\n",
        "    dummy.next = head\n",
        "    current = dummy\n",
        "\n",
        "    while current.next and current.next.next:\n",
        "        first = current.next\n",
        "        second = current.next.next\n",
        "\n",
        "        first.next = second.next\n",
        "        current.next = second\n",
        "        second.next = first\n",
        "\n",
        "        current = first\n",
        "\n",
        "    return dummy.next\n",
        "\n",
        "head = ListNode(1)\n",
        "head.next = ListNode(2)\n",
        "head.next.next = ListNode(3)\n",
        "head.next.next.next = ListNode(4)\n",
        "\n",
        "new_head = swapPairs(head)\n",
        "\n",
        "while new_head:\n",
        "    print(new_head.val, end=\" -> \" if new_head.next else \"\\n\")\n",
        "    new_head = new_head.next\n"
      ],
      "metadata": {
        "colab": {
          "base_uri": "https://localhost:8080/"
        },
        "id": "x2fIDYhdAq3b",
        "outputId": "6e6e29ee-126d-4120-92c1-b56ddf1a963f"
      },
      "execution_count": null,
      "outputs": [
        {
          "output_type": "stream",
          "name": "stdout",
          "text": [
            "2 -> 1 -> 4 -> 3\n"
          ]
        }
      ]
    },
    {
      "cell_type": "markdown",
      "source": [
        "Problem 8: Reverse nodes in a linked list in groups of k.\n",
        "Input: 1 -> 2 -> 3 -> 4 -> 5, k = 3\n",
        "Output: 3 -> 2 -> 1 -> 4 -> 5"
      ],
      "metadata": {
        "id": "jR84hXqMBDGv"
      }
    },
    {
      "cell_type": "code",
      "source": [
        "class ListNode:\n",
        "    def __init__(self, val=0, next=None):\n",
        "        self.val = val\n",
        "        self.next = next\n",
        "\n",
        "def reverseKGroup(head, k):\n",
        "    def reverseLinkedList(head, k):\n",
        "        prev = None\n",
        "        current = head\n",
        "        while k > 0:\n",
        "            next_node = current.next\n",
        "            current.next = prev\n",
        "            prev = current\n",
        "            current = next_node\n",
        "            k -= 1\n",
        "        return prev\n",
        "    dummy = ListNode(0)\n",
        "    dummy.next = head\n",
        "    group_prev = dummy\n",
        "\n",
        "    while True:\n",
        "        kth_node = group_prev\n",
        "        for _ in range(k):\n",
        "            kth_node = kth_node.next\n",
        "            if not kth_node:\n",
        "                return dummy.next\n",
        "\n",
        "        group_next = kth_node.next\n",
        "        group_start = group_prev.next\n",
        "        kth_node.next = None\n",
        "        group_prev.next = reverseLinkedList(group_start, k)\n",
        "        group_start.next = group_next\n",
        "        group_prev = group_start\n",
        "\n",
        "    return dummy.next\n",
        "\n",
        "head = ListNode(1)\n",
        "head.next = ListNode(2)\n",
        "head.next.next = ListNode(3)\n",
        "head.next.next.next = ListNode(4)\n",
        "head.next.next.next.next = ListNode(5)\n",
        "\n",
        "k = 3\n",
        "\n",
        "new_head = reverseKGroup(head, k)\n",
        "\n",
        "while new_head:\n",
        "    print(new_head.val, end=\" -> \" if new_head.next else \"\\n\")\n",
        "    new_head = new_head.next\n"
      ],
      "metadata": {
        "colab": {
          "base_uri": "https://localhost:8080/"
        },
        "id": "GFSK0UHqBGmy",
        "outputId": "e5d1b28e-38d0-401d-c910-a6e9789365d0"
      },
      "execution_count": null,
      "outputs": [
        {
          "output_type": "stream",
          "name": "stdout",
          "text": [
            "3 -> 2 -> 1 -> 4 -> 5\n"
          ]
        }
      ]
    },
    {
      "cell_type": "markdown",
      "source": [
        "Problem 9: Determine if a linked list is a palindrome.\n",
        "Input: 1 -> 2 -> 2 -> 1\n",
        "Output: True"
      ],
      "metadata": {
        "id": "jgveX13hBW9j"
      }
    },
    {
      "cell_type": "code",
      "source": [
        "class ListNode:\n",
        "    def __init__(self, val=0, next=None):\n",
        "        self.val = val\n",
        "        self.next = next\n",
        "\n",
        "def isPalindrome(head):\n",
        "    slow = fast = head\n",
        "    while fast and fast.next:\n",
        "        slow = slow.next\n",
        "        fast = fast.next.next\n",
        "\n",
        "    prev = None\n",
        "    while slow:\n",
        "        next_node = slow.next\n",
        "        slow.next = prev\n",
        "        prev = slow\n",
        "        slow = next_node\n",
        "\n",
        "    left, right = head, prev\n",
        "    while right:\n",
        "        if left.val != right.val:\n",
        "            return False\n",
        "        left = left.next\n",
        "        right = right.next\n",
        "\n",
        "    return True\n",
        "\n",
        "head = ListNode(1)\n",
        "head.next = ListNode(2)\n",
        "head.next.next = ListNode(2)\n",
        "head.next.next.next = ListNode(1)\n",
        "\n",
        "result = isPalindrome(head)\n",
        "\n",
        "print(result)\n"
      ],
      "metadata": {
        "colab": {
          "base_uri": "https://localhost:8080/"
        },
        "id": "pOzIpD3zBVs0",
        "outputId": "1aed3962-e865-474d-e3bb-d875062e8875"
      },
      "execution_count": null,
      "outputs": [
        {
          "output_type": "stream",
          "name": "stdout",
          "text": [
            "True\n"
          ]
        }
      ]
    },
    {
      "cell_type": "markdown",
      "source": [
        "Problem 10: Rotate a linked list to the right by k places.\n",
        "Input: 1 -> 2 -> 3 -> 4 -> 5, k = 2\n",
        "Output: 4 -> 5 -> 1 -> 2 -> 3"
      ],
      "metadata": {
        "id": "UdZh9J_CBoFu"
      }
    },
    {
      "cell_type": "code",
      "source": [
        "class ListNode:\n",
        "    def __init__(self, val=0, next=None):\n",
        "        self.val = val\n",
        "        self.next = next\n",
        "\n",
        "def rotateRight(head, k):\n",
        "    if not head or not head.next or k == 0:\n",
        "        return head\n",
        "\n",
        "    length = 1\n",
        "    tail = head\n",
        "    while tail.next:\n",
        "        tail = tail.next\n",
        "        length += 1\n",
        "\n",
        "    tail.next = head\n",
        "\n",
        "    k = k % length\n",
        "    steps_to_new_head = length - k\n",
        "    new_tail = head\n",
        "    for _ in range(steps_to_new_head - 1):\n",
        "        new_tail = new_tail.next\n",
        "\n",
        "    new_head = new_tail.next\n",
        "    new_tail.next = None\n",
        "\n",
        "    return new_head\n",
        "\n",
        "head = ListNode(1)\n",
        "head.next = ListNode(2)\n",
        "head.next.next = ListNode(3)\n",
        "head.next.next.next = ListNode(4)\n",
        "head.next.next.next.next = ListNode(5)\n",
        "\n",
        "k = 2\n",
        "\n",
        "new_head = rotateRight(head, k)\n",
        "while new_head:\n",
        "    print(new_head.val, end=\" -> \" if new_head.next else \"\\n\")\n",
        "    new_head = new_head.next\n"
      ],
      "metadata": {
        "colab": {
          "base_uri": "https://localhost:8080/"
        },
        "id": "v70DJR1LBnIq",
        "outputId": "ecb0ec92-ea81-49e5-ec95-f26304aa7773"
      },
      "execution_count": null,
      "outputs": [
        {
          "output_type": "stream",
          "name": "stdout",
          "text": [
            "4 -> 5 -> 1 -> 2 -> 3\n"
          ]
        }
      ]
    },
    {
      "cell_type": "markdown",
      "source": [
        "Problem 11: Flatten a multilevel doubly linked list.\n",
        "Input: 1 <-> 2 <-> 3 <-> 7 <-> 8 <-> 11 -> 12, 4 <-> 5 -> 9 -> 10, 6 -> 13\n",
        "Output: 1 <-> 2 <-> 3 <-> 4 <-> 5 <-> 6 <-> 7 <-> 8 <-> 9 <-> 10 <-> 11 <-> 12 <-> 13"
      ],
      "metadata": {
        "id": "MHnVse3ZCWIb"
      }
    },
    {
      "cell_type": "code",
      "source": [
        "class Node:\n",
        "    def __init__(self, val=0, prev=None, next=None, child=None):\n",
        "        self.val = val\n",
        "        self.prev = prev\n",
        "        self.next = next\n",
        "        self.child = child\n",
        "\n",
        "def flatten(head):\n",
        "    if not head:\n",
        "        return head\n",
        "\n",
        "    current = head\n",
        "    while current:\n",
        "        if current.child:\n",
        "            child = current.child\n",
        "            while child.next:\n",
        "                child = child.next\n",
        "\n",
        "            child.next = current.next\n",
        "            if current.next:\n",
        "                current.next.prev = child\n",
        "            current.next = current.child\n",
        "            if current.child:\n",
        "                current.child.prev = current\n",
        "            current.child = None\n",
        "\n",
        "        current = current.next\n",
        "\n",
        "    return head\n",
        "\n",
        "head = Node(1)\n",
        "head.next = Node(2, prev=head)\n",
        "head.next.next = Node(3, prev=head.next)\n",
        "head.next.next.next = Node(7, prev=head.next.next)\n",
        "head.next.next.next.next = Node(8, prev=head.next.next.next)\n",
        "head.next.next.next.next.next = Node(11, prev=head.next.next.next.next)\n",
        "head.next.next.next.next.next.next = Node(12, prev=head.next.next.next.next.next)\n",
        "\n",
        "head.next.child = Node(4)\n",
        "head.next.child.next = Node(5, prev=head.next.child)\n",
        "head.next.child.next.next = Node(9, prev=head.next.child.next)\n",
        "head.next.child.next.next.next = Node(10, prev=head.next.child.next.next)\n",
        "\n",
        "head.next.next.next.child = Node(6)\n",
        "head.next.next.next.child.next = Node(13, prev=head.next.next.next.child)\n",
        "flattened_head = flatten(head)\n",
        "\n",
        "current = flattened_head\n",
        "while current:\n",
        "    print(current.val, end=\" <-> \" if current.next else \"\\n\")\n",
        "    current = current.next\n"
      ],
      "metadata": {
        "colab": {
          "base_uri": "https://localhost:8080/"
        },
        "id": "oFNouy2ECTuh",
        "outputId": "0074e34d-93d1-4590-92b3-126b33bfbc4c"
      },
      "execution_count": null,
      "outputs": [
        {
          "output_type": "stream",
          "name": "stdout",
          "text": [
            "1 <-> 2 <-> 4 <-> 5 <-> 9 <-> 10 <-> 3 <-> 7 <-> 6 <-> 13 <-> 8 <-> 11 <-> 12\n"
          ]
        }
      ]
    },
    {
      "cell_type": "markdown",
      "source": [
        "Problem 12: Rearrange a linked list such that all even positioned nodes are placed at the end.\n",
        "Input: 1 -> 2 -> 3 -> 4 -> 5\n",
        "Output: 1 -> 3 -> 5 -> 2 -> 4"
      ],
      "metadata": {
        "id": "GBtTTN8-C8eq"
      }
    },
    {
      "cell_type": "code",
      "source": [
        "class ListNode:\n",
        "    def __init__(self, val=0, next=None):\n",
        "        self.val = val\n",
        "        self.next = next\n",
        "\n",
        "def rearrangeList(head):\n",
        "    if not head or not head.next:\n",
        "        return head\n",
        "\n",
        "    odd_head = odd_tail = head\n",
        "    even_head = even_tail = head.next\n",
        "    current = head.next.next\n",
        "    is_odd = True\n",
        "\n",
        "    while current:\n",
        "        if is_odd:\n",
        "            odd_tail.next = current\n",
        "            odd_tail = odd_tail.next\n",
        "        else:\n",
        "            even_tail.next = current\n",
        "            even_tail = even_tail.next\n",
        "        current = current.next\n",
        "        is_odd = not is_odd\n",
        "    even_tail.next = None\n",
        "    odd_tail.next = even_head\n",
        "\n",
        "    return odd_head\n",
        "head = ListNode(1)\n",
        "head.next = ListNode(2)\n",
        "head.next.next = ListNode(3)\n",
        "head.next.next.next = ListNode(4)\n",
        "head.next.next.next.next = ListNode(5)\n",
        "new_head = rearrangeList(head)\n",
        "while new_head:\n",
        "    print(new_head.val, end=\" -> \" if new_head.next else \"\\n\")\n",
        "    new_head = new_head.next\n"
      ],
      "metadata": {
        "colab": {
          "base_uri": "https://localhost:8080/"
        },
        "id": "ul0oFY6GCtAz",
        "outputId": "14824d83-d2db-4b2a-f86a-b2384d0d8c6c"
      },
      "execution_count": null,
      "outputs": [
        {
          "output_type": "stream",
          "name": "stdout",
          "text": [
            "1 -> 3 -> 5 -> 2 -> 4\n"
          ]
        }
      ]
    },
    {
      "cell_type": "markdown",
      "source": [
        "Problem 13: Given a non-negative number represented as a linked list, add one to it.\n",
        "Input: 1 -> 2 -> 3 (represents the number 123)\n",
        "Output: 1 -> 2 -> 4 (represents the number 124)"
      ],
      "metadata": {
        "id": "bF0-AsMaDiwK"
      }
    },
    {
      "cell_type": "code",
      "source": [
        "class ListNode:\n",
        "    def __init__(self, val=0, next=None):\n",
        "        self.val = val\n",
        "        self.next = next\n",
        "\n",
        "def addOne(head):\n",
        "    def reverseList(node):\n",
        "        prev = None\n",
        "        current = node\n",
        "        while current:\n",
        "            next_node = current.next\n",
        "            current.next = prev\n",
        "            prev = current\n",
        "            current = next_node\n",
        "        return prev\n",
        "\n",
        "    head = reverseList(head)\n",
        "\n",
        "    current = head\n",
        "    carry = 1\n",
        "    while current and carry:\n",
        "        total = current.val + carry\n",
        "        current.val = total % 10\n",
        "        carry = total // 10\n",
        "        if current.next is None and carry:\n",
        "            current.next = ListNode(0)\n",
        "        current = current.next\n",
        "\n",
        "    head = reverseList(head)\n",
        "    return head\n",
        "\n",
        "head = ListNode(1)\n",
        "head.next = ListNode(2)\n",
        "head.next.next = ListNode(3)\n",
        "\n",
        "new_head = addOne(head)\n",
        "\n",
        "while new_head:\n",
        "    print(new_head.val, end=\" -> \" if new_head.next else \"\\n\")\n",
        "    new_head = new_head.next\n"
      ],
      "metadata": {
        "colab": {
          "base_uri": "https://localhost:8080/"
        },
        "id": "x2Ta1uSHDhhp",
        "outputId": "a1f55863-c843-4dea-e607-e0e662d98fa5"
      },
      "execution_count": null,
      "outputs": [
        {
          "output_type": "stream",
          "name": "stdout",
          "text": [
            "1 -> 2 -> 4\n"
          ]
        }
      ]
    },
    {
      "cell_type": "markdown",
      "source": [
        "Problem 14: Given a sorted array and a target value, return the index if the target is found. If not, return the\n",
        "index where it would be inserted.\n",
        "Input: nums = [1, 3, 5, 6], target = 5\n",
        "Output: 2"
      ],
      "metadata": {
        "id": "oHpHFFXUD5Ia"
      }
    },
    {
      "cell_type": "code",
      "source": [
        "def searchInsert(nums, target):\n",
        "    left, right = 0, len(nums) - 1\n",
        "\n",
        "    while left <= right:\n",
        "        mid = (left + right) // 2\n",
        "        if nums[mid] == target:\n",
        "            return mid\n",
        "        elif nums[mid] < target:\n",
        "            left = mid + 1\n",
        "        else:\n",
        "            right = mid - 1\n",
        "\n",
        "    return left\n",
        "nums = [1, 3, 5, 6]\n",
        "target = 5\n",
        "index = searchInsert(nums, target)\n",
        "\n",
        "print(index)"
      ],
      "metadata": {
        "colab": {
          "base_uri": "https://localhost:8080/"
        },
        "id": "DYspSSvbD3TC",
        "outputId": "b30af91f-f32a-4d1b-d604-0da75810412a"
      },
      "execution_count": null,
      "outputs": [
        {
          "output_type": "stream",
          "name": "stdout",
          "text": [
            "2\n"
          ]
        }
      ]
    },
    {
      "cell_type": "markdown",
      "source": [
        "Problem 15: Find the minimum element in a rotated sorted array.\n",
        "Input: [4, 5, 6, 7, 0, 1, 2]\n",
        "Output: 0"
      ],
      "metadata": {
        "id": "wE2rbPwIEOlv"
      }
    },
    {
      "cell_type": "code",
      "source": [
        "def findMin(nums):\n",
        "    left, right = 0, len(nums) - 1\n",
        "\n",
        "    while left < right:\n",
        "        mid = (left + right) // 2\n",
        "        if nums[mid] > nums[right]:\n",
        "            left = mid + 1\n",
        "        else:\n",
        "            right = mid\n",
        "\n",
        "    return nums[left]\n",
        "\n",
        "nums = [4, 5, 6, 7, 0, 1, 2]\n",
        "print(findMin(nums))\n"
      ],
      "metadata": {
        "colab": {
          "base_uri": "https://localhost:8080/"
        },
        "id": "EMW0FPmFENIS",
        "outputId": "ef9d4b61-fdc7-4325-a28c-99b3687f8de2"
      },
      "execution_count": null,
      "outputs": [
        {
          "output_type": "stream",
          "name": "stdout",
          "text": [
            "0\n"
          ]
        }
      ]
    },
    {
      "cell_type": "markdown",
      "source": [
        "Problem 16: Search for a target value in a rotated sorted array.\n",
        "Input: nums = [4, 5, 6, 7, 0, 1, 2], target = 0\n",
        "Output: 4"
      ],
      "metadata": {
        "id": "MLpP0vaIEcYl"
      }
    },
    {
      "cell_type": "code",
      "source": [
        "def search(nums, target):\n",
        "    left, right = 0, len(nums) - 1\n",
        "\n",
        "    while left <= right:\n",
        "        mid = (left + right) // 2\n",
        "        if nums[mid] == target:\n",
        "            return mid\n",
        "\n",
        "        if nums[left] <= nums[mid]:\n",
        "            if nums[left] <= target < nums[mid]:\n",
        "                right = mid - 1\n",
        "            else:\n",
        "                left = mid + 1\n",
        "        else:\n",
        "            if nums[mid] < target <= nums[right]:\n",
        "                left = mid + 1\n",
        "            else:\n",
        "                right = mid - 1\n",
        "\n",
        "    return -1\n",
        "\n",
        "nums = [4, 5, 6, 7, 0, 1, 2]\n",
        "target = 0\n",
        "\n",
        "print(search(nums, target))\n"
      ],
      "metadata": {
        "colab": {
          "base_uri": "https://localhost:8080/"
        },
        "id": "MXrwr3HMEa86",
        "outputId": "a551ae9e-3e2e-4365-de7a-6acf60cd5811"
      },
      "execution_count": null,
      "outputs": [
        {
          "output_type": "stream",
          "name": "stdout",
          "text": [
            "4\n"
          ]
        }
      ]
    },
    {
      "cell_type": "markdown",
      "source": [
        "Problem 17: Find the peak element in an array. A peak element is greater than its neighbors.\n",
        "Input: nums = [1, 2, 3, 1]\n",
        "Output: 2 (index of peak element)"
      ],
      "metadata": {
        "id": "5eWTDKHqEpqG"
      }
    },
    {
      "cell_type": "code",
      "source": [
        "def findPeakElement(nums):\n",
        "    left, right = 0, len(nums) - 1\n",
        "\n",
        "    while left < right:\n",
        "        mid = (left + right) // 2\n",
        "        if nums[mid] > nums[mid + 1]:\n",
        "            right = mid\n",
        "        else:\n",
        "            left = mid + 1\n",
        "\n",
        "    return left\n",
        "\n",
        "nums = [1, 2, 3, 1]\n",
        "\n",
        "print(findPeakElement(nums))\n"
      ],
      "metadata": {
        "colab": {
          "base_uri": "https://localhost:8080/"
        },
        "id": "Dz5tLoxNEosy",
        "outputId": "1ae2db2f-be58-4782-e994-d0d7da44d7c7"
      },
      "execution_count": null,
      "outputs": [
        {
          "output_type": "stream",
          "name": "stdout",
          "text": [
            "2\n"
          ]
        }
      ]
    },
    {
      "cell_type": "markdown",
      "source": [
        "Problem 18: Given a m x n matrix where each row and column is sorted in ascending order, count the number\n",
        "of negative numbers.\n",
        "Input: grid = [[4, 3, 2, -1], [3, 2, 1, -1], [1, 1, -1, -2], [-1, -1, -2, -3]]\n",
        "Output: 8"
      ],
      "metadata": {
        "id": "bTDd2QFTE0HA"
      }
    },
    {
      "cell_type": "code",
      "source": [
        "def countNegatives(grid):\n",
        "    m, n = len(grid), len(grid[0])\n",
        "    count = 0\n",
        "    row, col = m - 1, 0\n",
        "\n",
        "    while row >= 0 and col < n:\n",
        "        if grid[row][col] < 0:\n",
        "            count += n - col\n",
        "            row -= 1\n",
        "        else:\n",
        "            col += 1\n",
        "\n",
        "    return count\n",
        "\n",
        "grid = [[4, 3, 2, -1], [3, 2, 1, -1], [1, 1, -1, -2], [-1, -1, -2, -3]]\n",
        "\n",
        "print(countNegatives(grid))\n"
      ],
      "metadata": {
        "colab": {
          "base_uri": "https://localhost:8080/"
        },
        "id": "2CGEBEFrEzZK",
        "outputId": "5893a235-3647-4dec-9d98-3ba445bfc744"
      },
      "execution_count": null,
      "outputs": [
        {
          "output_type": "stream",
          "name": "stdout",
          "text": [
            "8\n"
          ]
        }
      ]
    },
    {
      "cell_type": "markdown",
      "source": [
        "Problem 19: Given a 2D matrix sorted in ascending order in each row, and the first integer of each row is\n",
        "greater than the last integer of the previous row, determine if a target value is present in the matrix.\n",
        "Input: matrix = [[1, 3, 5, 7], [10, 11, 16, 20], [23, 30, 34, 60]], target = 3\n",
        "Output: True"
      ],
      "metadata": {
        "id": "YHQzSD7xE9Hs"
      }
    },
    {
      "cell_type": "code",
      "source": [
        "def searchMatrix(matrix, target):\n",
        "    if not matrix:\n",
        "        return False\n",
        "\n",
        "    m, n = len(matrix), len(matrix[0])\n",
        "    left, right = 0, m * n - 1\n",
        "\n",
        "    while left <= right:\n",
        "        mid = (left + right) // 2\n",
        "        mid_value = matrix[mid // n][mid % n]\n",
        "\n",
        "        if mid_value == target:\n",
        "            return True\n",
        "        elif mid_value < target:\n",
        "            left = mid + 1\n",
        "        else:\n",
        "            right = mid - 1\n",
        "\n",
        "    return False\n",
        "\n",
        "matrix = [[1, 3, 5, 7], [10, 11, 16, 20], [23, 30, 34, 60]]\n",
        "target = 3\n",
        "\n",
        "print(searchMatrix(matrix, target))\n"
      ],
      "metadata": {
        "colab": {
          "base_uri": "https://localhost:8080/"
        },
        "id": "CHsF8yBwE8OI",
        "outputId": "47e02966-e283-452a-904b-193cbf35e508"
      },
      "execution_count": null,
      "outputs": [
        {
          "output_type": "stream",
          "name": "stdout",
          "text": [
            "True\n"
          ]
        }
      ]
    },
    {
      "cell_type": "markdown",
      "source": [
        "Problem 20: Find Median in Two Sorted Arrays\n",
        "Problem: Given two sorted arrays, find the median of the combined sorted array.\n",
        "Input: nums1 = [1, 3], nums2 = [2]\n",
        "Output: 2.0"
      ],
      "metadata": {
        "id": "FKpSrX_6FH2X"
      }
    },
    {
      "cell_type": "code",
      "source": [
        "def findMedianSortedArrays(nums1, nums2):\n",
        "    nums = nums1 + nums2\n",
        "    nums.sort()\n",
        "    n = len(nums)\n",
        "\n",
        "    if n % 2 == 1:\n",
        "        return float(nums[n // 2])\n",
        "    else:\n",
        "        return (nums[(n // 2) - 1] + nums[n // 2]) / 2\n",
        "\n",
        "nums1 = [1, 3]\n",
        "nums2 = [2]\n",
        "\n",
        "print(findMedianSortedArrays(nums1, nums2))\n"
      ],
      "metadata": {
        "colab": {
          "base_uri": "https://localhost:8080/"
        },
        "id": "7POwV0uYFG2O",
        "outputId": "71689e29-36fd-46f7-caa6-12a5833b3085"
      },
      "execution_count": null,
      "outputs": [
        {
          "output_type": "stream",
          "name": "stdout",
          "text": [
            "2.0\n"
          ]
        }
      ]
    },
    {
      "cell_type": "markdown",
      "source": [
        "Problem 21: Given a sorted character array and a target letter, find the smallest letter in the array that is\n",
        "greater than the target.\n",
        "Input: letters = ['c', 'f', 'j'], target = a\n",
        "Output: 'c'"
      ],
      "metadata": {
        "id": "3pc-fhq5FViW"
      }
    },
    {
      "cell_type": "code",
      "source": [
        "def nextGreatestLetter(letters, target):\n",
        "    left, right = 0, len(letters) - 1\n",
        "\n",
        "    while left <= right:\n",
        "        mid = (left + right) // 2\n",
        "        if letters[mid] <= target:\n",
        "            left = mid + 1\n",
        "        else:\n",
        "            right = mid - 1\n",
        "\n",
        "    return letters[left % len(letters)]\n",
        "\n",
        "letters = ['c', 'f', 'j']\n",
        "target = 'a'\n",
        "\n",
        "print(nextGreatestLetter(letters, target))\n"
      ],
      "metadata": {
        "colab": {
          "base_uri": "https://localhost:8080/"
        },
        "id": "LZBXjma2FR8n",
        "outputId": "906946bd-494c-4df6-a8d3-7321c02b6c9e"
      },
      "execution_count": null,
      "outputs": [
        {
          "output_type": "stream",
          "name": "stdout",
          "text": [
            "c\n"
          ]
        }
      ]
    },
    {
      "cell_type": "markdown",
      "source": [
        "Problem 22: Given an array with n objects colored red, white, or blue, sort them in-place so that objects of\n",
        "the same color are adjacent, with the colors in the order red, white, and blue.\n",
        "Input: nums = [2, 0, 2, 1, 1, 0]\n",
        "Output: [0, 0, 1, 1, 2, 2]"
      ],
      "metadata": {
        "id": "vUQn4LRSFisg"
      }
    },
    {
      "cell_type": "code",
      "source": [
        "def sortColors(nums):\n",
        "    low, mid, high = 0, 0, len(nums) - 1\n",
        "\n",
        "    while mid <= high:\n",
        "        if nums[mid] == 0:\n",
        "            nums[low], nums[mid] = nums[mid], nums[low]\n",
        "            low += 1\n",
        "            mid += 1\n",
        "        elif nums[mid] == 1:\n",
        "            mid += 1\n",
        "        else:\n",
        "            nums[mid], nums[high] = nums[high], nums[mid]\n",
        "            high -= 1\n",
        "\n",
        "nums = [2, 0, 2, 1, 1, 0]\n",
        "\n",
        "sortColors(nums)\n",
        "\n",
        "print(nums)\n"
      ],
      "metadata": {
        "colab": {
          "base_uri": "https://localhost:8080/"
        },
        "id": "BclA8YeTFhol",
        "outputId": "0d1f84b8-6a28-4577-e58a-53f4408c48a9"
      },
      "execution_count": null,
      "outputs": [
        {
          "output_type": "stream",
          "name": "stdout",
          "text": [
            "[0, 0, 1, 1, 2, 2]\n"
          ]
        }
      ]
    },
    {
      "cell_type": "markdown",
      "source": [
        "Problem 23: Find the kth largest element in an unsorted array.\n",
        "Input: nums = [3, 2, 1, 5, 6, 4], k = 2\n",
        "Output: 5"
      ],
      "metadata": {
        "id": "FtNazBlXFwqO"
      }
    },
    {
      "cell_type": "code",
      "source": [
        "import heapq\n",
        "\n",
        "def findKthLargest(nums, k):\n",
        "    return heapq.nlargest(k, nums)[-1]\n",
        "\n",
        "nums = [3, 2, 1, 5, 6, 4]\n",
        "k = 2\n",
        "\n",
        "print(findKthLargest(nums, k))\n"
      ],
      "metadata": {
        "colab": {
          "base_uri": "https://localhost:8080/"
        },
        "id": "pkVsBEwDFtYW",
        "outputId": "d3a4118e-883c-4018-a52f-ed356decbe14"
      },
      "execution_count": null,
      "outputs": [
        {
          "output_type": "stream",
          "name": "stdout",
          "text": [
            "5\n"
          ]
        }
      ]
    },
    {
      "cell_type": "markdown",
      "source": [
        "Problem 24: Given an unsorted array, reorder it in-place such that nums[0] <= nums[1] >= nums[2] <=\n",
        "nums[3]...\n",
        "Input: nums = [3, 5, 2, 1, 6, 4]\n",
        "Output: [3, 5, 1, 6, 2, 4]"
      ],
      "metadata": {
        "id": "lAPvouNBF58F"
      }
    },
    {
      "cell_type": "code",
      "source": [
        "def wiggleSort(nums):\n",
        "    for i in range(1, len(nums), 2):\n",
        "        if i > 0 and nums[i] < nums[i - 1]:\n",
        "            nums[i], nums[i - 1] = nums[i - 1], nums[i]\n",
        "        if i < len(nums) - 1 and nums[i] < nums[i + 1]:\n",
        "            nums[i], nums[i + 1] = nums[i + 1], nums[i]\n",
        "\n",
        "nums = [3, 5, 2, 1, 6, 4]\n",
        "\n",
        "wiggleSort(nums)\n",
        "\n",
        "print(nums)\n"
      ],
      "metadata": {
        "colab": {
          "base_uri": "https://localhost:8080/"
        },
        "id": "LYRB5TcTF4tQ",
        "outputId": "5f8dcb5a-05a9-445a-dc4d-7f0834b1e1f6"
      },
      "execution_count": null,
      "outputs": [
        {
          "output_type": "stream",
          "name": "stdout",
          "text": [
            "[3, 5, 1, 6, 2, 4]\n"
          ]
        }
      ]
    },
    {
      "cell_type": "markdown",
      "source": [
        "Problem 25: Given an array of integers, calculate the sum of all its elements.\n",
        "Input: [1, 2, 3, 4, 5]\n",
        "Output: 15"
      ],
      "metadata": {
        "id": "UGb8YPt0GNZC"
      }
    },
    {
      "cell_type": "code",
      "source": [
        "def arraySum(nums):\n",
        "    return sum(nums)\n",
        "\n",
        "nums = [1, 2, 3, 4, 5]\n",
        "\n",
        "print(arraySum(nums))\n"
      ],
      "metadata": {
        "colab": {
          "base_uri": "https://localhost:8080/"
        },
        "id": "NMgjOTDnGDrT",
        "outputId": "3ab913ef-3950-4ed9-93dd-5f62c486c28a"
      },
      "execution_count": null,
      "outputs": [
        {
          "output_type": "stream",
          "name": "stdout",
          "text": [
            "15\n"
          ]
        }
      ]
    },
    {
      "cell_type": "markdown",
      "source": [
        "Problem 26: Find the maximum element in an array of integers.\n",
        "Input: [3, 7, 2, 9, 4, 1]\n",
        "Output: 9"
      ],
      "metadata": {
        "id": "3EiVHB7KG9Ap"
      }
    },
    {
      "cell_type": "code",
      "source": [
        "def findMax(nums):\n",
        "    return max(nums)\n",
        "\n",
        "nums = [3, 7, 2, 9, 4, 1]\n",
        "\n",
        "print(findMax(nums))\n"
      ],
      "metadata": {
        "colab": {
          "base_uri": "https://localhost:8080/"
        },
        "id": "D4HgGpT4Gzx8",
        "outputId": "35f7a589-0fa4-4c63-c9ff-bd8fe5bd1a5a"
      },
      "execution_count": null,
      "outputs": [
        {
          "output_type": "stream",
          "name": "stdout",
          "text": [
            "9\n"
          ]
        }
      ]
    },
    {
      "cell_type": "markdown",
      "source": [
        "Problem 27: Implement linear search to find the index of a target element in an array.\n",
        "Input: [5, 3, 8, 2, 7, 4], target = 8\n",
        "Output: 2"
      ],
      "metadata": {
        "id": "LLI0CLYXHD8s"
      }
    },
    {
      "cell_type": "code",
      "source": [
        "def linearSearch(nums, target):\n",
        "    for i in range(len(nums)):\n",
        "        if nums[i] == target:\n",
        "            return i\n",
        "    return -1\n",
        "\n",
        "nums = [5, 3, 8, 2, 7, 4]\n",
        "target = 8\n",
        "\n",
        "print(linearSearch(nums, target))\n"
      ],
      "metadata": {
        "colab": {
          "base_uri": "https://localhost:8080/"
        },
        "id": "2QcUbw8XHDFB",
        "outputId": "5741c9f4-dcb3-488b-e7cf-6f25e784f9d6"
      },
      "execution_count": null,
      "outputs": [
        {
          "output_type": "stream",
          "name": "stdout",
          "text": [
            "2\n"
          ]
        }
      ]
    },
    {
      "cell_type": "markdown",
      "source": [
        "Problem 28 Calculate the factorial of a given number.\n",
        "Input: 5\n",
        "Output: 120 (as 5! = 5 * 4 * 3 * 2 * 1 = 120)"
      ],
      "metadata": {
        "id": "9qzsCBOnHOy0"
      }
    },
    {
      "cell_type": "code",
      "source": [
        "def factorial(n):\n",
        "    if n == 0 or n == 1:\n",
        "        return 1\n",
        "    return n * factorial(n - 1)\n",
        "\n",
        "n = 5\n",
        "\n",
        "print(factorial(n))"
      ],
      "metadata": {
        "colab": {
          "base_uri": "https://localhost:8080/"
        },
        "id": "Dosh90Y2HN7e",
        "outputId": "0d56cbaa-af39-484c-8ae8-27f6f25b2181"
      },
      "execution_count": null,
      "outputs": [
        {
          "output_type": "stream",
          "name": "stdout",
          "text": [
            "120\n"
          ]
        }
      ]
    },
    {
      "cell_type": "markdown",
      "source": [
        "Problem 29: Check if a given number is a prime number.\n",
        "Input: 7\n",
        "Output: True"
      ],
      "metadata": {
        "id": "mupyeT2CHrdI"
      }
    },
    {
      "cell_type": "code",
      "source": [
        "def isPrime(n):\n",
        "    if n <= 1:\n",
        "        return False\n",
        "    for i in range(2, int(n ** 0.5) + 1):\n",
        "        if n % i == 0:\n",
        "            return False\n",
        "    return True\n",
        "\n",
        "n = 7\n",
        "\n",
        "print(isPrime(n))\n"
      ],
      "metadata": {
        "colab": {
          "base_uri": "https://localhost:8080/"
        },
        "id": "-ryViv_RHqOS",
        "outputId": "d0287a4f-0944-410a-e54d-6163c145195a"
      },
      "execution_count": null,
      "outputs": [
        {
          "output_type": "stream",
          "name": "stdout",
          "text": [
            "True\n"
          ]
        }
      ]
    },
    {
      "cell_type": "markdown",
      "source": [
        "Problem 30: Generate the Fibonacci series up to a given number n.\n",
        "Input: 8\n",
        "Output: [0, 1, 1, 2, 3, 5, 8, 13]"
      ],
      "metadata": {
        "id": "xe4F5e6nH2CE"
      }
    },
    {
      "cell_type": "code",
      "source": [
        "def fibonacci(n):\n",
        "    fib_series = [0, 1]\n",
        "    while len(fib_series) < n:\n",
        "        fib_series.append(fib_series[-1] + fib_series[-2])\n",
        "    return fib_series[:n]\n",
        "\n",
        "n = 8\n",
        "\n",
        "print(fibonacci(n))\n"
      ],
      "metadata": {
        "colab": {
          "base_uri": "https://localhost:8080/"
        },
        "id": "sPNoym_dH1Fk",
        "outputId": "d9551f81-6823-42ec-887b-6eb872444069"
      },
      "execution_count": null,
      "outputs": [
        {
          "output_type": "stream",
          "name": "stdout",
          "text": [
            "[0, 1, 1, 2, 3, 5, 8, 13]\n"
          ]
        }
      ]
    },
    {
      "cell_type": "markdown",
      "source": [
        "Problem 31: Calculate the power of a number using recursion.\n",
        "Input: base = 3, exponent = 4\n",
        "Output: 81 (as 3^4 = 3 * 3 * 3 * 3 = 81)"
      ],
      "metadata": {
        "id": "bz3w4P2SIApY"
      }
    },
    {
      "cell_type": "code",
      "source": [
        "def power(base, exponent):\n",
        "    if exponent == 0:\n",
        "        return 1\n",
        "    return base * power(base, exponent - 1)\n",
        "\n",
        "base = 3\n",
        "exponent = 4\n",
        "\n",
        "print(power(base, exponent))\n"
      ],
      "metadata": {
        "colab": {
          "base_uri": "https://localhost:8080/"
        },
        "id": "vhuYIlU8H90y",
        "outputId": "88be73ca-5066-495b-ba43-1a89b9ee54c1"
      },
      "execution_count": null,
      "outputs": [
        {
          "output_type": "stream",
          "name": "stdout",
          "text": [
            "81\n"
          ]
        }
      ]
    },
    {
      "cell_type": "markdown",
      "source": [
        "Problem 32: Reverse a given string.\n",
        "Input: \"hello\"\n",
        "Output: \"olleh\""
      ],
      "metadata": {
        "id": "j-_5iQvlIKSR"
      }
    },
    {
      "cell_type": "code",
      "source": [
        "def reverseString(s):\n",
        "    return s[::-1]\n",
        "\n",
        "s = \"hello\"\n",
        "\n",
        "print(reverseString(s))\n",
        "\n"
      ],
      "metadata": {
        "colab": {
          "base_uri": "https://localhost:8080/"
        },
        "id": "RAmoMYP6IJvI",
        "outputId": "b628a1b1-1aa7-458f-a68d-f047cf811af2"
      },
      "execution_count": null,
      "outputs": [
        {
          "output_type": "stream",
          "name": "stdout",
          "text": [
            "olleh\n"
          ]
        }
      ]
    }
  ]
}